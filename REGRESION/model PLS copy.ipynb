{
 "cells": [
  {
   "cell_type": "code",
   "execution_count": 15,
   "id": "91c8b453",
   "metadata": {},
   "outputs": [
    {
     "data": {
      "text/html": [
       "<div>\n",
       "<style scoped>\n",
       "    .dataframe tbody tr th:only-of-type {\n",
       "        vertical-align: middle;\n",
       "    }\n",
       "\n",
       "    .dataframe tbody tr th {\n",
       "        vertical-align: top;\n",
       "    }\n",
       "\n",
       "    .dataframe thead th {\n",
       "        text-align: right;\n",
       "    }\n",
       "</style>\n",
       "<table border=\"1\" class=\"dataframe\">\n",
       "  <thead>\n",
       "    <tr style=\"text-align: right;\">\n",
       "      <th></th>\n",
       "      <th>id</th>\n",
       "      <th>laptop_ID</th>\n",
       "      <th>Inches</th>\n",
       "      <th>Ram</th>\n",
       "      <th>Weight</th>\n",
       "      <th>Company_Apple</th>\n",
       "      <th>Company_Asus</th>\n",
       "      <th>Company_Chuwi</th>\n",
       "      <th>Company_Dell</th>\n",
       "      <th>Company_Fujitsu</th>\n",
       "      <th>...</th>\n",
       "      <th>INTEL_Xeon</th>\n",
       "      <th>Marca_GPU_NVIDIA</th>\n",
       "      <th>Marca_GPU_AMD</th>\n",
       "      <th>Marca_GPU_INTEL</th>\n",
       "      <th>NVIDIA_GEFORCE</th>\n",
       "      <th>NVIDIA_Quadro</th>\n",
       "      <th>NVIDIA_GTX</th>\n",
       "      <th>GPU_AMD_R</th>\n",
       "      <th>Intel_Iris</th>\n",
       "      <th>Price_euros</th>\n",
       "    </tr>\n",
       "  </thead>\n",
       "  <tbody>\n",
       "    <tr>\n",
       "      <th>0</th>\n",
       "      <td>268</td>\n",
       "      <td>1002</td>\n",
       "      <td>15.6</td>\n",
       "      <td>8</td>\n",
       "      <td>2.36</td>\n",
       "      <td>False</td>\n",
       "      <td>False</td>\n",
       "      <td>False</td>\n",
       "      <td>True</td>\n",
       "      <td>False</td>\n",
       "      <td>...</td>\n",
       "      <td>0</td>\n",
       "      <td>0</td>\n",
       "      <td>1</td>\n",
       "      <td>0</td>\n",
       "      <td>0</td>\n",
       "      <td>0</td>\n",
       "      <td>0</td>\n",
       "      <td>7</td>\n",
       "      <td>0</td>\n",
       "      <td>749.00</td>\n",
       "    </tr>\n",
       "    <tr>\n",
       "      <th>1</th>\n",
       "      <td>347</td>\n",
       "      <td>867</td>\n",
       "      <td>15.6</td>\n",
       "      <td>4</td>\n",
       "      <td>2.00</td>\n",
       "      <td>False</td>\n",
       "      <td>True</td>\n",
       "      <td>False</td>\n",
       "      <td>False</td>\n",
       "      <td>False</td>\n",
       "      <td>...</td>\n",
       "      <td>0</td>\n",
       "      <td>0</td>\n",
       "      <td>0</td>\n",
       "      <td>1</td>\n",
       "      <td>0</td>\n",
       "      <td>0</td>\n",
       "      <td>0</td>\n",
       "      <td>0</td>\n",
       "      <td>0</td>\n",
       "      <td>449.00</td>\n",
       "    </tr>\n",
       "    <tr>\n",
       "      <th>2</th>\n",
       "      <td>353</td>\n",
       "      <td>966</td>\n",
       "      <td>13.3</td>\n",
       "      <td>8</td>\n",
       "      <td>1.20</td>\n",
       "      <td>False</td>\n",
       "      <td>False</td>\n",
       "      <td>False</td>\n",
       "      <td>False</td>\n",
       "      <td>False</td>\n",
       "      <td>...</td>\n",
       "      <td>0</td>\n",
       "      <td>0</td>\n",
       "      <td>0</td>\n",
       "      <td>1</td>\n",
       "      <td>0</td>\n",
       "      <td>0</td>\n",
       "      <td>0</td>\n",
       "      <td>0</td>\n",
       "      <td>0</td>\n",
       "      <td>1460.00</td>\n",
       "    </tr>\n",
       "    <tr>\n",
       "      <th>3</th>\n",
       "      <td>578</td>\n",
       "      <td>767</td>\n",
       "      <td>15.6</td>\n",
       "      <td>16</td>\n",
       "      <td>4.42</td>\n",
       "      <td>False</td>\n",
       "      <td>False</td>\n",
       "      <td>False</td>\n",
       "      <td>True</td>\n",
       "      <td>False</td>\n",
       "      <td>...</td>\n",
       "      <td>0</td>\n",
       "      <td>1</td>\n",
       "      <td>0</td>\n",
       "      <td>0</td>\n",
       "      <td>1</td>\n",
       "      <td>0</td>\n",
       "      <td>1</td>\n",
       "      <td>0</td>\n",
       "      <td>0</td>\n",
       "      <td>2868.99</td>\n",
       "    </tr>\n",
       "    <tr>\n",
       "      <th>4</th>\n",
       "      <td>42</td>\n",
       "      <td>1241</td>\n",
       "      <td>12.5</td>\n",
       "      <td>8</td>\n",
       "      <td>1.26</td>\n",
       "      <td>False</td>\n",
       "      <td>False</td>\n",
       "      <td>False</td>\n",
       "      <td>True</td>\n",
       "      <td>False</td>\n",
       "      <td>...</td>\n",
       "      <td>0</td>\n",
       "      <td>0</td>\n",
       "      <td>0</td>\n",
       "      <td>1</td>\n",
       "      <td>0</td>\n",
       "      <td>0</td>\n",
       "      <td>0</td>\n",
       "      <td>0</td>\n",
       "      <td>0</td>\n",
       "      <td>1713.37</td>\n",
       "    </tr>\n",
       "    <tr>\n",
       "      <th>...</th>\n",
       "      <td>...</td>\n",
       "      <td>...</td>\n",
       "      <td>...</td>\n",
       "      <td>...</td>\n",
       "      <td>...</td>\n",
       "      <td>...</td>\n",
       "      <td>...</td>\n",
       "      <td>...</td>\n",
       "      <td>...</td>\n",
       "      <td>...</td>\n",
       "      <td>...</td>\n",
       "      <td>...</td>\n",
       "      <td>...</td>\n",
       "      <td>...</td>\n",
       "      <td>...</td>\n",
       "      <td>...</td>\n",
       "      <td>...</td>\n",
       "      <td>...</td>\n",
       "      <td>...</td>\n",
       "      <td>...</td>\n",
       "      <td>...</td>\n",
       "    </tr>\n",
       "    <tr>\n",
       "      <th>907</th>\n",
       "      <td>89</td>\n",
       "      <td>973</td>\n",
       "      <td>11.6</td>\n",
       "      <td>4</td>\n",
       "      <td>1.25</td>\n",
       "      <td>False</td>\n",
       "      <td>False</td>\n",
       "      <td>False</td>\n",
       "      <td>False</td>\n",
       "      <td>False</td>\n",
       "      <td>...</td>\n",
       "      <td>0</td>\n",
       "      <td>0</td>\n",
       "      <td>0</td>\n",
       "      <td>1</td>\n",
       "      <td>0</td>\n",
       "      <td>0</td>\n",
       "      <td>0</td>\n",
       "      <td>0</td>\n",
       "      <td>0</td>\n",
       "      <td>389.00</td>\n",
       "    </tr>\n",
       "    <tr>\n",
       "      <th>908</th>\n",
       "      <td>716</td>\n",
       "      <td>1018</td>\n",
       "      <td>13.3</td>\n",
       "      <td>4</td>\n",
       "      <td>1.20</td>\n",
       "      <td>False</td>\n",
       "      <td>False</td>\n",
       "      <td>False</td>\n",
       "      <td>False</td>\n",
       "      <td>False</td>\n",
       "      <td>...</td>\n",
       "      <td>0</td>\n",
       "      <td>0</td>\n",
       "      <td>0</td>\n",
       "      <td>1</td>\n",
       "      <td>0</td>\n",
       "      <td>0</td>\n",
       "      <td>0</td>\n",
       "      <td>0</td>\n",
       "      <td>0</td>\n",
       "      <td>1195.00</td>\n",
       "    </tr>\n",
       "    <tr>\n",
       "      <th>909</th>\n",
       "      <td>517</td>\n",
       "      <td>1071</td>\n",
       "      <td>15.6</td>\n",
       "      <td>8</td>\n",
       "      <td>2.40</td>\n",
       "      <td>False</td>\n",
       "      <td>False</td>\n",
       "      <td>False</td>\n",
       "      <td>False</td>\n",
       "      <td>False</td>\n",
       "      <td>...</td>\n",
       "      <td>0</td>\n",
       "      <td>0</td>\n",
       "      <td>1</td>\n",
       "      <td>0</td>\n",
       "      <td>0</td>\n",
       "      <td>0</td>\n",
       "      <td>0</td>\n",
       "      <td>5</td>\n",
       "      <td>0</td>\n",
       "      <td>449.00</td>\n",
       "    </tr>\n",
       "    <tr>\n",
       "      <th>910</th>\n",
       "      <td>891</td>\n",
       "      <td>965</td>\n",
       "      <td>14.0</td>\n",
       "      <td>8</td>\n",
       "      <td>1.36</td>\n",
       "      <td>False</td>\n",
       "      <td>False</td>\n",
       "      <td>False</td>\n",
       "      <td>True</td>\n",
       "      <td>False</td>\n",
       "      <td>...</td>\n",
       "      <td>0</td>\n",
       "      <td>0</td>\n",
       "      <td>0</td>\n",
       "      <td>1</td>\n",
       "      <td>0</td>\n",
       "      <td>0</td>\n",
       "      <td>0</td>\n",
       "      <td>0</td>\n",
       "      <td>0</td>\n",
       "      <td>1775.00</td>\n",
       "    </tr>\n",
       "    <tr>\n",
       "      <th>911</th>\n",
       "      <td>1179</td>\n",
       "      <td>1313</td>\n",
       "      <td>15.6</td>\n",
       "      <td>8</td>\n",
       "      <td>2.30</td>\n",
       "      <td>False</td>\n",
       "      <td>False</td>\n",
       "      <td>False</td>\n",
       "      <td>True</td>\n",
       "      <td>False</td>\n",
       "      <td>...</td>\n",
       "      <td>0</td>\n",
       "      <td>0</td>\n",
       "      <td>1</td>\n",
       "      <td>0</td>\n",
       "      <td>0</td>\n",
       "      <td>0</td>\n",
       "      <td>0</td>\n",
       "      <td>5</td>\n",
       "      <td>0</td>\n",
       "      <td>805.99</td>\n",
       "    </tr>\n",
       "  </tbody>\n",
       "</table>\n",
       "<p>912 rows × 66 columns</p>\n",
       "</div>"
      ],
      "text/plain": [
       "       id  laptop_ID  Inches  Ram  Weight  Company_Apple  Company_Asus  \\\n",
       "0     268       1002    15.6    8    2.36          False         False   \n",
       "1     347        867    15.6    4    2.00          False          True   \n",
       "2     353        966    13.3    8    1.20          False         False   \n",
       "3     578        767    15.6   16    4.42          False         False   \n",
       "4      42       1241    12.5    8    1.26          False         False   \n",
       "..    ...        ...     ...  ...     ...            ...           ...   \n",
       "907    89        973    11.6    4    1.25          False         False   \n",
       "908   716       1018    13.3    4    1.20          False         False   \n",
       "909   517       1071    15.6    8    2.40          False         False   \n",
       "910   891        965    14.0    8    1.36          False         False   \n",
       "911  1179       1313    15.6    8    2.30          False         False   \n",
       "\n",
       "     Company_Chuwi  Company_Dell  Company_Fujitsu  ...  INTEL_Xeon  \\\n",
       "0            False          True            False  ...           0   \n",
       "1            False         False            False  ...           0   \n",
       "2            False         False            False  ...           0   \n",
       "3            False          True            False  ...           0   \n",
       "4            False          True            False  ...           0   \n",
       "..             ...           ...              ...  ...         ...   \n",
       "907          False         False            False  ...           0   \n",
       "908          False         False            False  ...           0   \n",
       "909          False         False            False  ...           0   \n",
       "910          False          True            False  ...           0   \n",
       "911          False          True            False  ...           0   \n",
       "\n",
       "     Marca_GPU_NVIDIA  Marca_GPU_AMD  Marca_GPU_INTEL  NVIDIA_GEFORCE  \\\n",
       "0                   0              1                0               0   \n",
       "1                   0              0                1               0   \n",
       "2                   0              0                1               0   \n",
       "3                   1              0                0               1   \n",
       "4                   0              0                1               0   \n",
       "..                ...            ...              ...             ...   \n",
       "907                 0              0                1               0   \n",
       "908                 0              0                1               0   \n",
       "909                 0              1                0               0   \n",
       "910                 0              0                1               0   \n",
       "911                 0              1                0               0   \n",
       "\n",
       "     NVIDIA_Quadro  NVIDIA_GTX  GPU_AMD_R  Intel_Iris  Price_euros  \n",
       "0                0           0          7           0       749.00  \n",
       "1                0           0          0           0       449.00  \n",
       "2                0           0          0           0      1460.00  \n",
       "3                0           1          0           0      2868.99  \n",
       "4                0           0          0           0      1713.37  \n",
       "..             ...         ...        ...         ...          ...  \n",
       "907              0           0          0           0       389.00  \n",
       "908              0           0          0           0      1195.00  \n",
       "909              0           0          5           0       449.00  \n",
       "910              0           0          0           0      1775.00  \n",
       "911              0           0          5           0       805.99  \n",
       "\n",
       "[912 rows x 66 columns]"
      ]
     },
     "execution_count": 15,
     "metadata": {},
     "output_type": "execute_result"
    }
   ],
   "source": [
    "import pandas as pd\n",
    "df=pd.read_csv(\"df_train_corr.csv\")\n",
    "s=df.columns\n",
    "df# saco csv"
   ]
  },
  {
   "cell_type": "code",
   "execution_count": null,
   "id": "ae3ec5b8",
   "metadata": {},
   "outputs": [],
   "source": []
  },
  {
   "cell_type": "code",
   "execution_count": 16,
   "id": "10e77a5a",
   "metadata": {},
   "outputs": [
    {
     "data": {
      "text/plain": [
       "<Axes: >"
      ]
     },
     "execution_count": 16,
     "metadata": {},
     "output_type": "execute_result"
    },
    {
     "data": {
      "image/png": "[encoded data removed]",
      "text/plain": [
       "<Figure size 1500x1500 with 2 Axes>"
      ]
     },
     "metadata": {},
     "output_type": "display_data"
    }
   ],
   "source": [
    "import seaborn as sns\n",
    "\n",
    "import matplotlib.pyplot as plt\n",
    "corr=df.corr()[['Price_euros']]\n",
    "corr\n",
    "plt.figure(figsize=(15,15))\n",
    "sns.heatmap(corr[['Price_euros']].sort_values(by='Price_euros', ascending=False), annot=True)\n",
    "# miro la correlacion dcon los euros"
   ]
  },
  {
   "cell_type": "code",
   "execution_count": 17,
   "id": "b0b75278",
   "metadata": {},
   "outputs": [
    {
     "data": {
      "text/plain": [
       "Index(['id', 'laptop_ID', 'Inches', 'Ram', 'Weight', 'Company_Apple',\n",
       "       'Company_Asus', 'Company_Chuwi', 'Company_Dell', 'Company_Fujitsu',\n",
       "       'Company_Google', 'Company_HP', 'Company_Huawei', 'Company_LG',\n",
       "       'Company_Lenovo', 'Company_MSI', 'Company_Mediacom',\n",
       "       'Company_Microsoft', 'Company_Razer', 'Company_Samsung',\n",
       "       'Company_Toshiba', 'Company_Vero', 'Company_Xiaomi', 'TypeName_Gaming',\n",
       "       'TypeName_Netbook', 'TypeName_Notebook', 'TypeName_Ultrabook',\n",
       "       'TypeName_Workstation', 'OpSys_Chrome OS', 'OpSys_Linux',\n",
       "       'OpSys_Mac OS X', 'OpSys_No OS', 'OpSys_Windows 10',\n",
       "       'OpSys_Windows 10 S', 'OpSys_Windows 7', 'OpSys_macOS', 'Touch', 'IPS',\n",
       "       '4K', 'HD', 'HDD', 'SSD', 'Flash_Storage', 'Hybrid', 'GHz',\n",
       "       'Marca_Intel', 'Marca_AMD', 'CPU_Generacion', 'Gen_AMD', 'Gen_AMD_E',\n",
       "       'Gen_AMD_Ryzen', 'Gen_AMD_FX', 'Gen_INTEL', 'INTEL_ATOM',\n",
       "       'INTEL_Celerium', 'INTEL_Pentium', 'INTEL_Xeon', 'Marca_GPU_NVIDIA',\n",
       "       'Marca_GPU_AMD', 'Marca_GPU_INTEL', 'NVIDIA_GEFORCE', 'NVIDIA_Quadro',\n",
       "       'NVIDIA_GTX', 'GPU_AMD_R', 'Intel_Iris', 'Price_euros'],\n",
       "      dtype='object')"
      ]
     },
     "execution_count": 17,
     "metadata": {},
     "output_type": "execute_result"
    }
   ],
   "source": [
    "s"
   ]
  },
  {
   "cell_type": "code",
   "execution_count": 18,
   "id": "2246a9f3",
   "metadata": {},
   "outputs": [
    {
     "data": {
      "text/plain": [
       "66"
      ]
     },
     "execution_count": 18,
     "metadata": {},
     "output_type": "execute_result"
    }
   ],
   "source": [
    "len(s)"
   ]
  },
  {
   "cell_type": "code",
   "execution_count": 19,
   "id": "30b39b00",
   "metadata": {},
   "outputs": [
    {
     "data": {
      "text/plain": [
       "Index(['Ram', 'Weight', 'Company_MSI', 'Company_Razer', 'TypeName_Gaming',\n",
       "       'TypeName_Notebook', 'TypeName_Ultrabook', 'TypeName_Workstation',\n",
       "       'OpSys_Linux', 'OpSys_No OS', 'OpSys_Windows 7', 'Touch', 'IPS', '4K',\n",
       "       'HD', 'SSD', 'GHz', 'Marca_Intel', 'Marca_AMD', 'Gen_INTEL',\n",
       "       'INTEL_Celerium', 'INTEL_Pentium', 'INTEL_Xeon', 'Marca_GPU_NVIDIA',\n",
       "       'Marca_GPU_AMD', 'Marca_GPU_INTEL', 'NVIDIA_GEFORCE', 'NVIDIA_Quadro',\n",
       "       'NVIDIA_GTX', 'GPU_AMD_R', 'Price_euros'],\n",
       "      dtype='object')"
      ]
     },
     "execution_count": 19,
     "metadata": {},
     "output_type": "execute_result"
    }
   ],
   "source": [
    "corr[corr[\"Price_euros\"].abs()>0.14].index\n",
    "# solo saco las columnas de mas de 0,2"
   ]
  },
  {
   "cell_type": "code",
   "execution_count": 20,
   "id": "1bb8599d",
   "metadata": {},
   "outputs": [],
   "source": [
    "Feeatures=[ 'Ram', 'Weight', 'Company_Razer', 'TypeName_Gaming',\n",
    "       'TypeName_Notebook', 'TypeName_Ultrabook', 'TypeName_Workstation',\n",
    "       'IPS', '4K', 'SSD', 'GHz', 'Gen_INTEL', 'INTEL_Celerium', 'INTEL_Xeon',\n",
    "       'Marca_GPU_NVIDIA', 'Marca_GPU_INTEL', 'NVIDIA_GEFORCE',\n",
    "       'NVIDIA_Quadro', 'NVIDIA_GTX']\n",
    "X=df[Feeatures]\n",
    "# X=df.drop(\"Price_euros\", axis=1)\n",
    "y=df[\"Price_euros\"]\n",
    "from sklearn.linear_model import LinearRegression\n",
    "from sklearn.model_selection import train_test_split\n",
    "#split\n",
    "\n",
    "X_train, X_test, y_train, y_test = train_test_split(X, y, test_size = 0.20, random_state = 24)\n"
   ]
  },
  {
   "cell_type": "code",
   "execution_count": 21,
   "id": "04b2ad5a",
   "metadata": {},
   "outputs": [
    {
     "data": {
      "text/plain": [
       "19"
      ]
     },
     "execution_count": 21,
     "metadata": {},
     "output_type": "execute_result"
    }
   ],
   "source": [
    "len(Feeatures)"
   ]
  },
  {
   "cell_type": "code",
   "execution_count": 22,
   "id": "41dea8a8",
   "metadata": {},
   "outputs": [],
   "source": [
    "import sklearn\n",
    "from sklearn.cross_decomposition import PLSRegression\n",
    "#importo\n",
    "# saco una ecuacion\n",
    "pls2=sklearn.cross_decomposition.PLSRegression(n_components=6,  scale=True, max_iter=500, tol=1e-06, copy=True)\n",
    "pls2.fit(X, y)\n",
    "\n",
    "y_pred = pls2.predict(X_test)\n"
   ]
  },
  {
   "cell_type": "code",
   "execution_count": 23,
   "id": "03ad8a04",
   "metadata": {},
   "outputs": [
    {
     "data": {
      "text/plain": [
       "(183,)"
      ]
     },
     "execution_count": 23,
     "metadata": {},
     "output_type": "execute_result"
    }
   ],
   "source": [
    "y_pred.shape"
   ]
  },
  {
   "cell_type": "code",
   "execution_count": 24,
   "id": "5d0d831d",
   "metadata": {},
   "outputs": [
    {
     "name": "stdout",
     "output_type": "stream",
     "text": [
      "R2 train 0.7929209526898885\n",
      "R2 test 0.7370085811761116\n",
      "cross_val 0.760612509990964\n"
     ]
    },
    {
     "data": {
      "text/plain": [
       "np.float64(259.14395750624425)"
      ]
     },
     "execution_count": 24,
     "metadata": {},
     "output_type": "execute_result"
    },
    {
     "data": {
      "image/png": "[encoded data removed]",
      "text/plain": [
       "<Figure size 640x480 with 1 Axes>"
      ]
     },
     "metadata": {},
     "output_type": "display_data"
    }
   ],
   "source": [
    "import seaborn as sns\n",
    "sns.scatterplot( x=y_test,y= y_pred)\n",
    "from sklearn.model_selection import cross_validate\n",
    "from sklearn.metrics import mean_absolute_error\n",
    "import numpy as np\n",
    "\n",
    "print(\"R2 train\", pls2.score(X_train, y_train))\n",
    "print(\"R2 test\",pls2.score(X_test, y_test))\n",
    "print(\"cross_val\", cross_validate(pls2, X_train, y_train, cv=5)[\"test_score\"].mean())\n",
    "mean_absolute_error(y_test, y_pred)"
   ]
  },
  {
   "cell_type": "code",
   "execution_count": 25,
   "id": "babc0a4b",
   "metadata": {},
   "outputs": [
    {
     "data": {
      "application/vnd.plotly.v1+json": {
       "config": {
        "linkText": "Export to plot.ly",
        "plotlyServerURL": "https://plot.ly",
        "showLink": false
       },
       "data": [
        {
         "marker": {
          "color": "rgba(16, 112, 2, 0.8)"
         },
         "mode": "markers",
         "name": "citations",
         "type": "scatter",
         "x": {
          "bdata": "AAAAAABQeEAAAAAAAEBwQAAAAAAAuIRAAAAAAADgg0AAAAAAAEyUQAAAAAAACItAFK5H4fpppkAAAAAAACCXQAAAAAAA4IpAmpmZmZlTm0AAAAAAAFyYQAAAAAAAAI1AAAAAAACsnUAAAAAAALB3QGZmZmZmvntAAAAAAACskkAAAAAAADiKQAAAAAAAMHVAAAAAAADQfkAAAAAAAIySQDMzMzMze3xArkfhehSoiEAAAAAAAHiLQAAAAAAApJ9AKVyPwvUMk0AAAAAAAKamQNejcD2KiadAAAAAAABomkAAAAAAAFB4QAAAAAAAFqVAAAAAAACYjkAAAAAAAPSRQAAAAAAAyIlAAAAAAADAdUAAAAAAADiPQAAAAAAAHJdAAAAAAACwk0AAAAAAABB3QEjhehSudZtAAAAAAADYjUAAAAAAAPibQAAAAAAAyIhAAAAAAAA4j0AAAAAAALiVQAAAAAAAkIZAAAAAAACweEAAAAAAAABxQArXo3A97n1AAAAAAAAAc0AAAAAAADBxQAAAAAAArJ1AAAAAAAD4jUAAAAAAADiDQAAAAAAAyIRAAAAAAADgaEDsUbgehVGCQAAAAAAACI5AAAAAAADknEAAAAAAACyRQAAAAAAAFJVAAAAAAABojkDNzMzMzCGgQAAAAAAALJJAAAAAAABYm0AAAAAAAFarQAAAAAAA2IBAAAAAAAAskUAAAAAAABycQAAAAAAA+IFAAAAAAADYgkAAAAAAAJ6kQAAAAAAA2I1AAAAAAAB4gUAAAAAAAFiIQAAAAAAAYHhAAAAAAADEmUAAAAAAADiDQAAAAAAAMINAj8L1KFyVoUAAAAAAAPyYQPYoXI/C7pRAZmZmZmb+h0AAAAAAAOiOQAAAAAAATJRAzczMzMybkEAAAAAAAIajQAAAAAAA+JhAAAAAAADckEAAAAAAAPyYQAAAAAAAkHRAAAAAAAAElkAAAAAAAFB9QJqZmZmZZ5VAAAAAAAD0kEAAAAAAAFSbQAAAAAAA9JZAAAAAAABIh0AAAAAAAJSSQAAAAAAAyI5A7FG4HoWLb0AAAAAAABiMQAAAAAAAWIhAAAAAAAAIg0AAAAAAAN6lQAAAAAAAqI1AAAAAAADAe0AAAAAAAGiXQAAAAAAA0H9AAAAAAAAgakBmZmZmZp5+QAAAAAAAxJlAAAAAAADwg0BSuB6F67eCQDMzMzMzAYFAAAAAAAA4ikAAAAAAABSVQAAAAAAAkHBAAAAAAAACoEAAAAAAAMiWQAAAAAAAOI9AAAAAAADslEAAAAAAAPiBQAAAAAAAGIxAAAAAAACskkAAAAAAAGycQAAAAAAAUHRAAAAAAADokkAAAAAAABycQGZmZmZmvnxAAAAAAABUm0BmZmZm5vGhQAAAAAAAQHRAAAAAAAC8kkAAAAAAACqiQFK4HoXrr4VAAAAAAAAAiUAAAAAAAEyUQAAAAAAAKIFAAAAAAACUnEAAAAAAAIajQAAAAAAAUHhAKVyPwvVcoEAAAAAAABiHQAAAAAAAqJtAAAAAAAAcnED2KFyPwlmQQAAAAAAAEKZAAAAAAAAYhUAAAAAAAASVQAAAAAAA4JBAZmZmZmZmhUAAAAAAAJCbQAAAAAAA2IVAAAAAAAA0mEAAAAAAADiPQAAAAAAA0HpApHA9CtfveEAAAAAAAMiLQAAAAAAAHJxAAAAAAABIgkAAAAAAAEaiQAAAAAAAsIpAAAAAAADAeUAAAAAAADSdQAAAAAAAiIVAAAAAAACQfkAAAAAAANuRQM3MzMzMKoVAZmZmZmYuf0AAAAAAAFB4QAAAAAAAJJ9AAAAAAAAio0AAAAAAANyQQAAAAAAAbJdAZmZmZubSo0AAAAAAAACZQAAAAAAAkHJAAAAAAAAAikDNzMzMzPxnQAAAAAAAsHxAAAAAAADAkkAAAAAAAJiJQAAAAAAA6I5A",
          "dtype": "f8"
         },
         "y": {
          "bdata": "ezQb3b/bgUC2LBbqM69wQHtt4jKKko9APFZbMvtHhkC65+vVdIqcQMUrY+hIQYtAehQKi7ADokCB+6g58n+SQKC38dYog41ADXFPFGRmoEALOa6Yo9WSQJMPkZjHeZNAULUZN7Zhm0AYmaDpbepsQAkbrfY30YBAlVeOqQsihUC/mtDEhiSLQJZ0aHQgiXBAOjCiaM1Mh0BHgCyQ+A+TQPaaLIQDEXlAWoI27SIPlUB5MRGqUjqUQNufhuASdJhAGhN13cAAlUDmRgX3e2eWQDQfRs2oh51A3lGGuBABmEAi0mMiOtOGQGBTAtwgNZ9ANOQBkTVzikAFOANrP5OWQD/ON1OLeodAEPoz9GcEcUDGgeZNz9CVQBzj3h8dKZxA9acf/DxClUCk0j7tiKh0QIM3DsMiGZVAaxbFHufrlEACXDAwdpmaQADRarlA5I1ACu3zGjEmmkCbw4d4cXGRQBWQsZ16XIJAApS9Zi7id0DUwnLOVbR2QItleyttnYBAsjpig7L2c0DuKywW8GdxQKxzcaU5nZpAKPyCXLt7hEB0Qv2NGA15QBXgbp12S41A+O/0DTkmWEBAs3Te3guLQA5Q5F9KDIlA8niBcgZhm0CtYXJT44WZQINEzA1zDpZAcc3CCMHmkEDtQEY2okCiQMphGWEEv4tApDtyvOlvmEB8alWFzLOpQJbMFzC+l35AHEFhnCOolECm2wLmvT6iQBaXOqh86ntACwQ95jhBgUASk6gF/0WpQOdDfHVMropAKFBOgvihikAZ+mjaROqUQAtM9Snon4BAjuS56/odk0BGFqNyfhJzQPaaLIQDEXlA6rWmmqnVk0Ag3NsKte+WQCFP19Ma9JRA5kTs9rdvjUCg8SpWf2qLQHYN15OKh5ZAwAmJCOSSkEDuvBSrQaygQJrKOgbFQZxAfJ9kQ2PlnEBXM2nPPn+XQFy9dOoEOG1AVxAQ//pglECqEZ1usop8QJ6u7gqQN5VA+LTilrGwiEC0mEBACIygQB65BSwTPo9AND+WW2o5kECoJMzcExWFQBgf1pbQTJRAHO+c9NgNcEBYVpt5VSyVQJjLv5ib+oZAiDsmxcjagEDFVOlWummnQAN/gXMDR4tAd9/LJGyTh0BoFyOp4W+eQH4KdPPwiodAQimtNRXndEALTPUp6J+AQPhMoRnGBphA4M0ooqWFkEDtqEN4RJOQQDKB08E+JohAvhhbxkCAjEBztNm/NxyVQO6PTdmQxnlAwJmx6BbOlEB4OdLVFHmXQE14PLiAc5JACOGvi8UCm0COx1CYcnSQQEjJ3dLlk4lAlVeOqQsihUBiki4t2jqcQEwsrm6USXFAPI4m/zhpj0DeB1VGIQScQI5pyK7wC3FARAux2DfJnUDy009T8x6XQL6YOPwaFnhAwZVy7YHmjUDI4YzqMGOcQBeNN0OysItAk3x74XFrgEDk7TE/vgOWQCU8yT3TkoZAnpfFonn8kEBwaqIj94ObQMyrybsOAn9ASN6wJmQsm0Aj7r0bmASLQNjg52GBopNAVAG6fgzjlkDQQiHW52+KQNrnZwO2RaJAMrwH+urjg0Dhh5/buTOQQGgFFmXAUY5AJiJib7zCikAJOA36vr6fQMIDjU0/IYdA2siflrctmEA/dK8RDB2TQBircjRcR4RAsjpig7L2c0DabkrfE+aMQLNjKzjjA49AOl2erjPGgEBvZ/tWbqmUQJft54ReII5AYrRtR9j6g0AWU/MnEnqUQB6UBr6CDoVAJUSPms6lgUD4Is8LdfWJQOKM+DTLmYpA6RE18LVKg0C9cTUdHJ6BQDoJ64GkF6VATp3EXI7um0BztNm/NxyVQFQBun4M45ZAq9m0kFU1oEB8n2RDY+WcQMyrybsOAn9A/EznBuMkkEDidaREl2d2QGbPd9ZieIVARkkVfWmpkEAhyZiMYt+QQPquBDCol5RA",
          "dtype": "f8"
         }
        }
       ],
       "layout": {
        "template": {
         "data": {
          "bar": [
           {
            "error_x": {
             "color": "#2a3f5f"
            },
            "error_y": {
             "color": "#2a3f5f"
            },
            "marker": {
             "line": {
              "color": "#E5ECF6",
              "width": 0.5
             },
             "pattern": {
              "fillmode": "overlay",
              "size": 10,
              "solidity": 0.2
             }
            },
            "type": "bar"
           }
          ],
          "barpolar": [
           {
            "marker": {
             "line": {
              "color": "#E5ECF6",
              "width": 0.5
             },
             "pattern": {
              "fillmode": "overlay",
              "size": 10,
              "solidity": 0.2
             }
            },
            "type": "barpolar"
           }
          ],
          "carpet": [
           {
            "aaxis": {
             "endlinecolor": "#2a3f5f",
             "gridcolor": "white",
             "linecolor": "white",
             "minorgridcolor": "white",
             "startlinecolor": "#2a3f5f"
            },
            "baxis": {
             "endlinecolor": "#2a3f5f",
             "gridcolor": "white",
             "linecolor": "white",
             "minorgridcolor": "white",
             "startlinecolor": "#2a3f5f"
            },
            "type": "carpet"
           }
          ],
          "choropleth": [
           {
            "colorbar": {
             "outlinewidth": 0,
             "ticks": ""
            },
            "type": "choropleth"
           }
          ],
          "contour": [
           {
            "colorbar": {
             "outlinewidth": 0,
             "ticks": ""
            },
            "colorscale": [
             [
              0,
              "#0d0887"
             ],
             [
              0.1111111111111111,
              "#46039f"
             ],
             [
              0.2222222222222222,
              "#7201a8"
             ],
             [
              0.3333333333333333,
              "#9c179e"
             ],
             [
              0.4444444444444444,
              "#bd3786"
             ],
             [
              0.5555555555555556,
              "#d8576b"
             ],
             [
              0.6666666666666666,
              "#ed7953"
             ],
             [
              0.7777777777777778,
              "#fb9f3a"
             ],
             [
              0.8888888888888888,
              "#fdca26"
             ],
             [
              1,
              "#f0f921"
             ]
            ],
            "type": "contour"
           }
          ],
          "contourcarpet": [
           {
            "colorbar": {
             "outlinewidth": 0,
             "ticks": ""
            },
            "type": "contourcarpet"
           }
          ],
          "heatmap": [
           {
            "colorbar": {
             "outlinewidth": 0,
             "ticks": ""
            },
            "colorscale": [
             [
              0,
              "#0d0887"
             ],
             [
              0.1111111111111111,
              "#46039f"
             ],
             [
              0.2222222222222222,
              "#7201a8"
             ],
             [
              0.3333333333333333,
              "#9c179e"
             ],
             [
              0.4444444444444444,
              "#bd3786"
             ],
             [
              0.5555555555555556,
              "#d8576b"
             ],
             [
              0.6666666666666666,
              "#ed7953"
             ],
             [
              0.7777777777777778,
              "#fb9f3a"
             ],
             [
              0.8888888888888888,
              "#fdca26"
             ],
             [
              1,
              "#f0f921"
             ]
            ],
            "type": "heatmap"
           }
          ],
          "histogram": [
           {
            "marker": {
             "pattern": {
              "fillmode": "overlay",
              "size": 10,
              "solidity": 0.2
             }
            },
            "type": "histogram"
           }
          ],
          "histogram2d": [
           {
            "colorbar": {
             "outlinewidth": 0,
             "ticks": ""
            },
            "colorscale": [
             [
              0,
              "#0d0887"
             ],
             [
              0.1111111111111111,
              "#46039f"
             ],
             [
              0.2222222222222222,
              "#7201a8"
             ],
             [
              0.3333333333333333,
              "#9c179e"
             ],
             [
              0.4444444444444444,
              "#bd3786"
             ],
             [
              0.5555555555555556,
              "#d8576b"
             ],
             [
              0.6666666666666666,
              "#ed7953"
             ],
             [
              0.7777777777777778,
              "#fb9f3a"
             ],
             [
              0.8888888888888888,
              "#fdca26"
             ],
             [
              1,
              "#f0f921"
             ]
            ],
            "type": "histogram2d"
           }
          ],
          "histogram2dcontour": [
           {
            "colorbar": {
             "outlinewidth": 0,
             "ticks": ""
            },
            "colorscale": [
             [
              0,
              "#0d0887"
             ],
             [
              0.1111111111111111,
              "#46039f"
             ],
             [
              0.2222222222222222,
              "#7201a8"
             ],
             [
              0.3333333333333333,
              "#9c179e"
             ],
             [
              0.4444444444444444,
              "#bd3786"
             ],
             [
              0.5555555555555556,
              "#d8576b"
             ],
             [
              0.6666666666666666,
              "#ed7953"
             ],
             [
              0.7777777777777778,
              "#fb9f3a"
             ],
             [
              0.8888888888888888,
              "#fdca26"
             ],
             [
              1,
              "#f0f921"
             ]
            ],
            "type": "histogram2dcontour"
           }
          ],
          "mesh3d": [
           {
            "colorbar": {
             "outlinewidth": 0,
             "ticks": ""
            },
            "type": "mesh3d"
           }
          ],
          "parcoords": [
           {
            "line": {
             "colorbar": {
              "outlinewidth": 0,
              "ticks": ""
             }
            },
            "type": "parcoords"
           }
          ],
          "pie": [
           {
            "automargin": true,
            "type": "pie"
           }
          ],
          "scatter": [
           {
            "fillpattern": {
             "fillmode": "overlay",
             "size": 10,
             "solidity": 0.2
            },
            "type": "scatter"
           }
          ],
          "scatter3d": [
           {
            "line": {
             "colorbar": {
              "outlinewidth": 0,
              "ticks": ""
             }
            },
            "marker": {
             "colorbar": {
              "outlinewidth": 0,
              "ticks": ""
             }
            },
            "type": "scatter3d"
           }
          ],
          "scattercarpet": [
           {
            "marker": {
             "colorbar": {
              "outlinewidth": 0,
              "ticks": ""
             }
            },
            "type": "scattercarpet"
           }
          ],
          "scattergeo": [
           {
            "marker": {
             "colorbar": {
              "outlinewidth": 0,
              "ticks": ""
             }
            },
            "type": "scattergeo"
           }
          ],
          "scattergl": [
           {
            "marker": {
             "colorbar": {
              "outlinewidth": 0,
              "ticks": ""
             }
            },
            "type": "scattergl"
           }
          ],
          "scattermap": [
           {
            "marker": {
             "colorbar": {
              "outlinewidth": 0,
              "ticks": ""
             }
            },
            "type": "scattermap"
           }
          ],
          "scattermapbox": [
           {
            "marker": {
             "colorbar": {
              "outlinewidth": 0,
              "ticks": ""
             }
            },
            "type": "scattermapbox"
           }
          ],
          "scatterpolar": [
           {
            "marker": {
             "colorbar": {
              "outlinewidth": 0,
              "ticks": ""
             }
            },
            "type": "scatterpolar"
           }
          ],
          "scatterpolargl": [
           {
            "marker": {
             "colorbar": {
              "outlinewidth": 0,
              "ticks": ""
             }
            },
            "type": "scatterpolargl"
           }
          ],
          "scatterternary": [
           {
            "marker": {
             "colorbar": {
              "outlinewidth": 0,
              "ticks": ""
             }
            },
            "type": "scatterternary"
           }
          ],
          "surface": [
           {
            "colorbar": {
             "outlinewidth": 0,
             "ticks": ""
            },
            "colorscale": [
             [
              0,
              "#0d0887"
             ],
             [
              0.1111111111111111,
              "#46039f"
             ],
             [
              0.2222222222222222,
              "#7201a8"
             ],
             [
              0.3333333333333333,
              "#9c179e"
             ],
             [
              0.4444444444444444,
              "#bd3786"
             ],
             [
              0.5555555555555556,
              "#d8576b"
             ],
             [
              0.6666666666666666,
              "#ed7953"
             ],
             [
              0.7777777777777778,
              "#fb9f3a"
             ],
             [
              0.8888888888888888,
              "#fdca26"
             ],
             [
              1,
              "#f0f921"
             ]
            ],
            "type": "surface"
           }
          ],
          "table": [
           {
            "cells": {
             "fill": {
              "color": "#EBF0F8"
             },
             "line": {
              "color": "white"
             }
            },
            "header": {
             "fill": {
              "color": "#C8D4E3"
             },
             "line": {
              "color": "white"
             }
            },
            "type": "table"
           }
          ]
         },
         "layout": {
          "annotationdefaults": {
           "arrowcolor": "#2a3f5f",
           "arrowhead": 0,
           "arrowwidth": 1
          },
          "autotypenumbers": "strict",
          "coloraxis": {
           "colorbar": {
            "outlinewidth": 0,
            "ticks": ""
           }
          },
          "colorscale": {
           "diverging": [
            [
             0,
             "#8e0152"
            ],
            [
             0.1,
             "#c51b7d"
            ],
            [
             0.2,
             "#de77ae"
            ],
            [
             0.3,
             "#f1b6da"
            ],
            [
             0.4,
             "#fde0ef"
            ],
            [
             0.5,
             "#f7f7f7"
            ],
            [
             0.6,
             "#e6f5d0"
            ],
            [
             0.7,
             "#b8e186"
            ],
            [
             0.8,
             "#7fbc41"
            ],
            [
             0.9,
             "#4d9221"
            ],
            [
             1,
             "#276419"
            ]
           ],
           "sequential": [
            [
             0,
             "#0d0887"
            ],
            [
             0.1111111111111111,
             "#46039f"
            ],
            [
             0.2222222222222222,
             "#7201a8"
            ],
            [
             0.3333333333333333,
             "#9c179e"
            ],
            [
             0.4444444444444444,
             "#bd3786"
            ],
            [
             0.5555555555555556,
             "#d8576b"
            ],
            [
             0.6666666666666666,
             "#ed7953"
            ],
            [
             0.7777777777777778,
             "#fb9f3a"
            ],
            [
             0.8888888888888888,
             "#fdca26"
            ],
            [
             1,
             "#f0f921"
            ]
           ],
           "sequentialminus": [
            [
             0,
             "#0d0887"
            ],
            [
             0.1111111111111111,
             "#46039f"
            ],
            [
             0.2222222222222222,
             "#7201a8"
            ],
            [
             0.3333333333333333,
             "#9c179e"
            ],
            [
             0.4444444444444444,
             "#bd3786"
            ],
            [
             0.5555555555555556,
             "#d8576b"
            ],
            [
             0.6666666666666666,
             "#ed7953"
            ],
            [
             0.7777777777777778,
             "#fb9f3a"
            ],
            [
             0.8888888888888888,
             "#fdca26"
            ],
            [
             1,
             "#f0f921"
            ]
           ]
          },
          "colorway": [
           "#636efa",
           "#EF553B",
           "#00cc96",
           "#ab63fa",
           "#FFA15A",
           "#19d3f3",
           "#FF6692",
           "#B6E880",
           "#FF97FF",
           "#FECB52"
          ],
          "font": {
           "color": "#2a3f5f"
          },
          "geo": {
           "bgcolor": "white",
           "lakecolor": "white",
           "landcolor": "#E5ECF6",
           "showlakes": true,
           "showland": true,
           "subunitcolor": "white"
          },
          "hoverlabel": {
           "align": "left"
          },
          "hovermode": "closest",
          "mapbox": {
           "style": "light"
          },
          "paper_bgcolor": "white",
          "plot_bgcolor": "#E5ECF6",
          "polar": {
           "angularaxis": {
            "gridcolor": "white",
            "linecolor": "white",
            "ticks": ""
           },
           "bgcolor": "#E5ECF6",
           "radialaxis": {
            "gridcolor": "white",
            "linecolor": "white",
            "ticks": ""
           }
          },
          "scene": {
           "xaxis": {
            "backgroundcolor": "#E5ECF6",
            "gridcolor": "white",
            "gridwidth": 2,
            "linecolor": "white",
            "showbackground": true,
            "ticks": "",
            "zerolinecolor": "white"
           },
           "yaxis": {
            "backgroundcolor": "#E5ECF6",
            "gridcolor": "white",
            "gridwidth": 2,
            "linecolor": "white",
            "showbackground": true,
            "ticks": "",
            "zerolinecolor": "white"
           },
           "zaxis": {
            "backgroundcolor": "#E5ECF6",
            "gridcolor": "white",
            "gridwidth": 2,
            "linecolor": "white",
            "showbackground": true,
            "ticks": "",
            "zerolinecolor": "white"
           }
          },
          "shapedefaults": {
           "line": {
            "color": "#2a3f5f"
           }
          },
          "ternary": {
           "aaxis": {
            "gridcolor": "white",
            "linecolor": "white",
            "ticks": ""
           },
           "baxis": {
            "gridcolor": "white",
            "linecolor": "white",
            "ticks": ""
           },
           "bgcolor": "#E5ECF6",
           "caxis": {
            "gridcolor": "white",
            "linecolor": "white",
            "ticks": ""
           }
          },
          "title": {
           "x": 0.05
          },
          "xaxis": {
           "automargin": true,
           "gridcolor": "white",
           "linecolor": "white",
           "ticks": "",
           "title": {
            "standoff": 15
           },
           "zerolinecolor": "white",
           "zerolinewidth": 2
          },
          "yaxis": {
           "automargin": true,
           "gridcolor": "white",
           "linecolor": "white",
           "ticks": "",
           "title": {
            "standoff": 15
           },
           "zerolinecolor": "white",
           "zerolinewidth": 2
          }
         }
        },
        "title": {
         "text": "Modelo lineal"
        },
        "xaxis": {
         "ticklen": 5,
         "title": {
          "text": "Precio real"
         }
        },
        "yaxis": {
         "ticklen": 5,
         "title": {
          "text": "Precio estimado"
         }
        }
       }
      }
     },
     "metadata": {},
     "output_type": "display_data"
    }
   ],
   "source": [
    "import plotly\n",
    "from plotly.offline import init_notebook_mode, iplot\n",
    "import plotly.graph_objs as go\n",
    "from plotly.offline import init_notebook_mode, iplot\n",
    "import plotly.graph_objs as go\n",
    "\n",
    "trace1 = go.Scatter(\n",
    "                    x =y_test ,\n",
    "                    y = y_pred,\n",
    "                    name = 'citations',\n",
    "                    mode= \"markers\",\n",
    "                    marker = dict(color = 'rgba(16, 112, 2, 0.8)'))\n",
    "data = [trace1]\n",
    "\n",
    "layout = dict(title = \"Modelo lineal\",\n",
    "             xaxis= dict(title= 'Precio real',ticklen= 5),\n",
    "            yaxis= dict(title= 'Precio estimado',ticklen= 5)\n",
    "           )\n",
    "\n",
    "fig = go.Figure(data = data, layout=layout)\n",
    "\n",
    "iplot(fig)"
   ]
  },
  {
   "cell_type": "code",
   "execution_count": 26,
   "id": "bb55ff14",
   "metadata": {},
   "outputs": [],
   "source": [
    "df_test=pd.read_csv(\"df_test_corr.csv\")"
   ]
  },
  {
   "cell_type": "code",
   "execution_count": 27,
   "id": "ed3859bb",
   "metadata": {},
   "outputs": [
    {
     "data": {
      "text/plain": [
       "array([2479.48,  772.66,  555.1 ,  999.76, 1069.36, 1863.08, 2860.43,\n",
       "        516.23, 4947.63, 1297.82, 1560.9 ,  502.87,  303.71,  600.83,\n",
       "        539.69,  912.13,  536.57, 1292.33, 1254.15, 1686.77, 1477.67,\n",
       "        667.85, 1391.99, 1365.29, 1823.85,  373.86,  765.37,  313.09,\n",
       "       1219.99,  401.06, 1017.67, 1059.16, 1718.88,  528.95,  438.07,\n",
       "       1831.56,  851.22,  918.32, 2790.94,  537.7 ,  638.23,  903.7 ,\n",
       "       1527.07, 1823.73, 1168.87, 1754.83,  642.09, 2981.05,  279.98,\n",
       "       1562.44, 1156.44,  750.61,  948.83,  385.38, 1293.01,  576.77,\n",
       "        714.97,  177.39, 1024.7 , 1266.84, 1544.65, 1097.43,  588.71,\n",
       "       1165.47, 1095.89, 1540.65,  572.43, 1829.65,  414.93, 2038.59,\n",
       "        872.88, 2764.83, 2051.47, 1191.66, 1047.02, 1086.53, 1082.14,\n",
       "        406.46, 1020.89,  886.22,  503.83, 2045.67, 1410.64,  626.68,\n",
       "       1291.72, 1478.97, 1816.15,  595.89, 2691.54,  622.73,  604.68,\n",
       "        555.1 , 1266.84, 1204.56, 2602.72,  585.92, 1749.43, 1158.35,\n",
       "       1036.16, 1066.84,  619.08,  298.82, 1418.06, 1020.4 ,  730.38,\n",
       "       1318.7 ,  826.12,  773.72, 1016.71, 1376.11, 1097.27,  905.97,\n",
       "        279.98,  724.42, 1016.01, 1823.85,  947.36, 1097.89,  949.6 ,\n",
       "       1579.91,  595.55, 1268.8 ,  954.71, 2000.06,  237.6 , 1539.13,\n",
       "       1881.55, 1716.05, 1787.64, 1338.98,  910.44, 1066.3 ,  287.96,\n",
       "       1563.98,  653.83,  532.92,  385.41, 1967.81, 1304.25,  730.06,\n",
       "        735.62, 2109.98, 2084.56, 1051.57, 2140.97,  924.59,  955.83,\n",
       "        624.72, 1169.14, 2843.58,  837.75,  703.42, 1406.14,  531.99,\n",
       "       1270.33, 1092.29, 2094.89,  579.14,  527.83, 1439.31, 2273.72,\n",
       "        636.33, 1387.34, 2228.26, 1823.85, 2406.27, 1501.31, 2090.53,\n",
       "       1318.7 ,  543.55, 2011.87, 2587.29, 2145.4 ,  643.04, 2919.35,\n",
       "       1391.5 , 1211.59, 1170.12, 2930.84, 1383.6 ,  402.6 , 2153.97,\n",
       "        443.79,  376.74,  682.98, 1056.38,  992.15,  815.91,  583.93,\n",
       "       1900.74, 1808.44,  854.58, 1231.2 , 1105.05,  531.99, 1404.34,\n",
       "       1755.36, 1048.37, 1258.  , 1849.35,  835.94, 1610.47,  995.46,\n",
       "       1894.65, 1346.27,  231.33,  519.37,  523.94,  820.8 , 2099.2 ,\n",
       "       1237.78,  838.4 , 1774.28,  921.68,  322.83, 1258.69,  397.47,\n",
       "       1390.42, 1105.03,  783.81, 2047.66, 1346.73, 1607.6 , 1330.32,\n",
       "       1022.81, 1497.43, 2015.9 ,  706.28,  512.73,  827.78,  754.26,\n",
       "        939.47, 1937.86, 1346.27, 1807.81,  838.39, 1177.98,  869.21,\n",
       "        211.99,  466.61, 2136.08,  563.61,  951.19, 1198.  , 1694.65,\n",
       "       1308.21, 1160.03, 1883.56,  670.01, 1481.55, 1419.36, 1024.6 ,\n",
       "       1634.13, 1046.27, 1502.95, 1163.11,  355.19, 1207.09, 1344.19,\n",
       "        851.57, 1325.16,  724.86,  750.6 ,  664.62, 1672.8 , 1238.9 ,\n",
       "       2202.73, 1776.42, 1217.61, 1504.58,  872.28,  397.47, 1041.46,\n",
       "       1304.25, 1276.8 ,  440.58, 1242.32,  482.23, 1739.1 ,  560.01,\n",
       "       2384.56, 1045.22,  846.42,  447.14,  172.77,  910.8 , 1404.34,\n",
       "        864.57,  979.17, 1063.41,  846.21, 1566.42, 1390.42, 1742.78,\n",
       "       2106.9 ,  786.26,  852.32,  607.41, 1097.1 ,  618.16,  903.2 ,\n",
       "       1221.72, 1210.19, 1871.18,  638.23, 2253.1 , 1781.68, 1534.82,\n",
       "        582.18,  221.42,  861.63, 1682.06,  635.92,  435.96,  496.13,\n",
       "        654.41, 2293.14, 2536.37, 1639.87,  827.15, 1544.72, 1686.79,\n",
       "       2182.55, 2175.54, 1164.78, 1152.69, 1936.23,  221.42,  468.25,\n",
       "        231.33, 1056.19,  327.12, 1033.08,  323.74,  739.81, 1047.05,\n",
       "       2086.68, 1265.72,  558.74, 1126.1 ,  736.73, 1997.28,   99.87,\n",
       "       1347.2 ,  800.34,  446.63,  740.98, 1552.81, 1415.11, 1327.36,\n",
       "        898.31, 1120.74,  406.46, 1297.15, 1136.73,  394.9 , 1067.52,\n",
       "       1903.28,  564.73, 1580.06,  278.5 , 1885.29,  595.55, 1212.49,\n",
       "       2012.39,  949.15,  599.85, 1961.01, 1131.54,  666.16,  238.84,\n",
       "       1064.11, 1067.52, 1317.41,  271.21, 1245.5 , 1339.03,  382.14,\n",
       "        655.47, 1105.03, 1265.72,  363.27, 1345.15,  438.27, 2095.34,\n",
       "        502.27, 1444.81, 2106.27,  647.67,  230.48, 1474.02])"
      ]
     },
     "execution_count": 27,
     "metadata": {},
     "output_type": "execute_result"
    }
   ],
   "source": [
    "y_res=pls2.predict(df_test[Feeatures])\n",
    "y_res.round(2)"
   ]
  },
  {
   "cell_type": "code",
   "execution_count": 28,
   "id": "f9f404fc",
   "metadata": {},
   "outputs": [
    {
     "data": {
      "text/html": [
       "<div>\n",
       "<style scoped>\n",
       "    .dataframe tbody tr th:only-of-type {\n",
       "        vertical-align: middle;\n",
       "    }\n",
       "\n",
       "    .dataframe tbody tr th {\n",
       "        vertical-align: top;\n",
       "    }\n",
       "\n",
       "    .dataframe thead th {\n",
       "        text-align: right;\n",
       "    }\n",
       "</style>\n",
       "<table border=\"1\" class=\"dataframe\">\n",
       "  <thead>\n",
       "    <tr style=\"text-align: right;\">\n",
       "      <th></th>\n",
       "      <th>id</th>\n",
       "      <th>Price_euros</th>\n",
       "    </tr>\n",
       "  </thead>\n",
       "  <tbody>\n",
       "    <tr>\n",
       "      <th>0</th>\n",
       "      <td>181</td>\n",
       "      <td>2479.48</td>\n",
       "    </tr>\n",
       "    <tr>\n",
       "      <th>1</th>\n",
       "      <td>708</td>\n",
       "      <td>772.66</td>\n",
       "    </tr>\n",
       "    <tr>\n",
       "      <th>2</th>\n",
       "      <td>862</td>\n",
       "      <td>555.10</td>\n",
       "    </tr>\n",
       "    <tr>\n",
       "      <th>3</th>\n",
       "      <td>1064</td>\n",
       "      <td>999.76</td>\n",
       "    </tr>\n",
       "    <tr>\n",
       "      <th>4</th>\n",
       "      <td>702</td>\n",
       "      <td>1069.36</td>\n",
       "    </tr>\n",
       "    <tr>\n",
       "      <th>...</th>\n",
       "      <td>...</td>\n",
       "      <td>...</td>\n",
       "    </tr>\n",
       "    <tr>\n",
       "      <th>386</th>\n",
       "      <td>1281</td>\n",
       "      <td>1444.81</td>\n",
       "    </tr>\n",
       "    <tr>\n",
       "      <th>387</th>\n",
       "      <td>524</td>\n",
       "      <td>2106.27</td>\n",
       "    </tr>\n",
       "    <tr>\n",
       "      <th>388</th>\n",
       "      <td>1015</td>\n",
       "      <td>647.67</td>\n",
       "    </tr>\n",
       "    <tr>\n",
       "      <th>389</th>\n",
       "      <td>1236</td>\n",
       "      <td>230.48</td>\n",
       "    </tr>\n",
       "    <tr>\n",
       "      <th>390</th>\n",
       "      <td>1036</td>\n",
       "      <td>1474.02</td>\n",
       "    </tr>\n",
       "  </tbody>\n",
       "</table>\n",
       "<p>391 rows × 2 columns</p>\n",
       "</div>"
      ],
      "text/plain": [
       "       id  Price_euros\n",
       "0     181      2479.48\n",
       "1     708       772.66\n",
       "2     862       555.10\n",
       "3    1064       999.76\n",
       "4     702      1069.36\n",
       "..    ...          ...\n",
       "386  1281      1444.81\n",
       "387   524      2106.27\n",
       "388  1015       647.67\n",
       "389  1236       230.48\n",
       "390  1036      1474.02\n",
       "\n",
       "[391 rows x 2 columns]"
      ]
     },
     "execution_count": 28,
     "metadata": {},
     "output_type": "execute_result"
    }
   ],
   "source": [
    "respuesta=pd.DataFrame(df_test[\"id\"])\n",
    "respuesta[\"Price_euros\"]=y_res.round(2)\n",
    "respuesta"
   ]
  },
  {
   "cell_type": "code",
   "execution_count": null,
   "id": "b409dfdd",
   "metadata": {},
   "outputs": [],
   "source": [
    "\"\"\"respuesta.to_csv(\"respuesta_regresion.csv\", sep=\",\", index=False)\"\"\""
   ]
  }
 ],
 "metadata": {
  "kernelspec": {
   "display_name": ".venv",
   "language": "python",
   "name": "python3"
  },
  "language_info": {
   "codemirror_mode": {
    "name": "ipython",
    "version": 3
   },
   "file_extension": ".py",
   "mimetype": "text/x-python",
   "name": "python",
   "nbconvert_exporter": "python",
   "pygments_lexer": "ipython3",
   "version": "3.12.8"
  }
 },
 "nbformat": 4,
 "nbformat_minor": 5
}
