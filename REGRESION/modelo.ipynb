{
 "cells": [
  {
   "cell_type": "code",
   "execution_count": 19,
   "id": "b523e424",
   "metadata": {},
   "outputs": [],
   "source": [
    "import pandas as pd\n",
    "df=pd.read_csv(\"df_train_corr.csv\")"
   ]
  },
  {
   "cell_type": "code",
   "execution_count": 20,
   "id": "be6f755d",
   "metadata": {},
   "outputs": [
    {
     "data": {
      "text/html": [
       "<div>\n",
       "<style scoped>\n",
       "    .dataframe tbody tr th:only-of-type {\n",
       "        vertical-align: middle;\n",
       "    }\n",
       "\n",
       "    .dataframe tbody tr th {\n",
       "        vertical-align: top;\n",
       "    }\n",
       "\n",
       "    .dataframe thead th {\n",
       "        text-align: right;\n",
       "    }\n",
       "</style>\n",
       "<table border=\"1\" class=\"dataframe\">\n",
       "  <thead>\n",
       "    <tr style=\"text-align: right;\">\n",
       "      <th></th>\n",
       "      <th>id</th>\n",
       "      <th>laptop_ID</th>\n",
       "      <th>Inches</th>\n",
       "      <th>Ram</th>\n",
       "      <th>Weight</th>\n",
       "      <th>Company_Apple</th>\n",
       "      <th>Company_Asus</th>\n",
       "      <th>Company_Chuwi</th>\n",
       "      <th>Company_Dell</th>\n",
       "      <th>Company_Fujitsu</th>\n",
       "      <th>...</th>\n",
       "      <th>INTEL_Xeon</th>\n",
       "      <th>Marca_GPU_NVIDIA</th>\n",
       "      <th>Marca_GPU_AMD</th>\n",
       "      <th>Marca_GPU_INTEL</th>\n",
       "      <th>NVIDIA_GEFORCE</th>\n",
       "      <th>NVIDIA_Quadro</th>\n",
       "      <th>NVIDIA_GTX</th>\n",
       "      <th>GPU_AMD_R</th>\n",
       "      <th>Intel_Iris</th>\n",
       "      <th>Price_euros</th>\n",
       "    </tr>\n",
       "  </thead>\n",
       "  <tbody>\n",
       "    <tr>\n",
       "      <th>0</th>\n",
       "      <td>268</td>\n",
       "      <td>1002</td>\n",
       "      <td>15.6</td>\n",
       "      <td>8</td>\n",
       "      <td>2.36</td>\n",
       "      <td>False</td>\n",
       "      <td>False</td>\n",
       "      <td>False</td>\n",
       "      <td>True</td>\n",
       "      <td>False</td>\n",
       "      <td>...</td>\n",
       "      <td>0</td>\n",
       "      <td>0</td>\n",
       "      <td>1</td>\n",
       "      <td>0</td>\n",
       "      <td>0</td>\n",
       "      <td>0</td>\n",
       "      <td>0</td>\n",
       "      <td>7</td>\n",
       "      <td>0</td>\n",
       "      <td>749.00</td>\n",
       "    </tr>\n",
       "    <tr>\n",
       "      <th>1</th>\n",
       "      <td>347</td>\n",
       "      <td>867</td>\n",
       "      <td>15.6</td>\n",
       "      <td>4</td>\n",
       "      <td>2.00</td>\n",
       "      <td>False</td>\n",
       "      <td>True</td>\n",
       "      <td>False</td>\n",
       "      <td>False</td>\n",
       "      <td>False</td>\n",
       "      <td>...</td>\n",
       "      <td>0</td>\n",
       "      <td>0</td>\n",
       "      <td>0</td>\n",
       "      <td>1</td>\n",
       "      <td>0</td>\n",
       "      <td>0</td>\n",
       "      <td>0</td>\n",
       "      <td>0</td>\n",
       "      <td>0</td>\n",
       "      <td>449.00</td>\n",
       "    </tr>\n",
       "    <tr>\n",
       "      <th>2</th>\n",
       "      <td>353</td>\n",
       "      <td>966</td>\n",
       "      <td>13.3</td>\n",
       "      <td>8</td>\n",
       "      <td>1.20</td>\n",
       "      <td>False</td>\n",
       "      <td>False</td>\n",
       "      <td>False</td>\n",
       "      <td>False</td>\n",
       "      <td>False</td>\n",
       "      <td>...</td>\n",
       "      <td>0</td>\n",
       "      <td>0</td>\n",
       "      <td>0</td>\n",
       "      <td>1</td>\n",
       "      <td>0</td>\n",
       "      <td>0</td>\n",
       "      <td>0</td>\n",
       "      <td>0</td>\n",
       "      <td>0</td>\n",
       "      <td>1460.00</td>\n",
       "    </tr>\n",
       "    <tr>\n",
       "      <th>3</th>\n",
       "      <td>578</td>\n",
       "      <td>767</td>\n",
       "      <td>15.6</td>\n",
       "      <td>16</td>\n",
       "      <td>4.42</td>\n",
       "      <td>False</td>\n",
       "      <td>False</td>\n",
       "      <td>False</td>\n",
       "      <td>True</td>\n",
       "      <td>False</td>\n",
       "      <td>...</td>\n",
       "      <td>0</td>\n",
       "      <td>1</td>\n",
       "      <td>0</td>\n",
       "      <td>0</td>\n",
       "      <td>1</td>\n",
       "      <td>0</td>\n",
       "      <td>1</td>\n",
       "      <td>0</td>\n",
       "      <td>0</td>\n",
       "      <td>2868.99</td>\n",
       "    </tr>\n",
       "    <tr>\n",
       "      <th>4</th>\n",
       "      <td>42</td>\n",
       "      <td>1241</td>\n",
       "      <td>12.5</td>\n",
       "      <td>8</td>\n",
       "      <td>1.26</td>\n",
       "      <td>False</td>\n",
       "      <td>False</td>\n",
       "      <td>False</td>\n",
       "      <td>True</td>\n",
       "      <td>False</td>\n",
       "      <td>...</td>\n",
       "      <td>0</td>\n",
       "      <td>0</td>\n",
       "      <td>0</td>\n",
       "      <td>1</td>\n",
       "      <td>0</td>\n",
       "      <td>0</td>\n",
       "      <td>0</td>\n",
       "      <td>0</td>\n",
       "      <td>0</td>\n",
       "      <td>1713.37</td>\n",
       "    </tr>\n",
       "  </tbody>\n",
       "</table>\n",
       "<p>5 rows × 63 columns</p>\n",
       "</div>"
      ],
      "text/plain": [
       "    id  laptop_ID  Inches  Ram  Weight  Company_Apple  Company_Asus  \\\n",
       "0  268       1002    15.6    8    2.36          False         False   \n",
       "1  347        867    15.6    4    2.00          False          True   \n",
       "2  353        966    13.3    8    1.20          False         False   \n",
       "3  578        767    15.6   16    4.42          False         False   \n",
       "4   42       1241    12.5    8    1.26          False         False   \n",
       "\n",
       "   Company_Chuwi  Company_Dell  Company_Fujitsu  ...  INTEL_Xeon  \\\n",
       "0          False          True            False  ...           0   \n",
       "1          False         False            False  ...           0   \n",
       "2          False         False            False  ...           0   \n",
       "3          False          True            False  ...           0   \n",
       "4          False          True            False  ...           0   \n",
       "\n",
       "   Marca_GPU_NVIDIA  Marca_GPU_AMD  Marca_GPU_INTEL  NVIDIA_GEFORCE  \\\n",
       "0                 0              1                0               0   \n",
       "1                 0              0                1               0   \n",
       "2                 0              0                1               0   \n",
       "3                 1              0                0               1   \n",
       "4                 0              0                1               0   \n",
       "\n",
       "   NVIDIA_Quadro  NVIDIA_GTX  GPU_AMD_R  Intel_Iris  Price_euros  \n",
       "0              0           0          7           0       749.00  \n",
       "1              0           0          0           0       449.00  \n",
       "2              0           0          0           0      1460.00  \n",
       "3              0           1          0           0      2868.99  \n",
       "4              0           0          0           0      1713.37  \n",
       "\n",
       "[5 rows x 63 columns]"
      ]
     },
     "execution_count": 20,
     "metadata": {},
     "output_type": "execute_result"
    }
   ],
   "source": [
    "df.head()"
   ]
  },
  {
   "cell_type": "code",
   "execution_count": 21,
   "id": "7cd4ce41",
   "metadata": {},
   "outputs": [
    {
     "data": {
      "text/html": [
       "<div>\n",
       "<style scoped>\n",
       "    .dataframe tbody tr th:only-of-type {\n",
       "        vertical-align: middle;\n",
       "    }\n",
       "\n",
       "    .dataframe tbody tr th {\n",
       "        vertical-align: top;\n",
       "    }\n",
       "\n",
       "    .dataframe thead th {\n",
       "        text-align: right;\n",
       "    }\n",
       "</style>\n",
       "<table border=\"1\" class=\"dataframe\">\n",
       "  <thead>\n",
       "    <tr style=\"text-align: right;\">\n",
       "      <th></th>\n",
       "      <th>Price_euros</th>\n",
       "    </tr>\n",
       "  </thead>\n",
       "  <tbody>\n",
       "    <tr>\n",
       "      <th>id</th>\n",
       "      <td>-0.012740</td>\n",
       "    </tr>\n",
       "    <tr>\n",
       "      <th>laptop_ID</th>\n",
       "      <td>0.052808</td>\n",
       "    </tr>\n",
       "    <tr>\n",
       "      <th>Inches</th>\n",
       "      <td>0.077798</td>\n",
       "    </tr>\n",
       "    <tr>\n",
       "      <th>Ram</th>\n",
       "      <td>0.747748</td>\n",
       "    </tr>\n",
       "    <tr>\n",
       "      <th>Weight</th>\n",
       "      <td>0.231864</td>\n",
       "    </tr>\n",
       "    <tr>\n",
       "      <th>...</th>\n",
       "      <td>...</td>\n",
       "    </tr>\n",
       "    <tr>\n",
       "      <th>NVIDIA_Quadro</th>\n",
       "      <td>0.326577</td>\n",
       "    </tr>\n",
       "    <tr>\n",
       "      <th>NVIDIA_GTX</th>\n",
       "      <td>0.384077</td>\n",
       "    </tr>\n",
       "    <tr>\n",
       "      <th>GPU_AMD_R</th>\n",
       "      <td>-0.151007</td>\n",
       "    </tr>\n",
       "    <tr>\n",
       "      <th>Intel_Iris</th>\n",
       "      <td>0.102335</td>\n",
       "    </tr>\n",
       "    <tr>\n",
       "      <th>Price_euros</th>\n",
       "      <td>1.000000</td>\n",
       "    </tr>\n",
       "  </tbody>\n",
       "</table>\n",
       "<p>63 rows × 1 columns</p>\n",
       "</div>"
      ],
      "text/plain": [
       "               Price_euros\n",
       "id               -0.012740\n",
       "laptop_ID         0.052808\n",
       "Inches            0.077798\n",
       "Ram               0.747748\n",
       "Weight            0.231864\n",
       "...                    ...\n",
       "NVIDIA_Quadro     0.326577\n",
       "NVIDIA_GTX        0.384077\n",
       "GPU_AMD_R        -0.151007\n",
       "Intel_Iris        0.102335\n",
       "Price_euros       1.000000\n",
       "\n",
       "[63 rows x 1 columns]"
      ]
     },
     "execution_count": 21,
     "metadata": {},
     "output_type": "execute_result"
    }
   ],
   "source": [
    "corr=df.corr()[['Price_euros']]\n",
    "corr"
   ]
  },
  {
   "cell_type": "code",
   "execution_count": 22,
   "id": "897c21b2",
   "metadata": {},
   "outputs": [
    {
     "data": {
      "text/plain": [
       "<Axes: >"
      ]
     },
     "execution_count": 22,
     "metadata": {},
     "output_type": "execute_result"
    },
    {
     "data": {
      "image/png": "[encoded data removed]",
      "text/plain": [
       "<Figure size 1500x1500 with 2 Axes>"
      ]
     },
     "metadata": {},
     "output_type": "display_data"
    }
   ],
   "source": [
    "import seaborn as sns\n",
    "import matplotlib.pyplot as plt\n",
    "plt.figure(figsize=(15,15))\n",
    "sns.heatmap(corr[['Price_euros']].sort_values(by='Price_euros', ascending=False), annot=True)"
   ]
  },
  {
   "cell_type": "code",
   "execution_count": 23,
   "id": "04c0614a",
   "metadata": {},
   "outputs": [
    {
     "data": {
      "text/plain": [
       "'sns.pairplot(df)'"
      ]
     },
     "execution_count": 23,
     "metadata": {},
     "output_type": "execute_result"
    }
   ],
   "source": [
    "\"\"\"sns.pairplot(df)\"\"\""
   ]
  },
  {
   "cell_type": "code",
   "execution_count": 24,
   "id": "11fb5690",
   "metadata": {},
   "outputs": [],
   "source": [
    "Feeatures=[  'Inches', 'Ram', 'Weight', 'Company_Apple',\n",
    "       'Company_Asus', 'Company_Chuwi', 'Company_Dell', 'Company_Fujitsu',\n",
    "       'Company_Google', 'Company_HP', 'Company_Huawei', 'Company_LG',\n",
    "       'Company_Lenovo', 'Company_MSI', 'Company_Mediacom',\n",
    "       'Company_Microsoft', 'Company_Razer', 'Company_Samsung',\n",
    "       'Company_Toshiba', 'Company_Vero', 'Company_Xiaomi', 'TypeName_Gaming',\n",
    "       'TypeName_Netbook', 'TypeName_Notebook', 'TypeName_Ultrabook',\n",
    "       'TypeName_Workstation', 'OpSys_Chrome OS', 'OpSys_Linux',\n",
    "       'OpSys_Mac OS X', 'OpSys_No OS', 'OpSys_Windows 10',\n",
    "       'OpSys_Windows 10 S', 'OpSys_Windows 7', 'OpSys_macOS', 'Touch', 'IPS',\n",
    "       'HDD', 'SSD', 'Flash_Storage', 'Hybrid', 'GHz', 'Marca_Intel',\n",
    "       'Marca_AMD', 'Gen_AMD', 'Gen_AMD_E', 'Gen_AMD_Ryzen', 'Gen_AMD_FX',\n",
    "       'Gen_INTEL', 'INTEL_ATOM', 'INTEL_Celerium', 'INTEL_Pentium',\n",
    "       'INTEL_Xeon', 'Marca_GPU_NVIDIA', 'Marca_GPU_AMD', 'Marca_GPU_INTEL',\n",
    "       'NVIDIA_GEFORCE', 'NVIDIA_Quadro', 'NVIDIA_GTX', 'GPU_AMD_R',\n",
    "       'Intel_Iris']\n",
    "X=df[Feeatures]\n",
    "# X=df.drop(\"Price_euros\", axis=1)\n",
    "y=df[\"Price_euros\"]\n",
    "from sklearn.linear_model import LinearRegression\n",
    "from sklearn.model_selection import train_test_split\n",
    "#split\n",
    "\n",
    "X_train, X_test, y_train, y_test = train_test_split(X, y, test_size = 0.20, random_state = 24)\n",
    "\n",
    "from sklearn.feature_selection import VarianceThreshold\n",
    "\n",
    "sel = VarianceThreshold(threshold=(.8 * (1 - .8)))\n",
    "sel.fit_transform(X)\n",
    "Feeatures=(list(sel.get_feature_names_out()))\n",
    "X=df[Feeatures]\n",
    "y=df[\"Price_euros\"]"
   ]
  },
  {
   "cell_type": "markdown",
   "id": "b0b3d4b1",
   "metadata": {},
   "source": [
    "ssitema, hd, touch, 4k, screen, ssd,  cpu, gpub"
   ]
  },
  {
   "cell_type": "code",
   "execution_count": 25,
   "id": "97299400",
   "metadata": {},
   "outputs": [
    {
     "data": {
      "text/plain": [
       "Index(['id', 'laptop_ID', 'Inches', 'Ram', 'Weight', 'Company_Apple',\n",
       "       'Company_Asus', 'Company_Chuwi', 'Company_Dell', 'Company_Fujitsu',\n",
       "       'Company_Google', 'Company_HP', 'Company_Huawei', 'Company_LG',\n",
       "       'Company_Lenovo', 'Company_MSI', 'Company_Mediacom',\n",
       "       'Company_Microsoft', 'Company_Razer', 'Company_Samsung',\n",
       "       'Company_Toshiba', 'Company_Vero', 'Company_Xiaomi', 'TypeName_Gaming',\n",
       "       'TypeName_Netbook', 'TypeName_Notebook', 'TypeName_Ultrabook',\n",
       "       'TypeName_Workstation', 'OpSys_Chrome OS', 'OpSys_Linux',\n",
       "       'OpSys_Mac OS X', 'OpSys_No OS', 'OpSys_Windows 10',\n",
       "       'OpSys_Windows 10 S', 'OpSys_Windows 7', 'OpSys_macOS', 'Touch', 'IPS',\n",
       "       'HDD', 'SSD', 'Flash_Storage', 'Hybrid', 'GHz', 'Marca_Intel',\n",
       "       'Marca_AMD', 'Gen_AMD', 'Gen_AMD_E', 'Gen_AMD_Ryzen', 'Gen_AMD_FX',\n",
       "       'Gen_INTEL', 'INTEL_ATOM', 'INTEL_Celerium', 'INTEL_Pentium',\n",
       "       'INTEL_Xeon', 'Marca_GPU_NVIDIA', 'Marca_GPU_AMD', 'Marca_GPU_INTEL',\n",
       "       'NVIDIA_GEFORCE', 'NVIDIA_Quadro', 'NVIDIA_GTX', 'GPU_AMD_R',\n",
       "       'Intel_Iris', 'Price_euros'],\n",
       "      dtype='object')"
      ]
     },
     "execution_count": 25,
     "metadata": {},
     "output_type": "execute_result"
    }
   ],
   "source": [
    "df.columns"
   ]
  },
  {
   "cell_type": "code",
   "execution_count": 26,
   "id": "d89b7453",
   "metadata": {},
   "outputs": [
    {
     "data": {
      "text/plain": [
       "'corr[corr[\"Price_euros\"].abs()>0.2].index'"
      ]
     },
     "execution_count": 26,
     "metadata": {},
     "output_type": "execute_result"
    }
   ],
   "source": [
    "\"\"\"corr[corr[\"Price_euros\"].abs()>0.2].index\"\"\""
   ]
  },
  {
   "cell_type": "code",
   "execution_count": 27,
   "id": "8feff500",
   "metadata": {},
   "outputs": [
    {
     "data": {
      "text/plain": [
       "'Feeatures=[\\n\\'Ram\\', \\'Weight\\', \\'Company_Razer\\', \\'TypeName_Gaming\\',\\n       \\'TypeName_Notebook\\', \\'TypeName_Ultrabook\\', \\'TypeName_Workstation\\',\\n       \\'IPS\\', \\'SSD\\', \\'GHz\\', \\'Gen_INTEL\\', \\'INTEL_Celerium\\', \\'INTEL_Xeon\\',\\n       \\'Marca_GPU_NVIDIA\\', \\'Marca_GPU_INTEL\\', \\'NVIDIA_GEFORCE\\',\\n       \\'NVIDIA_Quadro\\', \\'NVIDIA_GTX\\']\\nX=df[Feeatures]\\n#X=df.drop(\"Price_euros\", axis=1)\\ny=df[\"Price_euros\"]'"
      ]
     },
     "execution_count": 27,
     "metadata": {},
     "output_type": "execute_result"
    }
   ],
   "source": [
    "\"\"\"Feeatures=[\n",
    "'Ram', 'Weight', 'Company_Razer', 'TypeName_Gaming',\n",
    "       'TypeName_Notebook', 'TypeName_Ultrabook', 'TypeName_Workstation',\n",
    "       'IPS', 'SSD', 'GHz', 'Gen_INTEL', 'INTEL_Celerium', 'INTEL_Xeon',\n",
    "       'Marca_GPU_NVIDIA', 'Marca_GPU_INTEL', 'NVIDIA_GEFORCE',\n",
    "       'NVIDIA_Quadro', 'NVIDIA_GTX']\n",
    "X=df[Feeatures]\n",
    "#X=df.drop(\"Price_euros\", axis=1)\n",
    "y=df[\"Price_euros\"]\"\"\""
   ]
  },
  {
   "cell_type": "code",
   "execution_count": 28,
   "id": "e9fecd90",
   "metadata": {},
   "outputs": [],
   "source": [
    "from sklearn.linear_model import LinearRegression\n",
    "from sklearn.model_selection import train_test_split\n",
    "\n",
    "\n",
    "X_train, X_test, y_train, y_test = train_test_split(X, y, test_size = 0.20, random_state = 24)"
   ]
  },
  {
   "cell_type": "code",
   "execution_count": 50,
   "id": "2245af4d",
   "metadata": {},
   "outputs": [
    {
     "data": {
      "text/plain": [
       "<Axes: xlabel='Price_euros'>"
      ]
     },
     "execution_count": 50,
     "metadata": {},
     "output_type": "execute_result"
    },
    {
     "data": {
      "image/png": "[encoded data removed]",
      "text/plain": [
       "<Figure size 640x480 with 1 Axes>"
      ]
     },
     "metadata": {},
     "output_type": "display_data"
    }
   ],
   "source": [
    "lm=LinearRegression(\n",
    "fit_intercept=False,\n",
    "n_jobs=-1,\n",
    "positive=False\n",
    "\n",
    "\n",
    "\n",
    ")\n",
    "lm.fit(X_train, y_train)\n",
    "\n",
    "\n",
    "prediction_lm=lm.predict(X_test)\n",
    "sns.scatterplot(x=y_test, y= (prediction_lm))"
   ]
  },
  {
   "cell_type": "code",
   "execution_count": 51,
   "id": "be6aaa1f",
   "metadata": {},
   "outputs": [
    {
     "data": {
      "application/vnd.plotly.v1+json": {
       "config": {
        "linkText": "Export to plot.ly",
        "plotlyServerURL": "https://plot.ly",
        "showLink": false
       },
       "data": [
        {
         "marker": {
          "color": "rgba(16, 112, 2, 0.8)"
         },
         "mode": "markers",
         "name": "citations",
         "type": "scatter",
         "x": {
          "bdata": "AAAAAABQeEAAAAAAAEBwQAAAAAAAuIRAAAAAAADgg0AAAAAAAEyUQAAAAAAACItAFK5H4fpppkAAAAAAACCXQAAAAAAA4IpAmpmZmZlTm0AAAAAAAFyYQAAAAAAAAI1AAAAAAACsnUAAAAAAALB3QGZmZmZmvntAAAAAAACskkAAAAAAADiKQAAAAAAAMHVAAAAAAADQfkAAAAAAAIySQDMzMzMze3xArkfhehSoiEAAAAAAAHiLQAAAAAAApJ9AKVyPwvUMk0AAAAAAAKamQNejcD2KiadAAAAAAABomkAAAAAAAFB4QAAAAAAAFqVAAAAAAACYjkAAAAAAAPSRQAAAAAAAyIlAAAAAAADAdUAAAAAAADiPQAAAAAAAHJdAAAAAAACwk0AAAAAAABB3QEjhehSudZtAAAAAAADYjUAAAAAAAPibQAAAAAAAyIhAAAAAAAA4j0AAAAAAALiVQAAAAAAAkIZAAAAAAACweEAAAAAAAABxQArXo3A97n1AAAAAAAAAc0AAAAAAADBxQAAAAAAArJ1AAAAAAAD4jUAAAAAAADiDQAAAAAAAyIRAAAAAAADgaEDsUbgehVGCQAAAAAAACI5AAAAAAADknEAAAAAAACyRQAAAAAAAFJVAAAAAAABojkDNzMzMzCGgQAAAAAAALJJAAAAAAABYm0AAAAAAAFarQAAAAAAA2IBAAAAAAAAskUAAAAAAABycQAAAAAAA+IFAAAAAAADYgkAAAAAAAJ6kQAAAAAAA2I1AAAAAAAB4gUAAAAAAAFiIQAAAAAAAYHhAAAAAAADEmUAAAAAAADiDQAAAAAAAMINAj8L1KFyVoUAAAAAAAPyYQPYoXI/C7pRAZmZmZmb+h0AAAAAAAOiOQAAAAAAATJRAzczMzMybkEAAAAAAAIajQAAAAAAA+JhAAAAAAADckEAAAAAAAPyYQAAAAAAAkHRAAAAAAAAElkAAAAAAAFB9QJqZmZmZZ5VAAAAAAAD0kEAAAAAAAFSbQAAAAAAA9JZAAAAAAABIh0AAAAAAAJSSQAAAAAAAyI5A7FG4HoWLb0AAAAAAABiMQAAAAAAAWIhAAAAAAAAIg0AAAAAAAN6lQAAAAAAAqI1AAAAAAADAe0AAAAAAAGiXQAAAAAAA0H9AAAAAAAAgakBmZmZmZp5+QAAAAAAAxJlAAAAAAADwg0BSuB6F67eCQDMzMzMzAYFAAAAAAAA4ikAAAAAAABSVQAAAAAAAkHBAAAAAAAACoEAAAAAAAMiWQAAAAAAAOI9AAAAAAADslEAAAAAAAPiBQAAAAAAAGIxAAAAAAACskkAAAAAAAGycQAAAAAAAUHRAAAAAAADokkAAAAAAABycQGZmZmZmvnxAAAAAAABUm0BmZmZm5vGhQAAAAAAAQHRAAAAAAAC8kkAAAAAAACqiQFK4HoXrr4VAAAAAAAAAiUAAAAAAAEyUQAAAAAAAKIFAAAAAAACUnEAAAAAAAIajQAAAAAAAUHhAKVyPwvVcoEAAAAAAABiHQAAAAAAAqJtAAAAAAAAcnED2KFyPwlmQQAAAAAAAEKZAAAAAAAAYhUAAAAAAAASVQAAAAAAA4JBAZmZmZmZmhUAAAAAAAJCbQAAAAAAA2IVAAAAAAAA0mEAAAAAAADiPQAAAAAAA0HpApHA9CtfveEAAAAAAAMiLQAAAAAAAHJxAAAAAAABIgkAAAAAAAEaiQAAAAAAAsIpAAAAAAADAeUAAAAAAADSdQAAAAAAAiIVAAAAAAACQfkAAAAAAANuRQM3MzMzMKoVAZmZmZmYuf0AAAAAAAFB4QAAAAAAAJJ9AAAAAAAAio0AAAAAAANyQQAAAAAAAbJdAZmZmZubSo0AAAAAAAACZQAAAAAAAkHJAAAAAAAAAikDNzMzMzPxnQAAAAAAAsHxAAAAAAADAkkAAAAAAAJiJQAAAAAAA6I5A",
          "dtype": "f8"
         },
         "y": {
          "bdata": "dr+GYNMzhEAPn5nRo2FxQMYq8Aaq4opA4iup880/hkCrjYU8CVufQGPri1BUB4ZAkguB/THbn0CHVzxKxauRQJGT4LkKmo9A81kuIEcPoUCK2HLnl6qSQNdI/u9eupVADxpcWd7cnUBBQx/abulpQLNsFaOWp3xAFd9Z7hfVhEA1FahIgLKNQDSecKehqG1AOu1ZDfCSg0AsvfPO0RqSQK6HdxaCKXFAh9L1T7qqlkA6jGmMPXKUQKtOkqfTBZpAN3zL0LWDlkDEmseDes6TQD5xbRvCg51A9fHzyIDglkARVnquprmGQJj8iwWcpJ9AMsEYMPQYiUBitf2puTWVQAmS7XPph4ZAxhCqFHR4bkDwU29uMySWQBKnuvAViJ1AQu8WX9WjlECreXzytKh1QPk3VdMfxJVAhhoUg0o+k0Bzslzx45qaQI+XPgK7qo5AdpLKYJ0XmkBuKC0ltqeQQG+LuYDEZYBAEgFDX+EabkBjWoimUMt5QEwZeAVK9oRATEHblVb2bUBsZpVNZQx5QOS3LjrdEp1AcGO0UZ+fgkAte5UdYT+DQIufydz+PI5A4D/6VNicZECylkSLFE+LQIbGZXWD/ohASESA5tA/nECKXbEIL4WdQJqhyBGSIZZAzXEdc7C9kUDRQIKnkBakQJ9QN+EtRJBA/GbFRGUTmECFLtpBlBWlQHFCkedM6X1Axhp1mkNJlUBlZilLfE6kQKVX5m/o3XtApxac6SPlgkAziou8fGiqQJ7z+j7r1olA/U1KPHymjEBKNHu/0cyTQCbMzeQYa31ALlxq5gjAkkB9bZypwwF5QK6HdxaCKXFAGn7Y5yA4j0Cia0BRGY6WQF0uS2dTHZNAolGn/EX0jUAjpSvVzbiJQN5iCgRTi5FAlMt17Nn8kEDl1fGb3LGhQHhgcgXxq51A9lNpmgkAnUBRzfrDDXaWQAhAWxlVm3BAjr0c0Lztk0CI8SrI+Nh3QPKHZC+jvpVAwXsOAu8ZiEAbq1UbTfKgQDIEc3yqppFA8IqSwZZrj0Bcy93Alg+GQGoOAbvTgZRAjFkliJnQYkBvI9pGDlmTQJGuGXZUN4JAeIZUnhLGe0CmjOCwRdGwQHgwNl6rt4hA+6zF+NEQhUDlXmBRqjWgQPiCDvxXI4lAJGfwLxDogUCoNPqC2I14QF0DH4Uqm5lA3VQvUU4vj0AhPtALJZOSQHkDJ6MfUolAqEJxdhl4jEBs0u/ddLOVQOpAihLCGHlABWpZCBHIlUAjh+XlMiuWQGbAMklTbJNABjCnaHCOm0DPDym+KnmSQKiXqPsUeodAFd9Z7hfVhEDGuonLs4qdQN5F7qfUzG9Ao5Hc7wGokEDOEhlikq6dQKuTaatdDHBAmf1rM+WHoEDzocRs5hOXQDC5RrgRknRA37ts6uiBjECSx6OQWG6dQArKcPtb74pAFGgTFRPHgkAojou9BGmWQCDwqbSD8oRAcAcj7DgkkUCNEoTwALGZQJ/CkICvkIRAjs6GQrr4nEDCiIO1+aqKQJbHXTwn+ZJAZXLfY9tvlEAkYfG8wmOJQFzqMBfLzqRAKFfleasNg0D1pqCdpA2QQPJ4hCljgpFAaoZvH4EUjkCxwaMIM4qgQN6Ro+SIlo1ABJNc8ctJnUDlMu/zD1OUQDOLBG1mp4NANJ5wp6GobUAGXVJXtB+RQH+Yw/oZlpJAuUeXu0oVekDcGMKcf/2UQHJYV/LYLY1AKq6+9TYdg0BfNU/ECUeSQM52Yf/p0YZA/Ceiw7TtgEBMsgwGIAmKQPA1etEJt4tAwE7ggYNIgUA/uxS2nmaEQATl229Tj6BA6D073NFSnUBs0u/ddLOVQGVy32Pbb5RA4Tb9t4YZoUCGNR75FC6eQJ/CkICvkIRAevXgX8BSkUCBw6KF3ox8QK5Ac+KAuYRABHR2dTCzkkDUHJ9gjh2QQPcz//tJw5FA",
          "dtype": "f8"
         }
        }
       ],
       "layout": {
        "template": {
         "data": {
          "bar": [
           {
            "error_x": {
             "color": "#2a3f5f"
            },
            "error_y": {
             "color": "#2a3f5f"
            },
            "marker": {
             "line": {
              "color": "#E5ECF6",
              "width": 0.5
             },
             "pattern": {
              "fillmode": "overlay",
              "size": 10,
              "solidity": 0.2
             }
            },
            "type": "bar"
           }
          ],
          "barpolar": [
           {
            "marker": {
             "line": {
              "color": "#E5ECF6",
              "width": 0.5
             },
             "pattern": {
              "fillmode": "overlay",
              "size": 10,
              "solidity": 0.2
             }
            },
            "type": "barpolar"
           }
          ],
          "carpet": [
           {
            "aaxis": {
             "endlinecolor": "#2a3f5f",
             "gridcolor": "white",
             "linecolor": "white",
             "minorgridcolor": "white",
             "startlinecolor": "#2a3f5f"
            },
            "baxis": {
             "endlinecolor": "#2a3f5f",
             "gridcolor": "white",
             "linecolor": "white",
             "minorgridcolor": "white",
             "startlinecolor": "#2a3f5f"
            },
            "type": "carpet"
           }
          ],
          "choropleth": [
           {
            "colorbar": {
             "outlinewidth": 0,
             "ticks": ""
            },
            "type": "choropleth"
           }
          ],
          "contour": [
           {
            "colorbar": {
             "outlinewidth": 0,
             "ticks": ""
            },
            "colorscale": [
             [
              0,
              "#0d0887"
             ],
             [
              0.1111111111111111,
              "#46039f"
             ],
             [
              0.2222222222222222,
              "#7201a8"
             ],
             [
              0.3333333333333333,
              "#9c179e"
             ],
             [
              0.4444444444444444,
              "#bd3786"
             ],
             [
              0.5555555555555556,
              "#d8576b"
             ],
             [
              0.6666666666666666,
              "#ed7953"
             ],
             [
              0.7777777777777778,
              "#fb9f3a"
             ],
             [
              0.8888888888888888,
              "#fdca26"
             ],
             [
              1,
              "#f0f921"
             ]
            ],
            "type": "contour"
           }
          ],
          "contourcarpet": [
           {
            "colorbar": {
             "outlinewidth": 0,
             "ticks": ""
            },
            "type": "contourcarpet"
           }
          ],
          "heatmap": [
           {
            "colorbar": {
             "outlinewidth": 0,
             "ticks": ""
            },
            "colorscale": [
             [
              0,
              "#0d0887"
             ],
             [
              0.1111111111111111,
              "#46039f"
             ],
             [
              0.2222222222222222,
              "#7201a8"
             ],
             [
              0.3333333333333333,
              "#9c179e"
             ],
             [
              0.4444444444444444,
              "#bd3786"
             ],
             [
              0.5555555555555556,
              "#d8576b"
             ],
             [
              0.6666666666666666,
              "#ed7953"
             ],
             [
              0.7777777777777778,
              "#fb9f3a"
             ],
             [
              0.8888888888888888,
              "#fdca26"
             ],
             [
              1,
              "#f0f921"
             ]
            ],
            "type": "heatmap"
           }
          ],
          "histogram": [
           {
            "marker": {
             "pattern": {
              "fillmode": "overlay",
              "size": 10,
              "solidity": 0.2
             }
            },
            "type": "histogram"
           }
          ],
          "histogram2d": [
           {
            "colorbar": {
             "outlinewidth": 0,
             "ticks": ""
            },
            "colorscale": [
             [
              0,
              "#0d0887"
             ],
             [
              0.1111111111111111,
              "#46039f"
             ],
             [
              0.2222222222222222,
              "#7201a8"
             ],
             [
              0.3333333333333333,
              "#9c179e"
             ],
             [
              0.4444444444444444,
              "#bd3786"
             ],
             [
              0.5555555555555556,
              "#d8576b"
             ],
             [
              0.6666666666666666,
              "#ed7953"
             ],
             [
              0.7777777777777778,
              "#fb9f3a"
             ],
             [
              0.8888888888888888,
              "#fdca26"
             ],
             [
              1,
              "#f0f921"
             ]
            ],
            "type": "histogram2d"
           }
          ],
          "histogram2dcontour": [
           {
            "colorbar": {
             "outlinewidth": 0,
             "ticks": ""
            },
            "colorscale": [
             [
              0,
              "#0d0887"
             ],
             [
              0.1111111111111111,
              "#46039f"
             ],
             [
              0.2222222222222222,
              "#7201a8"
             ],
             [
              0.3333333333333333,
              "#9c179e"
             ],
             [
              0.4444444444444444,
              "#bd3786"
             ],
             [
              0.5555555555555556,
              "#d8576b"
             ],
             [
              0.6666666666666666,
              "#ed7953"
             ],
             [
              0.7777777777777778,
              "#fb9f3a"
             ],
             [
              0.8888888888888888,
              "#fdca26"
             ],
             [
              1,
              "#f0f921"
             ]
            ],
            "type": "histogram2dcontour"
           }
          ],
          "mesh3d": [
           {
            "colorbar": {
             "outlinewidth": 0,
             "ticks": ""
            },
            "type": "mesh3d"
           }
          ],
          "parcoords": [
           {
            "line": {
             "colorbar": {
              "outlinewidth": 0,
              "ticks": ""
             }
            },
            "type": "parcoords"
           }
          ],
          "pie": [
           {
            "automargin": true,
            "type": "pie"
           }
          ],
          "scatter": [
           {
            "fillpattern": {
             "fillmode": "overlay",
             "size": 10,
             "solidity": 0.2
            },
            "type": "scatter"
           }
          ],
          "scatter3d": [
           {
            "line": {
             "colorbar": {
              "outlinewidth": 0,
              "ticks": ""
             }
            },
            "marker": {
             "colorbar": {
              "outlinewidth": 0,
              "ticks": ""
             }
            },
            "type": "scatter3d"
           }
          ],
          "scattercarpet": [
           {
            "marker": {
             "colorbar": {
              "outlinewidth": 0,
              "ticks": ""
             }
            },
            "type": "scattercarpet"
           }
          ],
          "scattergeo": [
           {
            "marker": {
             "colorbar": {
              "outlinewidth": 0,
              "ticks": ""
             }
            },
            "type": "scattergeo"
           }
          ],
          "scattergl": [
           {
            "marker": {
             "colorbar": {
              "outlinewidth": 0,
              "ticks": ""
             }
            },
            "type": "scattergl"
           }
          ],
          "scattermap": [
           {
            "marker": {
             "colorbar": {
              "outlinewidth": 0,
              "ticks": ""
             }
            },
            "type": "scattermap"
           }
          ],
          "scattermapbox": [
           {
            "marker": {
             "colorbar": {
              "outlinewidth": 0,
              "ticks": ""
             }
            },
            "type": "scattermapbox"
           }
          ],
          "scatterpolar": [
           {
            "marker": {
             "colorbar": {
              "outlinewidth": 0,
              "ticks": ""
             }
            },
            "type": "scatterpolar"
           }
          ],
          "scatterpolargl": [
           {
            "marker": {
             "colorbar": {
              "outlinewidth": 0,
              "ticks": ""
             }
            },
            "type": "scatterpolargl"
           }
          ],
          "scatterternary": [
           {
            "marker": {
             "colorbar": {
              "outlinewidth": 0,
              "ticks": ""
             }
            },
            "type": "scatterternary"
           }
          ],
          "surface": [
           {
            "colorbar": {
             "outlinewidth": 0,
             "ticks": ""
            },
            "colorscale": [
             [
              0,
              "#0d0887"
             ],
             [
              0.1111111111111111,
              "#46039f"
             ],
             [
              0.2222222222222222,
              "#7201a8"
             ],
             [
              0.3333333333333333,
              "#9c179e"
             ],
             [
              0.4444444444444444,
              "#bd3786"
             ],
             [
              0.5555555555555556,
              "#d8576b"
             ],
             [
              0.6666666666666666,
              "#ed7953"
             ],
             [
              0.7777777777777778,
              "#fb9f3a"
             ],
             [
              0.8888888888888888,
              "#fdca26"
             ],
             [
              1,
              "#f0f921"
             ]
            ],
            "type": "surface"
           }
          ],
          "table": [
           {
            "cells": {
             "fill": {
              "color": "#EBF0F8"
             },
             "line": {
              "color": "white"
             }
            },
            "header": {
             "fill": {
              "color": "#C8D4E3"
             },
             "line": {
              "color": "white"
             }
            },
            "type": "table"
           }
          ]
         },
         "layout": {
          "annotationdefaults": {
           "arrowcolor": "#2a3f5f",
           "arrowhead": 0,
           "arrowwidth": 1
          },
          "autotypenumbers": "strict",
          "coloraxis": {
           "colorbar": {
            "outlinewidth": 0,
            "ticks": ""
           }
          },
          "colorscale": {
           "diverging": [
            [
             0,
             "#8e0152"
            ],
            [
             0.1,
             "#c51b7d"
            ],
            [
             0.2,
             "#de77ae"
            ],
            [
             0.3,
             "#f1b6da"
            ],
            [
             0.4,
             "#fde0ef"
            ],
            [
             0.5,
             "#f7f7f7"
            ],
            [
             0.6,
             "#e6f5d0"
            ],
            [
             0.7,
             "#b8e186"
            ],
            [
             0.8,
             "#7fbc41"
            ],
            [
             0.9,
             "#4d9221"
            ],
            [
             1,
             "#276419"
            ]
           ],
           "sequential": [
            [
             0,
             "#0d0887"
            ],
            [
             0.1111111111111111,
             "#46039f"
            ],
            [
             0.2222222222222222,
             "#7201a8"
            ],
            [
             0.3333333333333333,
             "#9c179e"
            ],
            [
             0.4444444444444444,
             "#bd3786"
            ],
            [
             0.5555555555555556,
             "#d8576b"
            ],
            [
             0.6666666666666666,
             "#ed7953"
            ],
            [
             0.7777777777777778,
             "#fb9f3a"
            ],
            [
             0.8888888888888888,
             "#fdca26"
            ],
            [
             1,
             "#f0f921"
            ]
           ],
           "sequentialminus": [
            [
             0,
             "#0d0887"
            ],
            [
             0.1111111111111111,
             "#46039f"
            ],
            [
             0.2222222222222222,
             "#7201a8"
            ],
            [
             0.3333333333333333,
             "#9c179e"
            ],
            [
             0.4444444444444444,
             "#bd3786"
            ],
            [
             0.5555555555555556,
             "#d8576b"
            ],
            [
             0.6666666666666666,
             "#ed7953"
            ],
            [
             0.7777777777777778,
             "#fb9f3a"
            ],
            [
             0.8888888888888888,
             "#fdca26"
            ],
            [
             1,
             "#f0f921"
            ]
           ]
          },
          "colorway": [
           "#636efa",
           "#EF553B",
           "#00cc96",
           "#ab63fa",
           "#FFA15A",
           "#19d3f3",
           "#FF6692",
           "#B6E880",
           "#FF97FF",
           "#FECB52"
          ],
          "font": {
           "color": "#2a3f5f"
          },
          "geo": {
           "bgcolor": "white",
           "lakecolor": "white",
           "landcolor": "#E5ECF6",
           "showlakes": true,
           "showland": true,
           "subunitcolor": "white"
          },
          "hoverlabel": {
           "align": "left"
          },
          "hovermode": "closest",
          "mapbox": {
           "style": "light"
          },
          "paper_bgcolor": "white",
          "plot_bgcolor": "#E5ECF6",
          "polar": {
           "angularaxis": {
            "gridcolor": "white",
            "linecolor": "white",
            "ticks": ""
           },
           "bgcolor": "#E5ECF6",
           "radialaxis": {
            "gridcolor": "white",
            "linecolor": "white",
            "ticks": ""
           }
          },
          "scene": {
           "xaxis": {
            "backgroundcolor": "#E5ECF6",
            "gridcolor": "white",
            "gridwidth": 2,
            "linecolor": "white",
            "showbackground": true,
            "ticks": "",
            "zerolinecolor": "white"
           },
           "yaxis": {
            "backgroundcolor": "#E5ECF6",
            "gridcolor": "white",
            "gridwidth": 2,
            "linecolor": "white",
            "showbackground": true,
            "ticks": "",
            "zerolinecolor": "white"
           },
           "zaxis": {
            "backgroundcolor": "#E5ECF6",
            "gridcolor": "white",
            "gridwidth": 2,
            "linecolor": "white",
            "showbackground": true,
            "ticks": "",
            "zerolinecolor": "white"
           }
          },
          "shapedefaults": {
           "line": {
            "color": "#2a3f5f"
           }
          },
          "ternary": {
           "aaxis": {
            "gridcolor": "white",
            "linecolor": "white",
            "ticks": ""
           },
           "baxis": {
            "gridcolor": "white",
            "linecolor": "white",
            "ticks": ""
           },
           "bgcolor": "#E5ECF6",
           "caxis": {
            "gridcolor": "white",
            "linecolor": "white",
            "ticks": ""
           }
          },
          "title": {
           "x": 0.05
          },
          "xaxis": {
           "automargin": true,
           "gridcolor": "white",
           "linecolor": "white",
           "ticks": "",
           "title": {
            "standoff": 15
           },
           "zerolinecolor": "white",
           "zerolinewidth": 2
          },
          "yaxis": {
           "automargin": true,
           "gridcolor": "white",
           "linecolor": "white",
           "ticks": "",
           "title": {
            "standoff": 15
           },
           "zerolinecolor": "white",
           "zerolinewidth": 2
          }
         }
        },
        "title": {
         "text": "Modelo lineal"
        },
        "xaxis": {
         "ticklen": 5,
         "title": {
          "text": "Precio real"
         }
        },
        "yaxis": {
         "ticklen": 5,
         "title": {
          "text": "Precio estimado"
         }
        }
       }
      }
     },
     "metadata": {},
     "output_type": "display_data"
    }
   ],
   "source": [
    "\n",
    "from plotly.offline import init_notebook_mode, iplot\n",
    "import plotly.graph_objs as go\n",
    "trace1 = go.Scatter(\n",
    "                    x =y_test ,\n",
    "                    y = prediction_lm,\n",
    "                    name = 'citations',\n",
    "                    mode= \"markers\",\n",
    "                    marker = dict(color = 'rgba(16, 112, 2, 0.8)'))\n",
    "data = [trace1]\n",
    "\n",
    "layout = dict(title = \"Modelo lineal\",\n",
    "             xaxis= dict(title= 'Precio real',ticklen= 5),\n",
    "            yaxis= dict(title= 'Precio estimado',ticklen= 5)\n",
    "           )\n",
    "\n",
    "fig = go.Figure(data = data, layout=layout)\n",
    "\n",
    "iplot(fig)"
   ]
  },
  {
   "cell_type": "code",
   "execution_count": 52,
   "id": "c66cc0fe",
   "metadata": {},
   "outputs": [
    {
     "name": "stdout",
     "output_type": "stream",
     "text": [
      "R2 train 0.7789470756100267\n",
      "R2 test 0.6640094061756852\n",
      "cross_val 0.7586854269701078\n",
      "293.2228597126592\n"
     ]
    }
   ],
   "source": [
    "from sklearn.metrics   import mean_absolute_error\n",
    "from  sklearn.model_selection import cross_validate\n",
    "import numpy as np\n",
    "rmsec_lm=(mean_absolute_error(pd.DataFrame(y_test),pd.DataFrame(prediction_lm)))\n",
    "\n",
    "\n",
    "\n",
    "print(\"R2 train\", lm.score(X_train, y_train))\n",
    "print(\"R2 test\",lm.score(X_test, y_test))\n",
    "print(\"cross_val\", cross_validate(lm, X_train, y_train, cv=5)[\"test_score\"].mean())\n",
    "print(rmsec_lm)"
   ]
  },
  {
   "cell_type": "code",
   "execution_count": 53,
   "id": "b22e5317",
   "metadata": {},
   "outputs": [
    {
     "data": {
      "text/plain": [
       "NormaltestResult(statistic=np.float64(20.997463504806866), pvalue=np.float64(2.757139454034599e-05))"
      ]
     },
     "execution_count": 53,
     "metadata": {},
     "output_type": "execute_result"
    }
   ],
   "source": [
    "from scipy import stats\n",
    "\n",
    "res = stats.normaltest(y_test - prediction_lm)\n",
    "res # parece que si"
   ]
  },
  {
   "cell_type": "code",
   "execution_count": 54,
   "id": "f6ebea7e",
   "metadata": {},
   "outputs": [
    {
     "ename": "NameError",
     "evalue": "name 'e' is not defined",
     "output_type": "error",
     "traceback": [
      "\u001b[31m---------------------------------------------------------------------------\u001b[39m",
      "\u001b[31mNameError\u001b[39m                                 Traceback (most recent call last)",
      "\u001b[36mCell\u001b[39m\u001b[36m \u001b[39m\u001b[32mIn[54]\u001b[39m\u001b[32m, line 1\u001b[39m\n\u001b[32m----> \u001b[39m\u001b[32m1\u001b[39m \u001b[43me\u001b[49m\n",
      "\u001b[31mNameError\u001b[39m: name 'e' is not defined"
     ]
    }
   ],
   "source": [
    "e"
   ]
  },
  {
   "cell_type": "markdown",
   "id": "6bdc0c76",
   "metadata": {},
   "source": [
    "# Grado 2"
   ]
  },
  {
   "cell_type": "code",
   "execution_count": 55,
   "id": "bee8c33e",
   "metadata": {},
   "outputs": [
    {
     "data": {
      "text/html": [
       "<style>#sk-container-id-1 {\n",
       "  /* Definition of color scheme common for light and dark mode */\n",
       "  --sklearn-color-text: black;\n",
       "  --sklearn-color-line: gray;\n",
       "  /* Definition of color scheme for unfitted estimators */\n",
       "  --sklearn-color-unfitted-level-0: #fff5e6;\n",
       "  --sklearn-color-unfitted-level-1: #f6e4d2;\n",
       "  --sklearn-color-unfitted-level-2: #ffe0b3;\n",
       "  --sklearn-color-unfitted-level-3: chocolate;\n",
       "  /* Definition of color scheme for fitted estimators */\n",
       "  --sklearn-color-fitted-level-0: #f0f8ff;\n",
       "  --sklearn-color-fitted-level-1: #d4ebff;\n",
       "  --sklearn-color-fitted-level-2: #b3dbfd;\n",
       "  --sklearn-color-fitted-level-3: cornflowerblue;\n",
       "\n",
       "  /* Specific color for light theme */\n",
       "  --sklearn-color-text-on-default-background: var(--sg-text-color, var(--theme-code-foreground, var(--jp-content-font-color1, black)));\n",
       "  --sklearn-color-background: var(--sg-background-color, var(--theme-background, var(--jp-layout-color0, white)));\n",
       "  --sklearn-color-border-box: var(--sg-text-color, var(--theme-code-foreground, var(--jp-content-font-color1, black)));\n",
       "  --sklearn-color-icon: #696969;\n",
       "\n",
       "  @media (prefers-color-scheme: dark) {\n",
       "    /* Redefinition of color scheme for dark theme */\n",
       "    --sklearn-color-text-on-default-background: var(--sg-text-color, var(--theme-code-foreground, var(--jp-content-font-color1, white)));\n",
       "    --sklearn-color-background: var(--sg-background-color, var(--theme-background, var(--jp-layout-color0, #111)));\n",
       "    --sklearn-color-border-box: var(--sg-text-color, var(--theme-code-foreground, var(--jp-content-font-color1, white)));\n",
       "    --sklearn-color-icon: #878787;\n",
       "  }\n",
       "}\n",
       "\n",
       "#sk-container-id-1 {\n",
       "  color: var(--sklearn-color-text);\n",
       "}\n",
       "\n",
       "#sk-container-id-1 pre {\n",
       "  padding: 0;\n",
       "}\n",
       "\n",
       "#sk-container-id-1 input.sk-hidden--visually {\n",
       "  border: 0;\n",
       "  clip: rect(1px 1px 1px 1px);\n",
       "  clip: rect(1px, 1px, 1px, 1px);\n",
       "  height: 1px;\n",
       "  margin: -1px;\n",
       "  overflow: hidden;\n",
       "  padding: 0;\n",
       "  position: absolute;\n",
       "  width: 1px;\n",
       "}\n",
       "\n",
       "#sk-container-id-1 div.sk-dashed-wrapped {\n",
       "  border: 1px dashed var(--sklearn-color-line);\n",
       "  margin: 0 0.4em 0.5em 0.4em;\n",
       "  box-sizing: border-box;\n",
       "  padding-bottom: 0.4em;\n",
       "  background-color: var(--sklearn-color-background);\n",
       "}\n",
       "\n",
       "#sk-container-id-1 div.sk-container {\n",
       "  /* jupyter's `normalize.less` sets `[hidden] { display: none; }`\n",
       "     but bootstrap.min.css set `[hidden] { display: none !important; }`\n",
       "     so we also need the `!important` here to be able to override the\n",
       "     default hidden behavior on the sphinx rendered scikit-learn.org.\n",
       "     See: https://github.com/scikit-learn/scikit-learn/issues/21755 */\n",
       "  display: inline-block !important;\n",
       "  position: relative;\n",
       "}\n",
       "\n",
       "#sk-container-id-1 div.sk-text-repr-fallback {\n",
       "  display: none;\n",
       "}\n",
       "\n",
       "div.sk-parallel-item,\n",
       "div.sk-serial,\n",
       "div.sk-item {\n",
       "  /* draw centered vertical line to link estimators */\n",
       "  background-image: linear-gradient(var(--sklearn-color-text-on-default-background), var(--sklearn-color-text-on-default-background));\n",
       "  background-size: 2px 100%;\n",
       "  background-repeat: no-repeat;\n",
       "  background-position: center center;\n",
       "}\n",
       "\n",
       "/* Parallel-specific style estimator block */\n",
       "\n",
       "#sk-container-id-1 div.sk-parallel-item::after {\n",
       "  content: \"\";\n",
       "  width: 100%;\n",
       "  border-bottom: 2px solid var(--sklearn-color-text-on-default-background);\n",
       "  flex-grow: 1;\n",
       "}\n",
       "\n",
       "#sk-container-id-1 div.sk-parallel {\n",
       "  display: flex;\n",
       "  align-items: stretch;\n",
       "  justify-content: center;\n",
       "  background-color: var(--sklearn-color-background);\n",
       "  position: relative;\n",
       "}\n",
       "\n",
       "#sk-container-id-1 div.sk-parallel-item {\n",
       "  display: flex;\n",
       "  flex-direction: column;\n",
       "}\n",
       "\n",
       "#sk-container-id-1 div.sk-parallel-item:first-child::after {\n",
       "  align-self: flex-end;\n",
       "  width: 50%;\n",
       "}\n",
       "\n",
       "#sk-container-id-1 div.sk-parallel-item:last-child::after {\n",
       "  align-self: flex-start;\n",
       "  width: 50%;\n",
       "}\n",
       "\n",
       "#sk-container-id-1 div.sk-parallel-item:only-child::after {\n",
       "  width: 0;\n",
       "}\n",
       "\n",
       "/* Serial-specific style estimator block */\n",
       "\n",
       "#sk-container-id-1 div.sk-serial {\n",
       "  display: flex;\n",
       "  flex-direction: column;\n",
       "  align-items: center;\n",
       "  background-color: var(--sklearn-color-background);\n",
       "  padding-right: 1em;\n",
       "  padding-left: 1em;\n",
       "}\n",
       "\n",
       "\n",
       "/* Toggleable style: style used for estimator/Pipeline/ColumnTransformer box that is\n",
       "clickable and can be expanded/collapsed.\n",
       "- Pipeline and ColumnTransformer use this feature and define the default style\n",
       "- Estimators will overwrite some part of the style using the `sk-estimator` class\n",
       "*/\n",
       "\n",
       "/* Pipeline and ColumnTransformer style (default) */\n",
       "\n",
       "#sk-container-id-1 div.sk-toggleable {\n",
       "  /* Default theme specific background. It is overwritten whether we have a\n",
       "  specific estimator or a Pipeline/ColumnTransformer */\n",
       "  background-color: var(--sklearn-color-background);\n",
       "}\n",
       "\n",
       "/* Toggleable label */\n",
       "#sk-container-id-1 label.sk-toggleable__label {\n",
       "  cursor: pointer;\n",
       "  display: block;\n",
       "  width: 100%;\n",
       "  margin-bottom: 0;\n",
       "  padding: 0.5em;\n",
       "  box-sizing: border-box;\n",
       "  text-align: center;\n",
       "}\n",
       "\n",
       "#sk-container-id-1 label.sk-toggleable__label-arrow:before {\n",
       "  /* Arrow on the left of the label */\n",
       "  content: \"▸\";\n",
       "  float: left;\n",
       "  margin-right: 0.25em;\n",
       "  color: var(--sklearn-color-icon);\n",
       "}\n",
       "\n",
       "#sk-container-id-1 label.sk-toggleable__label-arrow:hover:before {\n",
       "  color: var(--sklearn-color-text);\n",
       "}\n",
       "\n",
       "/* Toggleable content - dropdown */\n",
       "\n",
       "#sk-container-id-1 div.sk-toggleable__content {\n",
       "  max-height: 0;\n",
       "  max-width: 0;\n",
       "  overflow: hidden;\n",
       "  text-align: left;\n",
       "  /* unfitted */\n",
       "  background-color: var(--sklearn-color-unfitted-level-0);\n",
       "}\n",
       "\n",
       "#sk-container-id-1 div.sk-toggleable__content.fitted {\n",
       "  /* fitted */\n",
       "  background-color: var(--sklearn-color-fitted-level-0);\n",
       "}\n",
       "\n",
       "#sk-container-id-1 div.sk-toggleable__content pre {\n",
       "  margin: 0.2em;\n",
       "  border-radius: 0.25em;\n",
       "  color: var(--sklearn-color-text);\n",
       "  /* unfitted */\n",
       "  background-color: var(--sklearn-color-unfitted-level-0);\n",
       "}\n",
       "\n",
       "#sk-container-id-1 div.sk-toggleable__content.fitted pre {\n",
       "  /* unfitted */\n",
       "  background-color: var(--sklearn-color-fitted-level-0);\n",
       "}\n",
       "\n",
       "#sk-container-id-1 input.sk-toggleable__control:checked~div.sk-toggleable__content {\n",
       "  /* Expand drop-down */\n",
       "  max-height: 200px;\n",
       "  max-width: 100%;\n",
       "  overflow: auto;\n",
       "}\n",
       "\n",
       "#sk-container-id-1 input.sk-toggleable__control:checked~label.sk-toggleable__label-arrow:before {\n",
       "  content: \"▾\";\n",
       "}\n",
       "\n",
       "/* Pipeline/ColumnTransformer-specific style */\n",
       "\n",
       "#sk-container-id-1 div.sk-label input.sk-toggleable__control:checked~label.sk-toggleable__label {\n",
       "  color: var(--sklearn-color-text);\n",
       "  background-color: var(--sklearn-color-unfitted-level-2);\n",
       "}\n",
       "\n",
       "#sk-container-id-1 div.sk-label.fitted input.sk-toggleable__control:checked~label.sk-toggleable__label {\n",
       "  background-color: var(--sklearn-color-fitted-level-2);\n",
       "}\n",
       "\n",
       "/* Estimator-specific style */\n",
       "\n",
       "/* Colorize estimator box */\n",
       "#sk-container-id-1 div.sk-estimator input.sk-toggleable__control:checked~label.sk-toggleable__label {\n",
       "  /* unfitted */\n",
       "  background-color: var(--sklearn-color-unfitted-level-2);\n",
       "}\n",
       "\n",
       "#sk-container-id-1 div.sk-estimator.fitted input.sk-toggleable__control:checked~label.sk-toggleable__label {\n",
       "  /* fitted */\n",
       "  background-color: var(--sklearn-color-fitted-level-2);\n",
       "}\n",
       "\n",
       "#sk-container-id-1 div.sk-label label.sk-toggleable__label,\n",
       "#sk-container-id-1 div.sk-label label {\n",
       "  /* The background is the default theme color */\n",
       "  color: var(--sklearn-color-text-on-default-background);\n",
       "}\n",
       "\n",
       "/* On hover, darken the color of the background */\n",
       "#sk-container-id-1 div.sk-label:hover label.sk-toggleable__label {\n",
       "  color: var(--sklearn-color-text);\n",
       "  background-color: var(--sklearn-color-unfitted-level-2);\n",
       "}\n",
       "\n",
       "/* Label box, darken color on hover, fitted */\n",
       "#sk-container-id-1 div.sk-label.fitted:hover label.sk-toggleable__label.fitted {\n",
       "  color: var(--sklearn-color-text);\n",
       "  background-color: var(--sklearn-color-fitted-level-2);\n",
       "}\n",
       "\n",
       "/* Estimator label */\n",
       "\n",
       "#sk-container-id-1 div.sk-label label {\n",
       "  font-family: monospace;\n",
       "  font-weight: bold;\n",
       "  display: inline-block;\n",
       "  line-height: 1.2em;\n",
       "}\n",
       "\n",
       "#sk-container-id-1 div.sk-label-container {\n",
       "  text-align: center;\n",
       "}\n",
       "\n",
       "/* Estimator-specific */\n",
       "#sk-container-id-1 div.sk-estimator {\n",
       "  font-family: monospace;\n",
       "  border: 1px dotted var(--sklearn-color-border-box);\n",
       "  border-radius: 0.25em;\n",
       "  box-sizing: border-box;\n",
       "  margin-bottom: 0.5em;\n",
       "  /* unfitted */\n",
       "  background-color: var(--sklearn-color-unfitted-level-0);\n",
       "}\n",
       "\n",
       "#sk-container-id-1 div.sk-estimator.fitted {\n",
       "  /* fitted */\n",
       "  background-color: var(--sklearn-color-fitted-level-0);\n",
       "}\n",
       "\n",
       "/* on hover */\n",
       "#sk-container-id-1 div.sk-estimator:hover {\n",
       "  /* unfitted */\n",
       "  background-color: var(--sklearn-color-unfitted-level-2);\n",
       "}\n",
       "\n",
       "#sk-container-id-1 div.sk-estimator.fitted:hover {\n",
       "  /* fitted */\n",
       "  background-color: var(--sklearn-color-fitted-level-2);\n",
       "}\n",
       "\n",
       "/* Specification for estimator info (e.g. \"i\" and \"?\") */\n",
       "\n",
       "/* Common style for \"i\" and \"?\" */\n",
       "\n",
       ".sk-estimator-doc-link,\n",
       "a:link.sk-estimator-doc-link,\n",
       "a:visited.sk-estimator-doc-link {\n",
       "  float: right;\n",
       "  font-size: smaller;\n",
       "  line-height: 1em;\n",
       "  font-family: monospace;\n",
       "  background-color: var(--sklearn-color-background);\n",
       "  border-radius: 1em;\n",
       "  height: 1em;\n",
       "  width: 1em;\n",
       "  text-decoration: none !important;\n",
       "  margin-left: 1ex;\n",
       "  /* unfitted */\n",
       "  border: var(--sklearn-color-unfitted-level-1) 1pt solid;\n",
       "  color: var(--sklearn-color-unfitted-level-1);\n",
       "}\n",
       "\n",
       ".sk-estimator-doc-link.fitted,\n",
       "a:link.sk-estimator-doc-link.fitted,\n",
       "a:visited.sk-estimator-doc-link.fitted {\n",
       "  /* fitted */\n",
       "  border: var(--sklearn-color-fitted-level-1) 1pt solid;\n",
       "  color: var(--sklearn-color-fitted-level-1);\n",
       "}\n",
       "\n",
       "/* On hover */\n",
       "div.sk-estimator:hover .sk-estimator-doc-link:hover,\n",
       ".sk-estimator-doc-link:hover,\n",
       "div.sk-label-container:hover .sk-estimator-doc-link:hover,\n",
       ".sk-estimator-doc-link:hover {\n",
       "  /* unfitted */\n",
       "  background-color: var(--sklearn-color-unfitted-level-3);\n",
       "  color: var(--sklearn-color-background);\n",
       "  text-decoration: none;\n",
       "}\n",
       "\n",
       "div.sk-estimator.fitted:hover .sk-estimator-doc-link.fitted:hover,\n",
       ".sk-estimator-doc-link.fitted:hover,\n",
       "div.sk-label-container:hover .sk-estimator-doc-link.fitted:hover,\n",
       ".sk-estimator-doc-link.fitted:hover {\n",
       "  /* fitted */\n",
       "  background-color: var(--sklearn-color-fitted-level-3);\n",
       "  color: var(--sklearn-color-background);\n",
       "  text-decoration: none;\n",
       "}\n",
       "\n",
       "/* Span, style for the box shown on hovering the info icon */\n",
       ".sk-estimator-doc-link span {\n",
       "  display: none;\n",
       "  z-index: 9999;\n",
       "  position: relative;\n",
       "  font-weight: normal;\n",
       "  right: .2ex;\n",
       "  padding: .5ex;\n",
       "  margin: .5ex;\n",
       "  width: min-content;\n",
       "  min-width: 20ex;\n",
       "  max-width: 50ex;\n",
       "  color: var(--sklearn-color-text);\n",
       "  box-shadow: 2pt 2pt 4pt #999;\n",
       "  /* unfitted */\n",
       "  background: var(--sklearn-color-unfitted-level-0);\n",
       "  border: .5pt solid var(--sklearn-color-unfitted-level-3);\n",
       "}\n",
       "\n",
       ".sk-estimator-doc-link.fitted span {\n",
       "  /* fitted */\n",
       "  background: var(--sklearn-color-fitted-level-0);\n",
       "  border: var(--sklearn-color-fitted-level-3);\n",
       "}\n",
       "\n",
       ".sk-estimator-doc-link:hover span {\n",
       "  display: block;\n",
       "}\n",
       "\n",
       "/* \"?\"-specific style due to the `<a>` HTML tag */\n",
       "\n",
       "#sk-container-id-1 a.estimator_doc_link {\n",
       "  float: right;\n",
       "  font-size: 1rem;\n",
       "  line-height: 1em;\n",
       "  font-family: monospace;\n",
       "  background-color: var(--sklearn-color-background);\n",
       "  border-radius: 1rem;\n",
       "  height: 1rem;\n",
       "  width: 1rem;\n",
       "  text-decoration: none;\n",
       "  /* unfitted */\n",
       "  color: var(--sklearn-color-unfitted-level-1);\n",
       "  border: var(--sklearn-color-unfitted-level-1) 1pt solid;\n",
       "}\n",
       "\n",
       "#sk-container-id-1 a.estimator_doc_link.fitted {\n",
       "  /* fitted */\n",
       "  border: var(--sklearn-color-fitted-level-1) 1pt solid;\n",
       "  color: var(--sklearn-color-fitted-level-1);\n",
       "}\n",
       "\n",
       "/* On hover */\n",
       "#sk-container-id-1 a.estimator_doc_link:hover {\n",
       "  /* unfitted */\n",
       "  background-color: var(--sklearn-color-unfitted-level-3);\n",
       "  color: var(--sklearn-color-background);\n",
       "  text-decoration: none;\n",
       "}\n",
       "\n",
       "#sk-container-id-1 a.estimator_doc_link.fitted:hover {\n",
       "  /* fitted */\n",
       "  background-color: var(--sklearn-color-fitted-level-3);\n",
       "}\n",
       "</style><div id=\"sk-container-id-1\" class=\"sk-top-container\"><div class=\"sk-text-repr-fallback\"><pre>LinearRegression()</pre><b>In a Jupyter environment, please rerun this cell to show the HTML representation or trust the notebook. <br />On GitHub, the HTML representation is unable to render, please try loading this page with nbviewer.org.</b></div><div class=\"sk-container\" hidden><div class=\"sk-item\"><div class=\"sk-estimator fitted sk-toggleable\"><input class=\"sk-toggleable__control sk-hidden--visually\" id=\"sk-estimator-id-1\" type=\"checkbox\" checked><label for=\"sk-estimator-id-1\" class=\"sk-toggleable__label fitted sk-toggleable__label-arrow fitted\">&nbsp;&nbsp;LinearRegression<a class=\"sk-estimator-doc-link fitted\" rel=\"noreferrer\" target=\"_blank\" href=\"https://scikit-learn.org/1.5/modules/generated/sklearn.linear_model.LinearRegression.html\">?<span>Documentation for LinearRegression</span></a><span class=\"sk-estimator-doc-link fitted\">i<span>Fitted</span></span></label><div class=\"sk-toggleable__content fitted\"><pre>LinearRegression()</pre></div> </div></div></div></div>"
      ],
      "text/plain": [
       "LinearRegression()"
      ]
     },
     "execution_count": 55,
     "metadata": {},
     "output_type": "execute_result"
    }
   ],
   "source": [
    "lin_reg = LinearRegression()\n",
    "lin_reg.fit(X_train, y_train)"
   ]
  },
  {
   "cell_type": "code",
   "execution_count": 57,
   "id": "a5cd7ad1",
   "metadata": {},
   "outputs": [
    {
     "name": "stdout",
     "output_type": "stream",
     "text": [
      "RMSE: 277.05590136918863\n",
      "______________________________\n",
      "R2 train 0.8655149281504996\n",
      "R2 test 0.39821819529904234\n",
      "cross_val -0.7844607940145171\n"
     ]
    }
   ],
   "source": [
    "from sklearn.preprocessing import PolynomialFeatures\n",
    "from  sklearn.model_selection import cross_validate\n",
    "\n",
    "poly_feats = PolynomialFeatures(degree = 2)\n",
    "poly_feats.fit(X)\n",
    "X_poly = poly_feats.transform(X)\n",
    "\n",
    "X_train, X_test, y_train, y_test = train_test_split(X_poly,y, test_size = 0.2, random_state=24)\n",
    "lin_reg.fit(X_train, y_train)\n",
    "predictions = lin_reg.predict(X_test)\n",
    "\n",
    "\n",
    "print(\"RMSE:\", (mean_absolute_error(y_test, predictions)))\n",
    "print(\"_\"*30)\n",
    "print(\"R2 train\", lin_reg.score(X_train, y_train))\n",
    "\n",
    "\n",
    "print(\"R2 test\",lin_reg.score(X_test, y_test))\n",
    "print(\"cross_val\", cross_validate(lin_reg, X_train, y_train, cv=5)[\"test_score\"].mean())"
   ]
  },
  {
   "cell_type": "code",
   "execution_count": null,
   "id": "2185917e",
   "metadata": {},
   "outputs": [
    {
     "data": {
      "application/vnd.plotly.v1+json": {
       "config": {
        "linkText": "Export to plot.ly",
        "plotlyServerURL": "https://plot.ly",
        "showLink": false
       },
       "data": [
        {
         "marker": {
          "color": "rgba(16, 112, 2, 0.8)"
         },
         "mode": "markers",
         "name": "citations",
         "type": "scatter",
         "x": {
          "bdata": "AAAAAABQeEAAAAAAAEBwQAAAAAAAuIRAAAAAAADgg0AAAAAAAEyUQAAAAAAACItAFK5H4fpppkAAAAAAACCXQAAAAAAA4IpAmpmZmZlTm0AAAAAAAFyYQAAAAAAAAI1AAAAAAACsnUAAAAAAALB3QGZmZmZmvntAAAAAAACskkAAAAAAADiKQAAAAAAAMHVAAAAAAADQfkAAAAAAAIySQDMzMzMze3xArkfhehSoiEAAAAAAAHiLQAAAAAAApJ9AKVyPwvUMk0AAAAAAAKamQNejcD2KiadAAAAAAABomkAAAAAAAFB4QAAAAAAAFqVAAAAAAACYjkAAAAAAAPSRQAAAAAAAyIlAAAAAAADAdUAAAAAAADiPQAAAAAAAHJdAAAAAAACwk0AAAAAAABB3QEjhehSudZtAAAAAAADYjUAAAAAAAPibQAAAAAAAyIhAAAAAAAA4j0AAAAAAALiVQAAAAAAAkIZAAAAAAACweEAAAAAAAABxQArXo3A97n1AAAAAAAAAc0AAAAAAADBxQAAAAAAArJ1AAAAAAAD4jUAAAAAAADiDQAAAAAAAyIRAAAAAAADgaEDsUbgehVGCQAAAAAAACI5AAAAAAADknEAAAAAAACyRQAAAAAAAFJVAAAAAAABojkDNzMzMzCGgQAAAAAAALJJAAAAAAABYm0AAAAAAAFarQAAAAAAA2IBAAAAAAAAskUAAAAAAABycQAAAAAAA+IFAAAAAAADYgkAAAAAAAJ6kQAAAAAAA2I1AAAAAAAB4gUAAAAAAAFiIQAAAAAAAYHhAAAAAAADEmUAAAAAAADiDQAAAAAAAMINAj8L1KFyVoUAAAAAAAPyYQPYoXI/C7pRAZmZmZmb+h0AAAAAAAOiOQAAAAAAATJRAzczMzMybkEAAAAAAAIajQAAAAAAA+JhAAAAAAADckEAAAAAAAPyYQAAAAAAAkHRAAAAAAAAElkAAAAAAAFB9QJqZmZmZZ5VAAAAAAAD0kEAAAAAAAFSbQAAAAAAA9JZAAAAAAABIh0AAAAAAAJSSQAAAAAAAyI5A7FG4HoWLb0AAAAAAABiMQAAAAAAAWIhAAAAAAAAIg0AAAAAAAN6lQAAAAAAAqI1AAAAAAADAe0AAAAAAAGiXQAAAAAAA0H9AAAAAAAAgakBmZmZmZp5+QAAAAAAAxJlAAAAAAADwg0BSuB6F67eCQDMzMzMzAYFAAAAAAAA4ikAAAAAAABSVQAAAAAAAkHBAAAAAAAACoEAAAAAAAMiWQAAAAAAAOI9AAAAAAADslEAAAAAAAPiBQAAAAAAAGIxAAAAAAACskkAAAAAAAGycQAAAAAAAUHRAAAAAAADokkAAAAAAABycQGZmZmZmvnxAAAAAAABUm0BmZmZm5vGhQAAAAAAAQHRAAAAAAAC8kkAAAAAAACqiQFK4HoXrr4VAAAAAAAAAiUAAAAAAAEyUQAAAAAAAKIFAAAAAAACUnEAAAAAAAIajQAAAAAAAUHhAKVyPwvVcoEAAAAAAABiHQAAAAAAAqJtAAAAAAAAcnED2KFyPwlmQQAAAAAAAEKZAAAAAAAAYhUAAAAAAAASVQAAAAAAA4JBAZmZmZmZmhUAAAAAAAJCbQAAAAAAA2IVAAAAAAAA0mEAAAAAAADiPQAAAAAAA0HpApHA9CtfveEAAAAAAAMiLQAAAAAAAHJxAAAAAAABIgkAAAAAAAEaiQAAAAAAAsIpAAAAAAADAeUAAAAAAADSdQAAAAAAAiIVAAAAAAACQfkAAAAAAANuRQM3MzMzMKoVAZmZmZmYuf0AAAAAAAFB4QAAAAAAAJJ9AAAAAAAAio0AAAAAAANyQQAAAAAAAbJdAZmZmZubSo0AAAAAAAACZQAAAAAAAkHJAAAAAAAAAikDNzMzMzPxnQAAAAAAAsHxAAAAAAADAkkAAAAAAAJiJQAAAAAAA6I5A",
          "dtype": "f8"
         },
         "y": {
          "bdata": "ADE0C4bNfUD4Lnc4BuB5QEZhzlKgf5RA1AFnKPWHgUAsFq9Z1HydQHADLl6J/Y1A2peZd50+pEBmb8H+RRuYQKBLVHKEBpBAAd0+55dHoUDoShp7uXGTQH7iwthRNZRAyn/1P8XonkBgEy/kw0RuQEj/2M7FOHlAYhqY3D64kEB0as3e8QyKQFh/UD4J6nBApJFbZnKwhUBk1mcRxvKSQDAMjOUkfX1AWHKxhznHlUAaZB+oxCCUQLLaE2RyG51AuCkB25GIkUCMAZ9ahWaCQPosatSITaJAChZQJUFpmEA4Zj1y7J6BQNqXmXedPqRAgEJD08RNkEDkZEMGRJiVQIijaAjgR4dAIJaA/ORWcUAQf+UfmLWWQNyDkrKemZtAoNthpqlXk0AQBHW4lVhzQNSLwJWOKZhAotwNaJ/GlUBsDNFAugqaQPSUM74chYtAgO0m2A0ES8D8SJa997mQQKwiUxEXF4ZAYGplJmW/ekBY2ScsLu51QJDT4B1hanFAKFC2fe1MdUCYpJA/zdtsQOtqv0vDnqBALGtyNfbqhUCscdk/xV5xQGAG75hTEIhAyPm1JBXAd0AwXRuuYUaKQMAz+QpoooxAnusx/N0WmkC6ZdmIoiiYQOR+utEd7pZA5OYAYSHhkkBQx0NrucShQOuzc38WqpNA/FteFl9mmkArmOHIZWanQNREK+sgRoJAFIUuNFVCk0Bj5ZT7egiiQIgPCx62EnZANKJfPnKgjEBWJtzO5qSnQLRiQryTMIdAQLJxaexVh0A2X8Dtd02QQNhzUcg+THpAeDEpuko2jEAi4votNRSEQDAMjOUkfX1A4OhRHh/RjUDYlvOJOv6VQKS8RWQbOJVAaOHbs6mnikAiPNDo8UeVQCZtMF9QYZtA+MMgxkIvjUBaW5CkrlKlQJzmr+JOrZtAnOHQzFiPmUCqBxYCoxyYQJDfkMWTUHJAMImKSEbTlEButaxJm6eKQFh+Gq7t5pVAmAt9/lr5iUC6+a8jMJSgQEwXPBdL8JFA0Mo++33wi0CIFTvJPgGDQBT+0pm3LJRAOHsgQJPMcEAoU+Bf3mmWQPhiFUV2QYxAYLENTk1SgkCKAgPwgZChQFB5kXY/KI1AFK8TyEI7gUBQ7dOaHiugQJATk8mlpYdA8DZ/Sq5rbkDYc1HIPkx6QHxrjqWW8ZpA+LXNcFNgkEAEEdcqs8KOQJDarEkFL39A6N8+kG08jUDMUsYl6xuYQAjMlG/NLGBACI5N8fzGlkAwNJaVtimYQLA+g7zBro1A1Onb1GOdlEC4J0ZUhY2PQLinkW5csItAYhqY3D64kEBM4X2U7U6aQIh0Nlf0bXFApqSNxxJjkUD0DgAk6JObQOhoRJjH33FAt4rwRg5AoECGX5PcLieXQKDOopapum1A1BcaC1GajkBUz4/0WNSXQHyoEPaxlo1AcAb+mqtyhUAcrtQnNyiXQNjnII8dWYhAMEsbru18mEDoAcUebEydQOBA9IGc/WBA5i+Z0EGsnUDoXnxrnVeGQKgmOyU7k4xAJj3B8PoNmECk2xpCu1WGQNmGFzrncqJAKI3NQ2qfiEDannsDVdyQQGA63RVz14tAmOUTAqZuiUAAVlLm+KGcQKAsShniaHtALK+GglvcnEDEKRvtTEeVQLAr6ZL4ColAKFC2fe1MdUBUEG5d/D2LQJLZl0gPkpRAEPCb+0djgkBwTe6QmYmXQJAtirIB241AsCxjhEDKf0DQQVbFpAyWQOjccKRjgZFAeP+tJ3Ozf0DsRCvk7C2LQLBSKI03FYhA8E/7iyDseUBQW3/vPtZ/QBjvnsktH4pAqH1rI8adm0DMUsYl6xuYQCY9wfD6DZhApm/r6FT+oECc4dDMWI+ZQOBA9IGc/WBA6NLk4bEXj0BMW8umkDuLQOz6wM4/goBA0FS2j5kJkECayh8UAxSQQGpL3CwIXpVA",
          "dtype": "f8"
         }
        }
       ],
       "layout": {
        "template": {
         "data": {
          "bar": [
           {
            "error_x": {
             "color": "#2a3f5f"
            },
            "error_y": {
             "color": "#2a3f5f"
            },
            "marker": {
             "line": {
              "color": "#E5ECF6",
              "width": 0.5
             },
             "pattern": {
              "fillmode": "overlay",
              "size": 10,
              "solidity": 0.2
             }
            },
            "type": "bar"
           }
          ],
          "barpolar": [
           {
            "marker": {
             "line": {
              "color": "#E5ECF6",
              "width": 0.5
             },
             "pattern": {
              "fillmode": "overlay",
              "size": 10,
              "solidity": 0.2
             }
            },
            "type": "barpolar"
           }
          ],
          "carpet": [
           {
            "aaxis": {
             "endlinecolor": "#2a3f5f",
             "gridcolor": "white",
             "linecolor": "white",
             "minorgridcolor": "white",
             "startlinecolor": "#2a3f5f"
            },
            "baxis": {
             "endlinecolor": "#2a3f5f",
             "gridcolor": "white",
             "linecolor": "white",
             "minorgridcolor": "white",
             "startlinecolor": "#2a3f5f"
            },
            "type": "carpet"
           }
          ],
          "choropleth": [
           {
            "colorbar": {
             "outlinewidth": 0,
             "ticks": ""
            },
            "type": "choropleth"
           }
          ],
          "contour": [
           {
            "colorbar": {
             "outlinewidth": 0,
             "ticks": ""
            },
            "colorscale": [
             [
              0,
              "#0d0887"
             ],
             [
              0.1111111111111111,
              "#46039f"
             ],
             [
              0.2222222222222222,
              "#7201a8"
             ],
             [
              0.3333333333333333,
              "#9c179e"
             ],
             [
              0.4444444444444444,
              "#bd3786"
             ],
             [
              0.5555555555555556,
              "#d8576b"
             ],
             [
              0.6666666666666666,
              "#ed7953"
             ],
             [
              0.7777777777777778,
              "#fb9f3a"
             ],
             [
              0.8888888888888888,
              "#fdca26"
             ],
             [
              1,
              "#f0f921"
             ]
            ],
            "type": "contour"
           }
          ],
          "contourcarpet": [
           {
            "colorbar": {
             "outlinewidth": 0,
             "ticks": ""
            },
            "type": "contourcarpet"
           }
          ],
          "heatmap": [
           {
            "colorbar": {
             "outlinewidth": 0,
             "ticks": ""
            },
            "colorscale": [
             [
              0,
              "#0d0887"
             ],
             [
              0.1111111111111111,
              "#46039f"
             ],
             [
              0.2222222222222222,
              "#7201a8"
             ],
             [
              0.3333333333333333,
              "#9c179e"
             ],
             [
              0.4444444444444444,
              "#bd3786"
             ],
             [
              0.5555555555555556,
              "#d8576b"
             ],
             [
              0.6666666666666666,
              "#ed7953"
             ],
             [
              0.7777777777777778,
              "#fb9f3a"
             ],
             [
              0.8888888888888888,
              "#fdca26"
             ],
             [
              1,
              "#f0f921"
             ]
            ],
            "type": "heatmap"
           }
          ],
          "histogram": [
           {
            "marker": {
             "pattern": {
              "fillmode": "overlay",
              "size": 10,
              "solidity": 0.2
             }
            },
            "type": "histogram"
           }
          ],
          "histogram2d": [
           {
            "colorbar": {
             "outlinewidth": 0,
             "ticks": ""
            },
            "colorscale": [
             [
              0,
              "#0d0887"
             ],
             [
              0.1111111111111111,
              "#46039f"
             ],
             [
              0.2222222222222222,
              "#7201a8"
             ],
             [
              0.3333333333333333,
              "#9c179e"
             ],
             [
              0.4444444444444444,
              "#bd3786"
             ],
             [
              0.5555555555555556,
              "#d8576b"
             ],
             [
              0.6666666666666666,
              "#ed7953"
             ],
             [
              0.7777777777777778,
              "#fb9f3a"
             ],
             [
              0.8888888888888888,
              "#fdca26"
             ],
             [
              1,
              "#f0f921"
             ]
            ],
            "type": "histogram2d"
           }
          ],
          "histogram2dcontour": [
           {
            "colorbar": {
             "outlinewidth": 0,
             "ticks": ""
            },
            "colorscale": [
             [
              0,
              "#0d0887"
             ],
             [
              0.1111111111111111,
              "#46039f"
             ],
             [
              0.2222222222222222,
              "#7201a8"
             ],
             [
              0.3333333333333333,
              "#9c179e"
             ],
             [
              0.4444444444444444,
              "#bd3786"
             ],
             [
              0.5555555555555556,
              "#d8576b"
             ],
             [
              0.6666666666666666,
              "#ed7953"
             ],
             [
              0.7777777777777778,
              "#fb9f3a"
             ],
             [
              0.8888888888888888,
              "#fdca26"
             ],
             [
              1,
              "#f0f921"
             ]
            ],
            "type": "histogram2dcontour"
           }
          ],
          "mesh3d": [
           {
            "colorbar": {
             "outlinewidth": 0,
             "ticks": ""
            },
            "type": "mesh3d"
           }
          ],
          "parcoords": [
           {
            "line": {
             "colorbar": {
              "outlinewidth": 0,
              "ticks": ""
             }
            },
            "type": "parcoords"
           }
          ],
          "pie": [
           {
            "automargin": true,
            "type": "pie"
           }
          ],
          "scatter": [
           {
            "fillpattern": {
             "fillmode": "overlay",
             "size": 10,
             "solidity": 0.2
            },
            "type": "scatter"
           }
          ],
          "scatter3d": [
           {
            "line": {
             "colorbar": {
              "outlinewidth": 0,
              "ticks": ""
             }
            },
            "marker": {
             "colorbar": {
              "outlinewidth": 0,
              "ticks": ""
             }
            },
            "type": "scatter3d"
           }
          ],
          "scattercarpet": [
           {
            "marker": {
             "colorbar": {
              "outlinewidth": 0,
              "ticks": ""
             }
            },
            "type": "scattercarpet"
           }
          ],
          "scattergeo": [
           {
            "marker": {
             "colorbar": {
              "outlinewidth": 0,
              "ticks": ""
             }
            },
            "type": "scattergeo"
           }
          ],
          "scattergl": [
           {
            "marker": {
             "colorbar": {
              "outlinewidth": 0,
              "ticks": ""
             }
            },
            "type": "scattergl"
           }
          ],
          "scattermap": [
           {
            "marker": {
             "colorbar": {
              "outlinewidth": 0,
              "ticks": ""
             }
            },
            "type": "scattermap"
           }
          ],
          "scattermapbox": [
           {
            "marker": {
             "colorbar": {
              "outlinewidth": 0,
              "ticks": ""
             }
            },
            "type": "scattermapbox"
           }
          ],
          "scatterpolar": [
           {
            "marker": {
             "colorbar": {
              "outlinewidth": 0,
              "ticks": ""
             }
            },
            "type": "scatterpolar"
           }
          ],
          "scatterpolargl": [
           {
            "marker": {
             "colorbar": {
              "outlinewidth": 0,
              "ticks": ""
             }
            },
            "type": "scatterpolargl"
           }
          ],
          "scatterternary": [
           {
            "marker": {
             "colorbar": {
              "outlinewidth": 0,
              "ticks": ""
             }
            },
            "type": "scatterternary"
           }
          ],
          "surface": [
           {
            "colorbar": {
             "outlinewidth": 0,
             "ticks": ""
            },
            "colorscale": [
             [
              0,
              "#0d0887"
             ],
             [
              0.1111111111111111,
              "#46039f"
             ],
             [
              0.2222222222222222,
              "#7201a8"
             ],
             [
              0.3333333333333333,
              "#9c179e"
             ],
             [
              0.4444444444444444,
              "#bd3786"
             ],
             [
              0.5555555555555556,
              "#d8576b"
             ],
             [
              0.6666666666666666,
              "#ed7953"
             ],
             [
              0.7777777777777778,
              "#fb9f3a"
             ],
             [
              0.8888888888888888,
              "#fdca26"
             ],
             [
              1,
              "#f0f921"
             ]
            ],
            "type": "surface"
           }
          ],
          "table": [
           {
            "cells": {
             "fill": {
              "color": "#EBF0F8"
             },
             "line": {
              "color": "white"
             }
            },
            "header": {
             "fill": {
              "color": "#C8D4E3"
             },
             "line": {
              "color": "white"
             }
            },
            "type": "table"
           }
          ]
         },
         "layout": {
          "annotationdefaults": {
           "arrowcolor": "#2a3f5f",
           "arrowhead": 0,
           "arrowwidth": 1
          },
          "autotypenumbers": "strict",
          "coloraxis": {
           "colorbar": {
            "outlinewidth": 0,
            "ticks": ""
           }
          },
          "colorscale": {
           "diverging": [
            [
             0,
             "#8e0152"
            ],
            [
             0.1,
             "#c51b7d"
            ],
            [
             0.2,
             "#de77ae"
            ],
            [
             0.3,
             "#f1b6da"
            ],
            [
             0.4,
             "#fde0ef"
            ],
            [
             0.5,
             "#f7f7f7"
            ],
            [
             0.6,
             "#e6f5d0"
            ],
            [
             0.7,
             "#b8e186"
            ],
            [
             0.8,
             "#7fbc41"
            ],
            [
             0.9,
             "#4d9221"
            ],
            [
             1,
             "#276419"
            ]
           ],
           "sequential": [
            [
             0,
             "#0d0887"
            ],
            [
             0.1111111111111111,
             "#46039f"
            ],
            [
             0.2222222222222222,
             "#7201a8"
            ],
            [
             0.3333333333333333,
             "#9c179e"
            ],
            [
             0.4444444444444444,
             "#bd3786"
            ],
            [
             0.5555555555555556,
             "#d8576b"
            ],
            [
             0.6666666666666666,
             "#ed7953"
            ],
            [
             0.7777777777777778,
             "#fb9f3a"
            ],
            [
             0.8888888888888888,
             "#fdca26"
            ],
            [
             1,
             "#f0f921"
            ]
           ],
           "sequentialminus": [
            [
             0,
             "#0d0887"
            ],
            [
             0.1111111111111111,
             "#46039f"
            ],
            [
             0.2222222222222222,
             "#7201a8"
            ],
            [
             0.3333333333333333,
             "#9c179e"
            ],
            [
             0.4444444444444444,
             "#bd3786"
            ],
            [
             0.5555555555555556,
             "#d8576b"
            ],
            [
             0.6666666666666666,
             "#ed7953"
            ],
            [
             0.7777777777777778,
             "#fb9f3a"
            ],
            [
             0.8888888888888888,
             "#fdca26"
            ],
            [
             1,
             "#f0f921"
            ]
           ]
          },
          "colorway": [
           "#636efa",
           "#EF553B",
           "#00cc96",
           "#ab63fa",
           "#FFA15A",
           "#19d3f3",
           "#FF6692",
           "#B6E880",
           "#FF97FF",
           "#FECB52"
          ],
          "font": {
           "color": "#2a3f5f"
          },
          "geo": {
           "bgcolor": "white",
           "lakecolor": "white",
           "landcolor": "#E5ECF6",
           "showlakes": true,
           "showland": true,
           "subunitcolor": "white"
          },
          "hoverlabel": {
           "align": "left"
          },
          "hovermode": "closest",
          "mapbox": {
           "style": "light"
          },
          "paper_bgcolor": "white",
          "plot_bgcolor": "#E5ECF6",
          "polar": {
           "angularaxis": {
            "gridcolor": "white",
            "linecolor": "white",
            "ticks": ""
           },
           "bgcolor": "#E5ECF6",
           "radialaxis": {
            "gridcolor": "white",
            "linecolor": "white",
            "ticks": ""
           }
          },
          "scene": {
           "xaxis": {
            "backgroundcolor": "#E5ECF6",
            "gridcolor": "white",
            "gridwidth": 2,
            "linecolor": "white",
            "showbackground": true,
            "ticks": "",
            "zerolinecolor": "white"
           },
           "yaxis": {
            "backgroundcolor": "#E5ECF6",
            "gridcolor": "white",
            "gridwidth": 2,
            "linecolor": "white",
            "showbackground": true,
            "ticks": "",
            "zerolinecolor": "white"
           },
           "zaxis": {
            "backgroundcolor": "#E5ECF6",
            "gridcolor": "white",
            "gridwidth": 2,
            "linecolor": "white",
            "showbackground": true,
            "ticks": "",
            "zerolinecolor": "white"
           }
          },
          "shapedefaults": {
           "line": {
            "color": "#2a3f5f"
           }
          },
          "ternary": {
           "aaxis": {
            "gridcolor": "white",
            "linecolor": "white",
            "ticks": ""
           },
           "baxis": {
            "gridcolor": "white",
            "linecolor": "white",
            "ticks": ""
           },
           "bgcolor": "#E5ECF6",
           "caxis": {
            "gridcolor": "white",
            "linecolor": "white",
            "ticks": ""
           }
          },
          "title": {
           "x": 0.05
          },
          "xaxis": {
           "automargin": true,
           "gridcolor": "white",
           "linecolor": "white",
           "ticks": "",
           "title": {
            "standoff": 15
           },
           "zerolinecolor": "white",
           "zerolinewidth": 2
          },
          "yaxis": {
           "automargin": true,
           "gridcolor": "white",
           "linecolor": "white",
           "ticks": "",
           "title": {
            "standoff": 15
           },
           "zerolinecolor": "white",
           "zerolinewidth": 2
          }
         }
        },
        "title": {
         "text": "Modelo lineal"
        },
        "xaxis": {
         "ticklen": 5,
         "title": {
          "text": "World Rank"
         }
        }
       }
      }
     },
     "metadata": {},
     "output_type": "display_data"
    }
   ],
   "source": [
    "\n",
    "\n",
    "from plotly.offline import init_notebook_mode, iplot\n",
    "import plotly.graph_objs as go\n",
    "trace1 = go.Scatter(\n",
    "                    x =y_test ,\n",
    "                    y = predictions,\n",
    "                    name = 'citations',\n",
    "                    mode= \"markers\",\n",
    "                    marker = dict(color = 'rgba(16, 112, 2, 0.8)'))\n",
    "data = [trace1]\n",
    "\n",
    "layout = dict(title = \"Modelo lineal\",\n",
    "             xaxis= dict(title= 'World Rank',ticklen= 5)\n",
    "           )\n",
    "\n",
    "fig = go.Figure(data = data, layout=layout)\n",
    "\n",
    "iplot(fig)"
   ]
  },
  {
   "cell_type": "code",
   "execution_count": null,
   "id": "9c99d785",
   "metadata": {},
   "outputs": [
    {
     "data": {
      "text/plain": [
       "np.float64(-16.631197869769462)"
      ]
     },
     "execution_count": 42,
     "metadata": {},
     "output_type": "execute_result"
    }
   ],
   "source": [
    "from  sklearn.model_selection import cross_validate\n",
    "cross_validate(lin_reg, X_train, y_train, cv=5)[\"test_score\"].mean()"
   ]
  },
  {
   "cell_type": "markdown",
   "id": "f57fdf48",
   "metadata": {},
   "source": [
    "con 2 se sobreajusta si usas todas las variables, 3 es inutil"
   ]
  },
  {
   "cell_type": "code",
   "execution_count": 58,
   "id": "d47dec80",
   "metadata": {},
   "outputs": [
    {
     "name": "stdout",
     "output_type": "stream",
     "text": [
      "Train ROOT MSE: 196.5283388981865\n",
      "Test ROOT MSE: 277.05590136918863\n"
     ]
    }
   ],
   "source": [
    "from sklearn.linear_model import Ridge\n",
    "\n",
    "from sklearn import linear_model, metrics\n",
    "\n",
    "lr = linear_model.LinearRegression()\n",
    "\n",
    "lr.fit(X_train, y_train)\n",
    "\n",
    "pred_ridge = lr.predict(X_test)\n",
    "baseline_error = metrics.mean_absolute_error(y_test, pred_ridge)\n",
    "\n",
    "print(\"Train ROOT MSE:\", ( metrics.mean_absolute_error(y_train, lr.predict(X_train))))\n",
    "print(\"Test ROOT MSE:\", (metrics.mean_absolute_error(y_test, lr.predict(X_test))))"
   ]
  },
  {
   "cell_type": "code",
   "execution_count": 59,
   "id": "45773a1b",
   "metadata": {},
   "outputs": [
    {
     "name": "stdout",
     "output_type": "stream",
     "text": [
      "Variaremos los valores entre 0.01 y 100.0\n"
     ]
    }
   ],
   "source": [
    "import numpy as np\n",
    "\n",
    "n_alphas = 100\n",
    "alphas = np.logspace(-2, 2, n_alphas)\n",
    "\n",
    "print(f\"Variaremos los valores entre {np.min(alphas)} y {np.max(alphas)}\")"
   ]
  },
  {
   "cell_type": "code",
   "execution_count": 60,
   "id": "833742bc",
   "metadata": {},
   "outputs": [
    {
     "name": "stderr",
     "output_type": "stream",
     "text": [
      "c:\\Users\\unaif\\OneDrive\\Documentos\\Documentos_Clase_Data\\.venv\\Lib\\site-packages\\sklearn\\linear_model\\_ridge.py:216: LinAlgWarning:\n",
      "\n",
      "Ill-conditioned matrix (rcond=1.77686e-17): result may not be accurate.\n",
      "\n",
      "c:\\Users\\unaif\\OneDrive\\Documentos\\Documentos_Clase_Data\\.venv\\Lib\\site-packages\\sklearn\\linear_model\\_ridge.py:216: LinAlgWarning:\n",
      "\n",
      "Ill-conditioned matrix (rcond=1.9501e-17): result may not be accurate.\n",
      "\n",
      "c:\\Users\\unaif\\OneDrive\\Documentos\\Documentos_Clase_Data\\.venv\\Lib\\site-packages\\sklearn\\linear_model\\_ridge.py:216: LinAlgWarning:\n",
      "\n",
      "Ill-conditioned matrix (rcond=2.14023e-17): result may not be accurate.\n",
      "\n",
      "c:\\Users\\unaif\\OneDrive\\Documentos\\Documentos_Clase_Data\\.venv\\Lib\\site-packages\\sklearn\\linear_model\\_ridge.py:216: LinAlgWarning:\n",
      "\n",
      "Ill-conditioned matrix (rcond=2.3489e-17): result may not be accurate.\n",
      "\n",
      "c:\\Users\\unaif\\OneDrive\\Documentos\\Documentos_Clase_Data\\.venv\\Lib\\site-packages\\sklearn\\linear_model\\_ridge.py:216: LinAlgWarning:\n",
      "\n",
      "Ill-conditioned matrix (rcond=2.57792e-17): result may not be accurate.\n",
      "\n",
      "c:\\Users\\unaif\\OneDrive\\Documentos\\Documentos_Clase_Data\\.venv\\Lib\\site-packages\\sklearn\\linear_model\\_ridge.py:216: LinAlgWarning:\n",
      "\n",
      "Ill-conditioned matrix (rcond=2.82927e-17): result may not be accurate.\n",
      "\n",
      "c:\\Users\\unaif\\OneDrive\\Documentos\\Documentos_Clase_Data\\.venv\\Lib\\site-packages\\sklearn\\linear_model\\_ridge.py:216: LinAlgWarning:\n",
      "\n",
      "Ill-conditioned matrix (rcond=3.10513e-17): result may not be accurate.\n",
      "\n",
      "c:\\Users\\unaif\\OneDrive\\Documentos\\Documentos_Clase_Data\\.venv\\Lib\\site-packages\\sklearn\\linear_model\\_ridge.py:216: LinAlgWarning:\n",
      "\n",
      "Ill-conditioned matrix (rcond=3.40788e-17): result may not be accurate.\n",
      "\n",
      "c:\\Users\\unaif\\OneDrive\\Documentos\\Documentos_Clase_Data\\.venv\\Lib\\site-packages\\sklearn\\linear_model\\_ridge.py:216: LinAlgWarning:\n",
      "\n",
      "Ill-conditioned matrix (rcond=3.74013e-17): result may not be accurate.\n",
      "\n",
      "c:\\Users\\unaif\\OneDrive\\Documentos\\Documentos_Clase_Data\\.venv\\Lib\\site-packages\\sklearn\\linear_model\\_ridge.py:216: LinAlgWarning:\n",
      "\n",
      "Ill-conditioned matrix (rcond=4.1048e-17): result may not be accurate.\n",
      "\n",
      "c:\\Users\\unaif\\OneDrive\\Documentos\\Documentos_Clase_Data\\.venv\\Lib\\site-packages\\sklearn\\linear_model\\_ridge.py:216: LinAlgWarning:\n",
      "\n",
      "Ill-conditioned matrix (rcond=4.50501e-17): result may not be accurate.\n",
      "\n",
      "c:\\Users\\unaif\\OneDrive\\Documentos\\Documentos_Clase_Data\\.venv\\Lib\\site-packages\\sklearn\\linear_model\\_ridge.py:216: LinAlgWarning:\n",
      "\n",
      "Ill-conditioned matrix (rcond=4.94424e-17): result may not be accurate.\n",
      "\n",
      "c:\\Users\\unaif\\OneDrive\\Documentos\\Documentos_Clase_Data\\.venv\\Lib\\site-packages\\sklearn\\linear_model\\_ridge.py:216: LinAlgWarning:\n",
      "\n",
      "Ill-conditioned matrix (rcond=5.42631e-17): result may not be accurate.\n",
      "\n",
      "c:\\Users\\unaif\\OneDrive\\Documentos\\Documentos_Clase_Data\\.venv\\Lib\\site-packages\\sklearn\\linear_model\\_ridge.py:216: LinAlgWarning:\n",
      "\n",
      "Ill-conditioned matrix (rcond=5.95536e-17): result may not be accurate.\n",
      "\n",
      "c:\\Users\\unaif\\OneDrive\\Documentos\\Documentos_Clase_Data\\.venv\\Lib\\site-packages\\sklearn\\linear_model\\_ridge.py:216: LinAlgWarning:\n",
      "\n",
      "Ill-conditioned matrix (rcond=6.53601e-17): result may not be accurate.\n",
      "\n",
      "c:\\Users\\unaif\\OneDrive\\Documentos\\Documentos_Clase_Data\\.venv\\Lib\\site-packages\\sklearn\\linear_model\\_ridge.py:216: LinAlgWarning:\n",
      "\n",
      "Ill-conditioned matrix (rcond=7.17326e-17): result may not be accurate.\n",
      "\n",
      "c:\\Users\\unaif\\OneDrive\\Documentos\\Documentos_Clase_Data\\.venv\\Lib\\site-packages\\sklearn\\linear_model\\_ridge.py:216: LinAlgWarning:\n",
      "\n",
      "Ill-conditioned matrix (rcond=7.87264e-17): result may not be accurate.\n",
      "\n",
      "c:\\Users\\unaif\\OneDrive\\Documentos\\Documentos_Clase_Data\\.venv\\Lib\\site-packages\\sklearn\\linear_model\\_ridge.py:216: LinAlgWarning:\n",
      "\n",
      "Ill-conditioned matrix (rcond=8.64021e-17): result may not be accurate.\n",
      "\n",
      "c:\\Users\\unaif\\OneDrive\\Documentos\\Documentos_Clase_Data\\.venv\\Lib\\site-packages\\sklearn\\linear_model\\_ridge.py:216: LinAlgWarning:\n",
      "\n",
      "Ill-conditioned matrix (rcond=6.57887e-17): result may not be accurate.\n",
      "\n",
      "c:\\Users\\unaif\\OneDrive\\Documentos\\Documentos_Clase_Data\\.venv\\Lib\\site-packages\\sklearn\\linear_model\\_ridge.py:216: LinAlgWarning:\n",
      "\n",
      "Ill-conditioned matrix (rcond=7.15705e-17): result may not be accurate.\n",
      "\n",
      "c:\\Users\\unaif\\OneDrive\\Documentos\\Documentos_Clase_Data\\.venv\\Lib\\site-packages\\sklearn\\linear_model\\_ridge.py:216: LinAlgWarning:\n",
      "\n",
      "Ill-conditioned matrix (rcond=7.7933e-17): result may not be accurate.\n",
      "\n",
      "c:\\Users\\unaif\\OneDrive\\Documentos\\Documentos_Clase_Data\\.venv\\Lib\\site-packages\\sklearn\\linear_model\\_ridge.py:216: LinAlgWarning:\n",
      "\n",
      "Ill-conditioned matrix (rcond=8.49349e-17): result may not be accurate.\n",
      "\n",
      "c:\\Users\\unaif\\OneDrive\\Documentos\\Documentos_Clase_Data\\.venv\\Lib\\site-packages\\sklearn\\linear_model\\_ridge.py:216: LinAlgWarning:\n",
      "\n",
      "Ill-conditioned matrix (rcond=9.26524e-17): result may not be accurate.\n",
      "\n",
      "c:\\Users\\unaif\\OneDrive\\Documentos\\Documentos_Clase_Data\\.venv\\Lib\\site-packages\\sklearn\\linear_model\\_ridge.py:216: LinAlgWarning:\n",
      "\n",
      "Ill-conditioned matrix (rcond=1.0116e-16): result may not be accurate.\n",
      "\n",
      "c:\\Users\\unaif\\OneDrive\\Documentos\\Documentos_Clase_Data\\.venv\\Lib\\site-packages\\sklearn\\linear_model\\_ridge.py:216: LinAlgWarning:\n",
      "\n",
      "Ill-conditioned matrix (rcond=1.10453e-16): result may not be accurate.\n",
      "\n"
     ]
    }
   ],
   "source": [
    "coef_ridge = []\n",
    "err_ridge = []\n",
    "baseline = []\n",
    "for a in alphas:\n",
    "    ridge = Ridge(alpha=a)\n",
    "    ridge.fit(X_train, y_train)\n",
    "    \n",
    "    coef_ridge.append(ridge.coef_)\n",
    "    \n",
    "    pred_ridge = ridge.predict(X_test)\n",
    "    ridge_error = (metrics.mean_absolute_error(pred_ridge, y_test))\n",
    "    \n",
    "    err_ridge.append(ridge_error)\n",
    "    baseline.append(baseline_error)"
   ]
  },
  {
   "cell_type": "code",
   "execution_count": 61,
   "id": "430ba2ba",
   "metadata": {},
   "outputs": [
    {
     "name": "stderr",
     "output_type": "stream",
     "text": [
      "<>:9: SyntaxWarning:\n",
      "\n",
      "invalid escape sequence '\\l'\n",
      "\n",
      "<>:9: SyntaxWarning:\n",
      "\n",
      "invalid escape sequence '\\l'\n",
      "\n",
      "C:\\Users\\unaif\\AppData\\Local\\Temp\\ipykernel_23252\\226663154.py:9: SyntaxWarning:\n",
      "\n",
      "invalid escape sequence '\\l'\n",
      "\n"
     ]
    },
    {
     "data": {
      "image/png": "[encoded data removed]",
      "text/plain": [
       "<Figure size 1000x600 with 1 Axes>"
      ]
     },
     "metadata": {},
     "output_type": "display_data"
    }
   ],
   "source": [
    "import matplotlib.pyplot as plt\n",
    "plt.figure(figsize=(10,6))\n",
    "font = 20\n",
    "\n",
    "ax = plt.gca()\n",
    "ax.plot(alphas, err_ridge, linewidth=5, color='red', label=\"Ridge regression\")\n",
    "ax.plot(alphas, baseline, linewidth=4,linestyle='--', color='blue', label='Linear regression')\n",
    "ax.set_xscale('log')\n",
    "plt.xlabel('$\\lambda$', fontsize=font)\n",
    "plt.xticks(fontsize=font)\n",
    "plt.yticks(fontsize=font)\n",
    "plt.ylabel('error', fontsize=font)\n",
    "ax.legend(fontsize=font)\n",
    "plt.title(r'Regression error ($\\lambda$)', fontsize=font)\n",
    "plt.show()"
   ]
  },
  {
   "cell_type": "code",
   "execution_count": 64,
   "id": "8cc6da46",
   "metadata": {},
   "outputs": [
    {
     "name": "stdout",
     "output_type": "stream",
     "text": [
      "RMSE 255.43962688164513\n",
      "RMSE: 255.43962688164513\n",
      "______________________________\n",
      "R2 train 0.880364494693939\n",
      "R2 test 0.7343107436808602\n",
      "0.5926555788446826\n"
     ]
    }
   ],
   "source": [
    "ridge = Ridge(alpha=10**-1)\n",
    "ridge.fit(X_train, y_train)\n",
    "    \n",
    "coef_ridge.append(ridge.coef_)\n",
    "    \n",
    "pred_ridge = ridge.predict(X_test)\n",
    "ridge_error = (metrics.mean_absolute_error(pred_ridge, y_test))\n",
    "\n",
    "print(\"RMSE\", ridge_error, )\n",
    "\n",
    "\n",
    "print(\"RMSE:\", (mean_absolute_error(y_test, pred_ridge)))\n",
    "print(\"_\"*30)\n",
    "print(\"R2 train\", ridge.score(X_train, y_train))\n",
    "print(\"R2 test\",ridge.score(X_test, y_test))\n",
    "print(cross_validate(ridge, X_train, y_train, cv=5)[\"test_score\"].mean())"
   ]
  },
  {
   "cell_type": "code",
   "execution_count": 65,
   "id": "63929f7e",
   "metadata": {},
   "outputs": [
    {
     "data": {
      "application/vnd.plotly.v1+json": {
       "config": {
        "linkText": "Export to plot.ly",
        "plotlyServerURL": "https://plot.ly",
        "showLink": false
       },
       "data": [
        {
         "marker": {
          "color": "rgba(16, 112, 2, 0.8)"
         },
         "mode": "markers",
         "name": "citations",
         "type": "scatter",
         "x": {
          "bdata": "AAAAAABQeEAAAAAAAEBwQAAAAAAAuIRAAAAAAADgg0AAAAAAAEyUQAAAAAAACItAFK5H4fpppkAAAAAAACCXQAAAAAAA4IpAmpmZmZlTm0AAAAAAAFyYQAAAAAAAAI1AAAAAAACsnUAAAAAAALB3QGZmZmZmvntAAAAAAACskkAAAAAAADiKQAAAAAAAMHVAAAAAAADQfkAAAAAAAIySQDMzMzMze3xArkfhehSoiEAAAAAAAHiLQAAAAAAApJ9AKVyPwvUMk0AAAAAAAKamQNejcD2KiadAAAAAAABomkAAAAAAAFB4QAAAAAAAFqVAAAAAAACYjkAAAAAAAPSRQAAAAAAAyIlAAAAAAADAdUAAAAAAADiPQAAAAAAAHJdAAAAAAACwk0AAAAAAABB3QEjhehSudZtAAAAAAADYjUAAAAAAAPibQAAAAAAAyIhAAAAAAAA4j0AAAAAAALiVQAAAAAAAkIZAAAAAAACweEAAAAAAAABxQArXo3A97n1AAAAAAAAAc0AAAAAAADBxQAAAAAAArJ1AAAAAAAD4jUAAAAAAADiDQAAAAAAAyIRAAAAAAADgaEDsUbgehVGCQAAAAAAACI5AAAAAAADknEAAAAAAACyRQAAAAAAAFJVAAAAAAABojkDNzMzMzCGgQAAAAAAALJJAAAAAAABYm0AAAAAAAFarQAAAAAAA2IBAAAAAAAAskUAAAAAAABycQAAAAAAA+IFAAAAAAADYgkAAAAAAAJ6kQAAAAAAA2I1AAAAAAAB4gUAAAAAAAFiIQAAAAAAAYHhAAAAAAADEmUAAAAAAADiDQAAAAAAAMINAj8L1KFyVoUAAAAAAAPyYQPYoXI/C7pRAZmZmZmb+h0AAAAAAAOiOQAAAAAAATJRAzczMzMybkEAAAAAAAIajQAAAAAAA+JhAAAAAAADckEAAAAAAAPyYQAAAAAAAkHRAAAAAAAAElkAAAAAAAFB9QJqZmZmZZ5VAAAAAAAD0kEAAAAAAAFSbQAAAAAAA9JZAAAAAAABIh0AAAAAAAJSSQAAAAAAAyI5A7FG4HoWLb0AAAAAAABiMQAAAAAAAWIhAAAAAAAAIg0AAAAAAAN6lQAAAAAAAqI1AAAAAAADAe0AAAAAAAGiXQAAAAAAA0H9AAAAAAAAgakBmZmZmZp5+QAAAAAAAxJlAAAAAAADwg0BSuB6F67eCQDMzMzMzAYFAAAAAAAA4ikAAAAAAABSVQAAAAAAAkHBAAAAAAAACoEAAAAAAAMiWQAAAAAAAOI9AAAAAAADslEAAAAAAAPiBQAAAAAAAGIxAAAAAAACskkAAAAAAAGycQAAAAAAAUHRAAAAAAADokkAAAAAAABycQGZmZmZmvnxAAAAAAABUm0BmZmZm5vGhQAAAAAAAQHRAAAAAAAC8kkAAAAAAACqiQFK4HoXrr4VAAAAAAAAAiUAAAAAAAEyUQAAAAAAAKIFAAAAAAACUnEAAAAAAAIajQAAAAAAAUHhAKVyPwvVcoEAAAAAAABiHQAAAAAAAqJtAAAAAAAAcnED2KFyPwlmQQAAAAAAAEKZAAAAAAAAYhUAAAAAAAASVQAAAAAAA4JBAZmZmZmZmhUAAAAAAAJCbQAAAAAAA2IVAAAAAAAA0mEAAAAAAADiPQAAAAAAA0HpApHA9CtfveEAAAAAAAMiLQAAAAAAAHJxAAAAAAABIgkAAAAAAAEaiQAAAAAAAsIpAAAAAAADAeUAAAAAAADSdQAAAAAAAiIVAAAAAAACQfkAAAAAAANuRQM3MzMzMKoVAZmZmZmYuf0AAAAAAAFB4QAAAAAAAJJ9AAAAAAAAio0AAAAAAANyQQAAAAAAAbJdAZmZmZubSo0AAAAAAAACZQAAAAAAAkHJAAAAAAAAAikDNzMzMzPxnQAAAAAAAsHxAAAAAAADAkkAAAAAAAJiJQAAAAAAA6I5A",
          "dtype": "f8"
         },
         "y": {
          "bdata": "FI+zpoBlckC20cBK89GAQMgCOcz0LIxApqHVGr28gkBDanJ5iiWbQHybPDjx1Y5A9DHSGEyTpEBF6A7NlDaYQN/qjplikpBA7pGtIe8vokDBnNMqDiyVQNsnyr8vWpRAq0j50DZdm0AIAab/iAlsQEbTFjNYT4BAcu5L7N1/i0CW5jxDGi2IQFxtcPrkZnlA1kmqfKCrg0BnMnB8VC+RQAjqLvfTaIRAh++v0wCek0C7oxKJd4GVQKeeHaeYwp1Avnq4jEThhkC5ZbicobuTQDj9jYW/zKFAtRurUNSWmEB0fywi6VB9QBhxldnVj6NAN37C0AR6kkAdeLK6mRqVQFbBWNC9uIRA1ACi1VF4dUARgmPd8ZGTQClEJyNqpZtAP57WBQhclECIlKvdYzdiQGetsoX+s5hAa9WM1kMCkkBt+EVEpoGcQG7StFjr9YlA02oOE2xankCr/BMlIpKRQE6osoADR4hAjgAKbgDNgEAo2V5MLBxgQOwCw5WF5HVATFZOGICBdUA07PyGUZZ+QMBGZEDsNaBAbjMDL9lvhUA0lUkfw7aDQPKjOxPyQopAYG9/nGnwS0COzz/cotCGQGgdk29SWpJAMhddF6VAoEBXv6eVxrCbQHOLMnNu/pNAIfajYKmxkkBYxfVnhjeiQFW8aHDJDZJAs7GQyRPmmEBMg6xt4HahQN64bGz9LoZAlVLQENcBlUC+e0cPNmCiQAT2kiolunlAGtl5r/CUjkDkJas7JwCuQAoflqWdgYRA5h1KKf1QhkBuL+BTltiOQJQRbV8ICXpAl272/U3rkUCkoKZpcthwQAjqLvfTaIRAz29wBx+wkkALmuLZPaqaQArFYulVDo5A6rVAHkRBjEAeysyrQ/OAQF9+6YfzL5lAaqoUj89Sj0AGD5eaqz+lQFtjffrmw5xA26hdkh7sm0DjrQ/AyGGWQIQPh2iu+HtAq9LiIzsck0AMnP1KxPh0QHVnAJLWkpdAVMm3YkZ0h0D7g9qeYnCdQDuYSLAi+JJAFgWuvuvXikDWvnNlweqHQGMQL+ms95VA1JKVnQ5Ve0Bz6jKFUXWRQKYavaR5YY1ATOuT26CZd0AcnhfseuWjQNa6lXHx2IhATNWj2N60fkB/Bq2UHA6dQG5hO+p/jYFATMR4mxGldkAUW/Vjp1l2QMkbv63OvJVA7aps2PIpkkALjfKIuqyQQFSYCsq4i3pAYvBnx0RsjUAbxnmnRRyZQDDK+q14j1JAomkSXzxAokC/n0elyAaYQC5oMQayTIpAwRZs4hizk0CtEIsImt+QQHYKKwlEPIlAcu5L7N1/i0DB9twA0IKZQJzCTLNKpHFAGqspgjF5kUBTIhPTH9ObQFTLf7MSbnRAWNlSn0YtoUCLJAxKxg6aQEwquvBWL3FAp0sSCccMkECh7ronEF2YQM4m4HN2r4hAvjnikZ6+hkDVDTOAneKWQE4p1qW9KIFAIRbZiFAIlECU89JAnZSgQNCMFaYPQ15AkRIuGGXynkA6qlRhHK+DQO+sgAkAb5RA65srhKiWlUCeDeyUtQiEQAhIhgeIGqRACmcCKHyciUD3a6xGiYqRQO9gir+RU5JAKKWJ36mcjECltB/YN3yeQGIW7t38HYJAIMAJapSmo0BCAB6kWDKTQBknDxrdd3HAXG1w+uRmeUAf4mTpCGaQQE/GMmGKVpVAxpw4+XYCgEDP2z/5vIGZQD41WIukkIxA9O7CSLbQeUDritCzrS+WQCvBZmlJHZJA7AaXlzf8d0CJAUH5DCyQQHJ1MUls0olAxDEfqdE7e0BoonrN/A9kQBaedlhkRqBA7/2IBXXqm0AbxnmnRRyZQOubK4SolpVARjuhdVEqoUCxdGUKviaaQNCMFaYPQ15AsdPCBfLHkEAc2hDpk2F6QDidcUp8QH1AU70NylTrkkCy2zoblSqQQCPEV6pFKpRA",
          "dtype": "f8"
         }
        }
       ],
       "layout": {
        "template": {
         "data": {
          "bar": [
           {
            "error_x": {
             "color": "#2a3f5f"
            },
            "error_y": {
             "color": "#2a3f5f"
            },
            "marker": {
             "line": {
              "color": "#E5ECF6",
              "width": 0.5
             },
             "pattern": {
              "fillmode": "overlay",
              "size": 10,
              "solidity": 0.2
             }
            },
            "type": "bar"
           }
          ],
          "barpolar": [
           {
            "marker": {
             "line": {
              "color": "#E5ECF6",
              "width": 0.5
             },
             "pattern": {
              "fillmode": "overlay",
              "size": 10,
              "solidity": 0.2
             }
            },
            "type": "barpolar"
           }
          ],
          "carpet": [
           {
            "aaxis": {
             "endlinecolor": "#2a3f5f",
             "gridcolor": "white",
             "linecolor": "white",
             "minorgridcolor": "white",
             "startlinecolor": "#2a3f5f"
            },
            "baxis": {
             "endlinecolor": "#2a3f5f",
             "gridcolor": "white",
             "linecolor": "white",
             "minorgridcolor": "white",
             "startlinecolor": "#2a3f5f"
            },
            "type": "carpet"
           }
          ],
          "choropleth": [
           {
            "colorbar": {
             "outlinewidth": 0,
             "ticks": ""
            },
            "type": "choropleth"
           }
          ],
          "contour": [
           {
            "colorbar": {
             "outlinewidth": 0,
             "ticks": ""
            },
            "colorscale": [
             [
              0,
              "#0d0887"
             ],
             [
              0.1111111111111111,
              "#46039f"
             ],
             [
              0.2222222222222222,
              "#7201a8"
             ],
             [
              0.3333333333333333,
              "#9c179e"
             ],
             [
              0.4444444444444444,
              "#bd3786"
             ],
             [
              0.5555555555555556,
              "#d8576b"
             ],
             [
              0.6666666666666666,
              "#ed7953"
             ],
             [
              0.7777777777777778,
              "#fb9f3a"
             ],
             [
              0.8888888888888888,
              "#fdca26"
             ],
             [
              1,
              "#f0f921"
             ]
            ],
            "type": "contour"
           }
          ],
          "contourcarpet": [
           {
            "colorbar": {
             "outlinewidth": 0,
             "ticks": ""
            },
            "type": "contourcarpet"
           }
          ],
          "heatmap": [
           {
            "colorbar": {
             "outlinewidth": 0,
             "ticks": ""
            },
            "colorscale": [
             [
              0,
              "#0d0887"
             ],
             [
              0.1111111111111111,
              "#46039f"
             ],
             [
              0.2222222222222222,
              "#7201a8"
             ],
             [
              0.3333333333333333,
              "#9c179e"
             ],
             [
              0.4444444444444444,
              "#bd3786"
             ],
             [
              0.5555555555555556,
              "#d8576b"
             ],
             [
              0.6666666666666666,
              "#ed7953"
             ],
             [
              0.7777777777777778,
              "#fb9f3a"
             ],
             [
              0.8888888888888888,
              "#fdca26"
             ],
             [
              1,
              "#f0f921"
             ]
            ],
            "type": "heatmap"
           }
          ],
          "histogram": [
           {
            "marker": {
             "pattern": {
              "fillmode": "overlay",
              "size": 10,
              "solidity": 0.2
             }
            },
            "type": "histogram"
           }
          ],
          "histogram2d": [
           {
            "colorbar": {
             "outlinewidth": 0,
             "ticks": ""
            },
            "colorscale": [
             [
              0,
              "#0d0887"
             ],
             [
              0.1111111111111111,
              "#46039f"
             ],
             [
              0.2222222222222222,
              "#7201a8"
             ],
             [
              0.3333333333333333,
              "#9c179e"
             ],
             [
              0.4444444444444444,
              "#bd3786"
             ],
             [
              0.5555555555555556,
              "#d8576b"
             ],
             [
              0.6666666666666666,
              "#ed7953"
             ],
             [
              0.7777777777777778,
              "#fb9f3a"
             ],
             [
              0.8888888888888888,
              "#fdca26"
             ],
             [
              1,
              "#f0f921"
             ]
            ],
            "type": "histogram2d"
           }
          ],
          "histogram2dcontour": [
           {
            "colorbar": {
             "outlinewidth": 0,
             "ticks": ""
            },
            "colorscale": [
             [
              0,
              "#0d0887"
             ],
             [
              0.1111111111111111,
              "#46039f"
             ],
             [
              0.2222222222222222,
              "#7201a8"
             ],
             [
              0.3333333333333333,
              "#9c179e"
             ],
             [
              0.4444444444444444,
              "#bd3786"
             ],
             [
              0.5555555555555556,
              "#d8576b"
             ],
             [
              0.6666666666666666,
              "#ed7953"
             ],
             [
              0.7777777777777778,
              "#fb9f3a"
             ],
             [
              0.8888888888888888,
              "#fdca26"
             ],
             [
              1,
              "#f0f921"
             ]
            ],
            "type": "histogram2dcontour"
           }
          ],
          "mesh3d": [
           {
            "colorbar": {
             "outlinewidth": 0,
             "ticks": ""
            },
            "type": "mesh3d"
           }
          ],
          "parcoords": [
           {
            "line": {
             "colorbar": {
              "outlinewidth": 0,
              "ticks": ""
             }
            },
            "type": "parcoords"
           }
          ],
          "pie": [
           {
            "automargin": true,
            "type": "pie"
           }
          ],
          "scatter": [
           {
            "fillpattern": {
             "fillmode": "overlay",
             "size": 10,
             "solidity": 0.2
            },
            "type": "scatter"
           }
          ],
          "scatter3d": [
           {
            "line": {
             "colorbar": {
              "outlinewidth": 0,
              "ticks": ""
             }
            },
            "marker": {
             "colorbar": {
              "outlinewidth": 0,
              "ticks": ""
             }
            },
            "type": "scatter3d"
           }
          ],
          "scattercarpet": [
           {
            "marker": {
             "colorbar": {
              "outlinewidth": 0,
              "ticks": ""
             }
            },
            "type": "scattercarpet"
           }
          ],
          "scattergeo": [
           {
            "marker": {
             "colorbar": {
              "outlinewidth": 0,
              "ticks": ""
             }
            },
            "type": "scattergeo"
           }
          ],
          "scattergl": [
           {
            "marker": {
             "colorbar": {
              "outlinewidth": 0,
              "ticks": ""
             }
            },
            "type": "scattergl"
           }
          ],
          "scattermap": [
           {
            "marker": {
             "colorbar": {
              "outlinewidth": 0,
              "ticks": ""
             }
            },
            "type": "scattermap"
           }
          ],
          "scattermapbox": [
           {
            "marker": {
             "colorbar": {
              "outlinewidth": 0,
              "ticks": ""
             }
            },
            "type": "scattermapbox"
           }
          ],
          "scatterpolar": [
           {
            "marker": {
             "colorbar": {
              "outlinewidth": 0,
              "ticks": ""
             }
            },
            "type": "scatterpolar"
           }
          ],
          "scatterpolargl": [
           {
            "marker": {
             "colorbar": {
              "outlinewidth": 0,
              "ticks": ""
             }
            },
            "type": "scatterpolargl"
           }
          ],
          "scatterternary": [
           {
            "marker": {
             "colorbar": {
              "outlinewidth": 0,
              "ticks": ""
             }
            },
            "type": "scatterternary"
           }
          ],
          "surface": [
           {
            "colorbar": {
             "outlinewidth": 0,
             "ticks": ""
            },
            "colorscale": [
             [
              0,
              "#0d0887"
             ],
             [
              0.1111111111111111,
              "#46039f"
             ],
             [
              0.2222222222222222,
              "#7201a8"
             ],
             [
              0.3333333333333333,
              "#9c179e"
             ],
             [
              0.4444444444444444,
              "#bd3786"
             ],
             [
              0.5555555555555556,
              "#d8576b"
             ],
             [
              0.6666666666666666,
              "#ed7953"
             ],
             [
              0.7777777777777778,
              "#fb9f3a"
             ],
             [
              0.8888888888888888,
              "#fdca26"
             ],
             [
              1,
              "#f0f921"
             ]
            ],
            "type": "surface"
           }
          ],
          "table": [
           {
            "cells": {
             "fill": {
              "color": "#EBF0F8"
             },
             "line": {
              "color": "white"
             }
            },
            "header": {
             "fill": {
              "color": "#C8D4E3"
             },
             "line": {
              "color": "white"
             }
            },
            "type": "table"
           }
          ]
         },
         "layout": {
          "annotationdefaults": {
           "arrowcolor": "#2a3f5f",
           "arrowhead": 0,
           "arrowwidth": 1
          },
          "autotypenumbers": "strict",
          "coloraxis": {
           "colorbar": {
            "outlinewidth": 0,
            "ticks": ""
           }
          },
          "colorscale": {
           "diverging": [
            [
             0,
             "#8e0152"
            ],
            [
             0.1,
             "#c51b7d"
            ],
            [
             0.2,
             "#de77ae"
            ],
            [
             0.3,
             "#f1b6da"
            ],
            [
             0.4,
             "#fde0ef"
            ],
            [
             0.5,
             "#f7f7f7"
            ],
            [
             0.6,
             "#e6f5d0"
            ],
            [
             0.7,
             "#b8e186"
            ],
            [
             0.8,
             "#7fbc41"
            ],
            [
             0.9,
             "#4d9221"
            ],
            [
             1,
             "#276419"
            ]
           ],
           "sequential": [
            [
             0,
             "#0d0887"
            ],
            [
             0.1111111111111111,
             "#46039f"
            ],
            [
             0.2222222222222222,
             "#7201a8"
            ],
            [
             0.3333333333333333,
             "#9c179e"
            ],
            [
             0.4444444444444444,
             "#bd3786"
            ],
            [
             0.5555555555555556,
             "#d8576b"
            ],
            [
             0.6666666666666666,
             "#ed7953"
            ],
            [
             0.7777777777777778,
             "#fb9f3a"
            ],
            [
             0.8888888888888888,
             "#fdca26"
            ],
            [
             1,
             "#f0f921"
            ]
           ],
           "sequentialminus": [
            [
             0,
             "#0d0887"
            ],
            [
             0.1111111111111111,
             "#46039f"
            ],
            [
             0.2222222222222222,
             "#7201a8"
            ],
            [
             0.3333333333333333,
             "#9c179e"
            ],
            [
             0.4444444444444444,
             "#bd3786"
            ],
            [
             0.5555555555555556,
             "#d8576b"
            ],
            [
             0.6666666666666666,
             "#ed7953"
            ],
            [
             0.7777777777777778,
             "#fb9f3a"
            ],
            [
             0.8888888888888888,
             "#fdca26"
            ],
            [
             1,
             "#f0f921"
            ]
           ]
          },
          "colorway": [
           "#636efa",
           "#EF553B",
           "#00cc96",
           "#ab63fa",
           "#FFA15A",
           "#19d3f3",
           "#FF6692",
           "#B6E880",
           "#FF97FF",
           "#FECB52"
          ],
          "font": {
           "color": "#2a3f5f"
          },
          "geo": {
           "bgcolor": "white",
           "lakecolor": "white",
           "landcolor": "#E5ECF6",
           "showlakes": true,
           "showland": true,
           "subunitcolor": "white"
          },
          "hoverlabel": {
           "align": "left"
          },
          "hovermode": "closest",
          "mapbox": {
           "style": "light"
          },
          "paper_bgcolor": "white",
          "plot_bgcolor": "#E5ECF6",
          "polar": {
           "angularaxis": {
            "gridcolor": "white",
            "linecolor": "white",
            "ticks": ""
           },
           "bgcolor": "#E5ECF6",
           "radialaxis": {
            "gridcolor": "white",
            "linecolor": "white",
            "ticks": ""
           }
          },
          "scene": {
           "xaxis": {
            "backgroundcolor": "#E5ECF6",
            "gridcolor": "white",
            "gridwidth": 2,
            "linecolor": "white",
            "showbackground": true,
            "ticks": "",
            "zerolinecolor": "white"
           },
           "yaxis": {
            "backgroundcolor": "#E5ECF6",
            "gridcolor": "white",
            "gridwidth": 2,
            "linecolor": "white",
            "showbackground": true,
            "ticks": "",
            "zerolinecolor": "white"
           },
           "zaxis": {
            "backgroundcolor": "#E5ECF6",
            "gridcolor": "white",
            "gridwidth": 2,
            "linecolor": "white",
            "showbackground": true,
            "ticks": "",
            "zerolinecolor": "white"
           }
          },
          "shapedefaults": {
           "line": {
            "color": "#2a3f5f"
           }
          },
          "ternary": {
           "aaxis": {
            "gridcolor": "white",
            "linecolor": "white",
            "ticks": ""
           },
           "baxis": {
            "gridcolor": "white",
            "linecolor": "white",
            "ticks": ""
           },
           "bgcolor": "#E5ECF6",
           "caxis": {
            "gridcolor": "white",
            "linecolor": "white",
            "ticks": ""
           }
          },
          "title": {
           "x": 0.05
          },
          "xaxis": {
           "automargin": true,
           "gridcolor": "white",
           "linecolor": "white",
           "ticks": "",
           "title": {
            "standoff": 15
           },
           "zerolinecolor": "white",
           "zerolinewidth": 2
          },
          "yaxis": {
           "automargin": true,
           "gridcolor": "white",
           "linecolor": "white",
           "ticks": "",
           "title": {
            "standoff": 15
           },
           "zerolinecolor": "white",
           "zerolinewidth": 2
          }
         }
        },
        "title": {
         "text": "ridge"
        },
        "xaxis": {
         "ticklen": 5,
         "title": {
          "text": "World Rank"
         }
        }
       }
      }
     },
     "metadata": {},
     "output_type": "display_data"
    }
   ],
   "source": [
    "\n",
    "\n",
    "from plotly.offline import init_notebook_mode, iplot\n",
    "import plotly.graph_objs as go\n",
    "trace1 = go.Scatter(\n",
    "                    x =y_test ,\n",
    "                    y = pred_ridge,\n",
    "                    name = 'citations',\n",
    "                    mode= \"markers\",\n",
    "                    marker = dict(color = 'rgba(16, 112, 2, 0.8)'))\n",
    "data = [trace1]\n",
    "\n",
    "layout = dict(title = \"ridge\",\n",
    "             xaxis= dict(title= 'World Rank',ticklen= 5)\n",
    "           )\n",
    "\n",
    "fig = go.Figure(data = data, layout=layout)\n",
    "\n",
    "iplot(fig)"
   ]
  },
  {
   "cell_type": "code",
   "execution_count": null,
   "id": "959d515f",
   "metadata": {},
   "outputs": [],
   "source": []
  },
  {
   "cell_type": "code",
   "execution_count": null,
   "id": "e512ccc9",
   "metadata": {},
   "outputs": [
    {
     "name": "stderr",
     "output_type": "stream",
     "text": [
      "<>:43: SyntaxWarning:\n",
      "\n",
      "invalid escape sequence '\\l'\n",
      "\n",
      "<>:43: SyntaxWarning:\n",
      "\n",
      "invalid escape sequence '\\l'\n",
      "\n",
      "C:\\Users\\unaif\\AppData\\Local\\Temp\\ipykernel_23252\\3866503724.py:43: SyntaxWarning:\n",
      "\n",
      "invalid escape sequence '\\l'\n",
      "\n"
     ]
    },
    {
     "name": "stdout",
     "output_type": "stream",
     "text": [
      "Train ROOT MSE: 196.5283388981865\n",
      "Test ROOT MSE: 277.05590136918863\n",
      "Variaremos los valores entre 0.01 y 1000000.0\n"
     ]
    },
    {
     "name": "stderr",
     "output_type": "stream",
     "text": [
      "c:\\Users\\unaif\\OneDrive\\Documentos\\Documentos_Clase_Data\\.venv\\Lib\\site-packages\\sklearn\\linear_model\\_coordinate_descent.py:697: ConvergenceWarning:\n",
      "\n",
      "Objective did not converge. You might want to increase the number of iterations, check the scale of the features or consider increasing regularisation. Duality gap: 2.363e+07, tolerance: 3.798e+04\n",
      "\n",
      "c:\\Users\\unaif\\OneDrive\\Documentos\\Documentos_Clase_Data\\.venv\\Lib\\site-packages\\sklearn\\linear_model\\_coordinate_descent.py:697: ConvergenceWarning:\n",
      "\n",
      "Objective did not converge. You might want to increase the number of iterations, check the scale of the features or consider increasing regularisation. Duality gap: 2.365e+07, tolerance: 3.798e+04\n",
      "\n",
      "c:\\Users\\unaif\\OneDrive\\Documentos\\Documentos_Clase_Data\\.venv\\Lib\\site-packages\\sklearn\\linear_model\\_coordinate_descent.py:697: ConvergenceWarning:\n",
      "\n",
      "Objective did not converge. You might want to increase the number of iterations, check the scale of the features or consider increasing regularisation. Duality gap: 2.368e+07, tolerance: 3.798e+04\n",
      "\n",
      "c:\\Users\\unaif\\OneDrive\\Documentos\\Documentos_Clase_Data\\.venv\\Lib\\site-packages\\sklearn\\linear_model\\_coordinate_descent.py:697: ConvergenceWarning:\n",
      "\n",
      "Objective did not converge. You might want to increase the number of iterations, check the scale of the features or consider increasing regularisation. Duality gap: 2.372e+07, tolerance: 3.798e+04\n",
      "\n",
      "c:\\Users\\unaif\\OneDrive\\Documentos\\Documentos_Clase_Data\\.venv\\Lib\\site-packages\\sklearn\\linear_model\\_coordinate_descent.py:697: ConvergenceWarning:\n",
      "\n",
      "Objective did not converge. You might want to increase the number of iterations, check the scale of the features or consider increasing regularisation. Duality gap: 2.376e+07, tolerance: 3.798e+04\n",
      "\n",
      "c:\\Users\\unaif\\OneDrive\\Documentos\\Documentos_Clase_Data\\.venv\\Lib\\site-packages\\sklearn\\linear_model\\_coordinate_descent.py:697: ConvergenceWarning:\n",
      "\n",
      "Objective did not converge. You might want to increase the number of iterations, check the scale of the features or consider increasing regularisation. Duality gap: 2.381e+07, tolerance: 3.798e+04\n",
      "\n",
      "c:\\Users\\unaif\\OneDrive\\Documentos\\Documentos_Clase_Data\\.venv\\Lib\\site-packages\\sklearn\\linear_model\\_coordinate_descent.py:697: ConvergenceWarning:\n",
      "\n",
      "Objective did not converge. You might want to increase the number of iterations, check the scale of the features or consider increasing regularisation. Duality gap: 2.387e+07, tolerance: 3.798e+04\n",
      "\n",
      "c:\\Users\\unaif\\OneDrive\\Documentos\\Documentos_Clase_Data\\.venv\\Lib\\site-packages\\sklearn\\linear_model\\_coordinate_descent.py:697: ConvergenceWarning:\n",
      "\n",
      "Objective did not converge. You might want to increase the number of iterations, check the scale of the features or consider increasing regularisation. Duality gap: 2.394e+07, tolerance: 3.798e+04\n",
      "\n",
      "c:\\Users\\unaif\\OneDrive\\Documentos\\Documentos_Clase_Data\\.venv\\Lib\\site-packages\\sklearn\\linear_model\\_coordinate_descent.py:697: ConvergenceWarning:\n",
      "\n",
      "Objective did not converge. You might want to increase the number of iterations, check the scale of the features or consider increasing regularisation. Duality gap: 2.401e+07, tolerance: 3.798e+04\n",
      "\n",
      "c:\\Users\\unaif\\OneDrive\\Documentos\\Documentos_Clase_Data\\.venv\\Lib\\site-packages\\sklearn\\linear_model\\_coordinate_descent.py:697: ConvergenceWarning:\n",
      "\n",
      "Objective did not converge. You might want to increase the number of iterations, check the scale of the features or consider increasing regularisation. Duality gap: 2.410e+07, tolerance: 3.798e+04\n",
      "\n",
      "c:\\Users\\unaif\\OneDrive\\Documentos\\Documentos_Clase_Data\\.venv\\Lib\\site-packages\\sklearn\\linear_model\\_coordinate_descent.py:697: ConvergenceWarning:\n",
      "\n",
      "Objective did not converge. You might want to increase the number of iterations, check the scale of the features or consider increasing regularisation. Duality gap: 2.421e+07, tolerance: 3.798e+04\n",
      "\n",
      "c:\\Users\\unaif\\OneDrive\\Documentos\\Documentos_Clase_Data\\.venv\\Lib\\site-packages\\sklearn\\linear_model\\_coordinate_descent.py:697: ConvergenceWarning:\n",
      "\n",
      "Objective did not converge. You might want to increase the number of iterations, check the scale of the features or consider increasing regularisation. Duality gap: 2.432e+07, tolerance: 3.798e+04\n",
      "\n",
      "c:\\Users\\unaif\\OneDrive\\Documentos\\Documentos_Clase_Data\\.venv\\Lib\\site-packages\\sklearn\\linear_model\\_coordinate_descent.py:697: ConvergenceWarning:\n",
      "\n",
      "Objective did not converge. You might want to increase the number of iterations, check the scale of the features or consider increasing regularisation. Duality gap: 2.445e+07, tolerance: 3.798e+04\n",
      "\n",
      "c:\\Users\\unaif\\OneDrive\\Documentos\\Documentos_Clase_Data\\.venv\\Lib\\site-packages\\sklearn\\linear_model\\_coordinate_descent.py:697: ConvergenceWarning:\n",
      "\n",
      "Objective did not converge. You might want to increase the number of iterations, check the scale of the features or consider increasing regularisation. Duality gap: 2.457e+07, tolerance: 3.798e+04\n",
      "\n",
      "c:\\Users\\unaif\\OneDrive\\Documentos\\Documentos_Clase_Data\\.venv\\Lib\\site-packages\\sklearn\\linear_model\\_coordinate_descent.py:697: ConvergenceWarning:\n",
      "\n",
      "Objective did not converge. You might want to increase the number of iterations, check the scale of the features or consider increasing regularisation. Duality gap: 2.470e+07, tolerance: 3.798e+04\n",
      "\n",
      "c:\\Users\\unaif\\OneDrive\\Documentos\\Documentos_Clase_Data\\.venv\\Lib\\site-packages\\sklearn\\linear_model\\_coordinate_descent.py:697: ConvergenceWarning:\n",
      "\n",
      "Objective did not converge. You might want to increase the number of iterations, check the scale of the features or consider increasing regularisation. Duality gap: 2.483e+07, tolerance: 3.798e+04\n",
      "\n",
      "c:\\Users\\unaif\\OneDrive\\Documentos\\Documentos_Clase_Data\\.venv\\Lib\\site-packages\\sklearn\\linear_model\\_coordinate_descent.py:697: ConvergenceWarning:\n",
      "\n",
      "Objective did not converge. You might want to increase the number of iterations, check the scale of the features or consider increasing regularisation. Duality gap: 2.500e+07, tolerance: 3.798e+04\n",
      "\n",
      "c:\\Users\\unaif\\OneDrive\\Documentos\\Documentos_Clase_Data\\.venv\\Lib\\site-packages\\sklearn\\linear_model\\_coordinate_descent.py:697: ConvergenceWarning:\n",
      "\n",
      "Objective did not converge. You might want to increase the number of iterations, check the scale of the features or consider increasing regularisation. Duality gap: 2.521e+07, tolerance: 3.798e+04\n",
      "\n",
      "c:\\Users\\unaif\\OneDrive\\Documentos\\Documentos_Clase_Data\\.venv\\Lib\\site-packages\\sklearn\\linear_model\\_coordinate_descent.py:697: ConvergenceWarning:\n",
      "\n",
      "Objective did not converge. You might want to increase the number of iterations, check the scale of the features or consider increasing regularisation. Duality gap: 2.543e+07, tolerance: 3.798e+04\n",
      "\n",
      "c:\\Users\\unaif\\OneDrive\\Documentos\\Documentos_Clase_Data\\.venv\\Lib\\site-packages\\sklearn\\linear_model\\_coordinate_descent.py:697: ConvergenceWarning:\n",
      "\n",
      "Objective did not converge. You might want to increase the number of iterations, check the scale of the features or consider increasing regularisation. Duality gap: 2.568e+07, tolerance: 3.798e+04\n",
      "\n",
      "c:\\Users\\unaif\\OneDrive\\Documentos\\Documentos_Clase_Data\\.venv\\Lib\\site-packages\\sklearn\\linear_model\\_coordinate_descent.py:697: ConvergenceWarning:\n",
      "\n",
      "Objective did not converge. You might want to increase the number of iterations, check the scale of the features or consider increasing regularisation. Duality gap: 2.595e+07, tolerance: 3.798e+04\n",
      "\n",
      "c:\\Users\\unaif\\OneDrive\\Documentos\\Documentos_Clase_Data\\.venv\\Lib\\site-packages\\sklearn\\linear_model\\_coordinate_descent.py:697: ConvergenceWarning:\n",
      "\n",
      "Objective did not converge. You might want to increase the number of iterations, check the scale of the features or consider increasing regularisation. Duality gap: 2.624e+07, tolerance: 3.798e+04\n",
      "\n",
      "c:\\Users\\unaif\\OneDrive\\Documentos\\Documentos_Clase_Data\\.venv\\Lib\\site-packages\\sklearn\\linear_model\\_coordinate_descent.py:697: ConvergenceWarning:\n",
      "\n",
      "Objective did not converge. You might want to increase the number of iterations, check the scale of the features or consider increasing regularisation. Duality gap: 2.653e+07, tolerance: 3.798e+04\n",
      "\n",
      "c:\\Users\\unaif\\OneDrive\\Documentos\\Documentos_Clase_Data\\.venv\\Lib\\site-packages\\sklearn\\linear_model\\_coordinate_descent.py:697: ConvergenceWarning:\n",
      "\n",
      "Objective did not converge. You might want to increase the number of iterations, check the scale of the features or consider increasing regularisation. Duality gap: 2.684e+07, tolerance: 3.798e+04\n",
      "\n",
      "c:\\Users\\unaif\\OneDrive\\Documentos\\Documentos_Clase_Data\\.venv\\Lib\\site-packages\\sklearn\\linear_model\\_coordinate_descent.py:697: ConvergenceWarning:\n",
      "\n",
      "Objective did not converge. You might want to increase the number of iterations, check the scale of the features or consider increasing regularisation. Duality gap: 2.717e+07, tolerance: 3.798e+04\n",
      "\n",
      "c:\\Users\\unaif\\OneDrive\\Documentos\\Documentos_Clase_Data\\.venv\\Lib\\site-packages\\sklearn\\linear_model\\_coordinate_descent.py:697: ConvergenceWarning:\n",
      "\n",
      "Objective did not converge. You might want to increase the number of iterations, check the scale of the features or consider increasing regularisation. Duality gap: 2.755e+07, tolerance: 3.798e+04\n",
      "\n",
      "c:\\Users\\unaif\\OneDrive\\Documentos\\Documentos_Clase_Data\\.venv\\Lib\\site-packages\\sklearn\\linear_model\\_coordinate_descent.py:697: ConvergenceWarning:\n",
      "\n",
      "Objective did not converge. You might want to increase the number of iterations, check the scale of the features or consider increasing regularisation. Duality gap: 2.798e+07, tolerance: 3.798e+04\n",
      "\n",
      "c:\\Users\\unaif\\OneDrive\\Documentos\\Documentos_Clase_Data\\.venv\\Lib\\site-packages\\sklearn\\linear_model\\_coordinate_descent.py:697: ConvergenceWarning:\n",
      "\n",
      "Objective did not converge. You might want to increase the number of iterations, check the scale of the features or consider increasing regularisation. Duality gap: 2.844e+07, tolerance: 3.798e+04\n",
      "\n",
      "c:\\Users\\unaif\\OneDrive\\Documentos\\Documentos_Clase_Data\\.venv\\Lib\\site-packages\\sklearn\\linear_model\\_coordinate_descent.py:697: ConvergenceWarning:\n",
      "\n",
      "Objective did not converge. You might want to increase the number of iterations, check the scale of the features or consider increasing regularisation. Duality gap: 2.892e+07, tolerance: 3.798e+04\n",
      "\n",
      "c:\\Users\\unaif\\OneDrive\\Documentos\\Documentos_Clase_Data\\.venv\\Lib\\site-packages\\sklearn\\linear_model\\_coordinate_descent.py:697: ConvergenceWarning:\n",
      "\n",
      "Objective did not converge. You might want to increase the number of iterations, check the scale of the features or consider increasing regularisation. Duality gap: 2.939e+07, tolerance: 3.798e+04\n",
      "\n",
      "c:\\Users\\unaif\\OneDrive\\Documentos\\Documentos_Clase_Data\\.venv\\Lib\\site-packages\\sklearn\\linear_model\\_coordinate_descent.py:697: ConvergenceWarning:\n",
      "\n",
      "Objective did not converge. You might want to increase the number of iterations, check the scale of the features or consider increasing regularisation. Duality gap: 2.988e+07, tolerance: 3.798e+04\n",
      "\n",
      "c:\\Users\\unaif\\OneDrive\\Documentos\\Documentos_Clase_Data\\.venv\\Lib\\site-packages\\sklearn\\linear_model\\_coordinate_descent.py:697: ConvergenceWarning:\n",
      "\n",
      "Objective did not converge. You might want to increase the number of iterations, check the scale of the features or consider increasing regularisation. Duality gap: 3.040e+07, tolerance: 3.798e+04\n",
      "\n",
      "c:\\Users\\unaif\\OneDrive\\Documentos\\Documentos_Clase_Data\\.venv\\Lib\\site-packages\\sklearn\\linear_model\\_coordinate_descent.py:697: ConvergenceWarning:\n",
      "\n",
      "Objective did not converge. You might want to increase the number of iterations, check the scale of the features or consider increasing regularisation. Duality gap: 3.092e+07, tolerance: 3.798e+04\n",
      "\n",
      "c:\\Users\\unaif\\OneDrive\\Documentos\\Documentos_Clase_Data\\.venv\\Lib\\site-packages\\sklearn\\linear_model\\_coordinate_descent.py:697: ConvergenceWarning:\n",
      "\n",
      "Objective did not converge. You might want to increase the number of iterations, check the scale of the features or consider increasing regularisation. Duality gap: 3.150e+07, tolerance: 3.798e+04\n",
      "\n",
      "c:\\Users\\unaif\\OneDrive\\Documentos\\Documentos_Clase_Data\\.venv\\Lib\\site-packages\\sklearn\\linear_model\\_coordinate_descent.py:697: ConvergenceWarning:\n",
      "\n",
      "Objective did not converge. You might want to increase the number of iterations, check the scale of the features or consider increasing regularisation. Duality gap: 3.205e+07, tolerance: 3.798e+04\n",
      "\n",
      "c:\\Users\\unaif\\OneDrive\\Documentos\\Documentos_Clase_Data\\.venv\\Lib\\site-packages\\sklearn\\linear_model\\_coordinate_descent.py:697: ConvergenceWarning:\n",
      "\n",
      "Objective did not converge. You might want to increase the number of iterations, check the scale of the features or consider increasing regularisation. Duality gap: 3.270e+07, tolerance: 3.798e+04\n",
      "\n",
      "c:\\Users\\unaif\\OneDrive\\Documentos\\Documentos_Clase_Data\\.venv\\Lib\\site-packages\\sklearn\\linear_model\\_coordinate_descent.py:697: ConvergenceWarning:\n",
      "\n",
      "Objective did not converge. You might want to increase the number of iterations, check the scale of the features or consider increasing regularisation. Duality gap: 3.332e+07, tolerance: 3.798e+04\n",
      "\n",
      "c:\\Users\\unaif\\OneDrive\\Documentos\\Documentos_Clase_Data\\.venv\\Lib\\site-packages\\sklearn\\linear_model\\_coordinate_descent.py:697: ConvergenceWarning:\n",
      "\n",
      "Objective did not converge. You might want to increase the number of iterations, check the scale of the features or consider increasing regularisation. Duality gap: 3.390e+07, tolerance: 3.798e+04\n",
      "\n",
      "c:\\Users\\unaif\\OneDrive\\Documentos\\Documentos_Clase_Data\\.venv\\Lib\\site-packages\\sklearn\\linear_model\\_coordinate_descent.py:697: ConvergenceWarning:\n",
      "\n",
      "Objective did not converge. You might want to increase the number of iterations, check the scale of the features or consider increasing regularisation. Duality gap: 3.430e+07, tolerance: 3.798e+04\n",
      "\n",
      "c:\\Users\\unaif\\OneDrive\\Documentos\\Documentos_Clase_Data\\.venv\\Lib\\site-packages\\sklearn\\linear_model\\_coordinate_descent.py:697: ConvergenceWarning:\n",
      "\n",
      "Objective did not converge. You might want to increase the number of iterations, check the scale of the features or consider increasing regularisation. Duality gap: 3.518e+07, tolerance: 3.798e+04\n",
      "\n",
      "c:\\Users\\unaif\\OneDrive\\Documentos\\Documentos_Clase_Data\\.venv\\Lib\\site-packages\\sklearn\\linear_model\\_coordinate_descent.py:697: ConvergenceWarning:\n",
      "\n",
      "Objective did not converge. You might want to increase the number of iterations, check the scale of the features or consider increasing regularisation. Duality gap: 3.576e+07, tolerance: 3.798e+04\n",
      "\n",
      "c:\\Users\\unaif\\OneDrive\\Documentos\\Documentos_Clase_Data\\.venv\\Lib\\site-packages\\sklearn\\linear_model\\_coordinate_descent.py:697: ConvergenceWarning:\n",
      "\n",
      "Objective did not converge. You might want to increase the number of iterations, check the scale of the features or consider increasing regularisation. Duality gap: 3.640e+07, tolerance: 3.798e+04\n",
      "\n",
      "c:\\Users\\unaif\\OneDrive\\Documentos\\Documentos_Clase_Data\\.venv\\Lib\\site-packages\\sklearn\\linear_model\\_coordinate_descent.py:697: ConvergenceWarning:\n",
      "\n",
      "Objective did not converge. You might want to increase the number of iterations, check the scale of the features or consider increasing regularisation. Duality gap: 3.706e+07, tolerance: 3.798e+04\n",
      "\n",
      "c:\\Users\\unaif\\OneDrive\\Documentos\\Documentos_Clase_Data\\.venv\\Lib\\site-packages\\sklearn\\linear_model\\_coordinate_descent.py:697: ConvergenceWarning:\n",
      "\n",
      "Objective did not converge. You might want to increase the number of iterations, check the scale of the features or consider increasing regularisation. Duality gap: 3.776e+07, tolerance: 3.798e+04\n",
      "\n",
      "c:\\Users\\unaif\\OneDrive\\Documentos\\Documentos_Clase_Data\\.venv\\Lib\\site-packages\\sklearn\\linear_model\\_coordinate_descent.py:697: ConvergenceWarning:\n",
      "\n",
      "Objective did not converge. You might want to increase the number of iterations, check the scale of the features or consider increasing regularisation. Duality gap: 3.833e+07, tolerance: 3.798e+04\n",
      "\n",
      "c:\\Users\\unaif\\OneDrive\\Documentos\\Documentos_Clase_Data\\.venv\\Lib\\site-packages\\sklearn\\linear_model\\_coordinate_descent.py:697: ConvergenceWarning:\n",
      "\n",
      "Objective did not converge. You might want to increase the number of iterations, check the scale of the features or consider increasing regularisation. Duality gap: 3.916e+07, tolerance: 3.798e+04\n",
      "\n",
      "c:\\Users\\unaif\\OneDrive\\Documentos\\Documentos_Clase_Data\\.venv\\Lib\\site-packages\\sklearn\\linear_model\\_coordinate_descent.py:697: ConvergenceWarning:\n",
      "\n",
      "Objective did not converge. You might want to increase the number of iterations, check the scale of the features or consider increasing regularisation. Duality gap: 3.969e+07, tolerance: 3.798e+04\n",
      "\n",
      "c:\\Users\\unaif\\OneDrive\\Documentos\\Documentos_Clase_Data\\.venv\\Lib\\site-packages\\sklearn\\linear_model\\_coordinate_descent.py:697: ConvergenceWarning:\n",
      "\n",
      "Objective did not converge. You might want to increase the number of iterations, check the scale of the features or consider increasing regularisation. Duality gap: 3.959e+07, tolerance: 3.798e+04\n",
      "\n",
      "c:\\Users\\unaif\\OneDrive\\Documentos\\Documentos_Clase_Data\\.venv\\Lib\\site-packages\\sklearn\\linear_model\\_coordinate_descent.py:697: ConvergenceWarning:\n",
      "\n",
      "Objective did not converge. You might want to increase the number of iterations, check the scale of the features or consider increasing regularisation. Duality gap: 4.024e+07, tolerance: 3.798e+04\n",
      "\n",
      "c:\\Users\\unaif\\OneDrive\\Documentos\\Documentos_Clase_Data\\.venv\\Lib\\site-packages\\sklearn\\linear_model\\_coordinate_descent.py:697: ConvergenceWarning:\n",
      "\n",
      "Objective did not converge. You might want to increase the number of iterations, check the scale of the features or consider increasing regularisation. Duality gap: 4.045e+07, tolerance: 3.798e+04\n",
      "\n",
      "c:\\Users\\unaif\\OneDrive\\Documentos\\Documentos_Clase_Data\\.venv\\Lib\\site-packages\\sklearn\\linear_model\\_coordinate_descent.py:697: ConvergenceWarning:\n",
      "\n",
      "Objective did not converge. You might want to increase the number of iterations, check the scale of the features or consider increasing regularisation. Duality gap: 4.075e+07, tolerance: 3.798e+04\n",
      "\n",
      "c:\\Users\\unaif\\OneDrive\\Documentos\\Documentos_Clase_Data\\.venv\\Lib\\site-packages\\sklearn\\linear_model\\_coordinate_descent.py:697: ConvergenceWarning:\n",
      "\n",
      "Objective did not converge. You might want to increase the number of iterations, check the scale of the features or consider increasing regularisation. Duality gap: 4.099e+07, tolerance: 3.798e+04\n",
      "\n",
      "c:\\Users\\unaif\\OneDrive\\Documentos\\Documentos_Clase_Data\\.venv\\Lib\\site-packages\\sklearn\\linear_model\\_coordinate_descent.py:697: ConvergenceWarning:\n",
      "\n",
      "Objective did not converge. You might want to increase the number of iterations, check the scale of the features or consider increasing regularisation. Duality gap: 4.078e+07, tolerance: 3.798e+04\n",
      "\n",
      "c:\\Users\\unaif\\OneDrive\\Documentos\\Documentos_Clase_Data\\.venv\\Lib\\site-packages\\sklearn\\linear_model\\_coordinate_descent.py:697: ConvergenceWarning:\n",
      "\n",
      "Objective did not converge. You might want to increase the number of iterations, check the scale of the features or consider increasing regularisation. Duality gap: 4.065e+07, tolerance: 3.798e+04\n",
      "\n",
      "c:\\Users\\unaif\\OneDrive\\Documentos\\Documentos_Clase_Data\\.venv\\Lib\\site-packages\\sklearn\\linear_model\\_coordinate_descent.py:697: ConvergenceWarning:\n",
      "\n",
      "Objective did not converge. You might want to increase the number of iterations, check the scale of the features or consider increasing regularisation. Duality gap: 4.029e+07, tolerance: 3.798e+04\n",
      "\n",
      "c:\\Users\\unaif\\OneDrive\\Documentos\\Documentos_Clase_Data\\.venv\\Lib\\site-packages\\sklearn\\linear_model\\_coordinate_descent.py:697: ConvergenceWarning:\n",
      "\n",
      "Objective did not converge. You might want to increase the number of iterations, check the scale of the features or consider increasing regularisation. Duality gap: 3.970e+07, tolerance: 3.798e+04\n",
      "\n",
      "c:\\Users\\unaif\\OneDrive\\Documentos\\Documentos_Clase_Data\\.venv\\Lib\\site-packages\\sklearn\\linear_model\\_coordinate_descent.py:697: ConvergenceWarning:\n",
      "\n",
      "Objective did not converge. You might want to increase the number of iterations, check the scale of the features or consider increasing regularisation. Duality gap: 3.934e+07, tolerance: 3.798e+04\n",
      "\n",
      "c:\\Users\\unaif\\OneDrive\\Documentos\\Documentos_Clase_Data\\.venv\\Lib\\site-packages\\sklearn\\linear_model\\_coordinate_descent.py:697: ConvergenceWarning:\n",
      "\n",
      "Objective did not converge. You might want to increase the number of iterations, check the scale of the features or consider increasing regularisation. Duality gap: 3.643e+07, tolerance: 3.798e+04\n",
      "\n",
      "c:\\Users\\unaif\\OneDrive\\Documentos\\Documentos_Clase_Data\\.venv\\Lib\\site-packages\\sklearn\\linear_model\\_coordinate_descent.py:697: ConvergenceWarning:\n",
      "\n",
      "Objective did not converge. You might want to increase the number of iterations, check the scale of the features or consider increasing regularisation. Duality gap: 2.415e+07, tolerance: 3.798e+04\n",
      "\n",
      "c:\\Users\\unaif\\OneDrive\\Documentos\\Documentos_Clase_Data\\.venv\\Lib\\site-packages\\sklearn\\linear_model\\_coordinate_descent.py:697: ConvergenceWarning:\n",
      "\n",
      "Objective did not converge. You might want to increase the number of iterations, check the scale of the features or consider increasing regularisation. Duality gap: 1.569e+05, tolerance: 3.798e+04\n",
      "\n"
     ]
    },
    {
     "data": {
      "image/png": "[encoded data removed]",
      "text/plain": [
       "<Figure size 1000x600 with 1 Axes>"
      ]
     },
     "metadata": {},
     "output_type": "display_data"
    }
   ],
   "source": [
    "from sklearn.linear_model import Lasso\n",
    "\n",
    "from sklearn import linear_model, metrics\n",
    "\n",
    "lr = linear_model.LinearRegression()\n",
    "\n",
    "lr.fit(X_train, y_train)\n",
    "\n",
    "pred_lasso = lr.predict(X_test)\n",
    "baseline_error = metrics.mean_absolute_error(y_test, pred_ridge)\n",
    "\n",
    "print(\"Train ROOT MSE:\", ( metrics.mean_absolute_error(y_train, lr.predict(X_train))))\n",
    "print(\"Test ROOT MSE:\", (metrics.mean_absolute_error(y_test, lr.predict(X_test))))\n",
    "import numpy as np\n",
    "\n",
    "n_alphas = 100\n",
    "alphas = np.logspace(-2, 6, n_alphas)\n",
    "\n",
    "print(f\"Variaremos los valores entre {np.min(alphas)} y {np.max(alphas)}\")\n",
    "coef_ridge = []\n",
    "err_ridge = []\n",
    "baseline = []\n",
    "for a in alphas:\n",
    "    lasso = Lasso(alpha=a)\n",
    "    lasso.fit(X_train, y_train)\n",
    "    \n",
    "    coef_ridge.append(lasso.coef_)\n",
    "    \n",
    "    pred_lasso = lasso.predict(X_test)\n",
    "    lasso_error = (metrics.mean_squared_error(pred_lasso, y_test))\n",
    "    \n",
    "    err_ridge.append(ridge_error)\n",
    "    \n",
    "    baseline.append(baseline_error)\n",
    "import matplotlib.pyplot as plt\n",
    "plt.figure(figsize=(10,6))\n",
    "font = 20\n",
    "\n",
    "ax = plt.gca()\n",
    "ax.plot(alphas, err_ridge, linewidth=5, color='red', label=\"lasso regression\")\n",
    "ax.plot(alphas, baseline, linewidth=4,linestyle='--', color='blue', label='Linear regression')\n",
    "ax.set_xscale('log')\n",
    "ax.set_xscale('linear')\n",
    "plt.xlabel('$\\lambda$', fontsize=font)\n",
    "plt.xticks(fontsize=font)\n",
    "plt.yticks(fontsize=font)\n",
    "plt.ylabel('error', fontsize=font)\n",
    "ax.legend(fontsize=font)\n",
    "plt.title(r'Regression error ($\\lambda$)', fontsize=font)\n",
    "plt.show()"
   ]
  },
  {
   "cell_type": "code",
   "execution_count": null,
   "id": "2a8424c8",
   "metadata": {},
   "outputs": [
    {
     "name": "stdout",
     "output_type": "stream",
     "text": [
      "RMSE 324.22514099231483\n",
      "RMSE: 324.22514099231483\n",
      "______________________________\n",
      "R2 train 0.8778116773199984\n",
      "R2 test 0.7743306405991239\n",
      "0.738845238929318\n"
     ]
    },
    {
     "data": {
      "application/vnd.plotly.v1+json": {
       "config": {
        "linkText": "Export to plot.ly",
        "plotlyServerURL": "https://plot.ly",
        "showLink": false
       },
       "data": [
        {
         "marker": {
          "color": "rgba(16, 112, 2, 0.8)"
         },
         "mode": "markers",
         "name": "citations",
         "type": "scatter",
         "x": {
          "bdata": "AAAAAABQeEAAAAAAAEBwQAAAAAAAuIRAAAAAAADgg0AAAAAAAEyUQAAAAAAACItAFK5H4fpppkAAAAAAACCXQAAAAAAA4IpAmpmZmZlTm0AAAAAAAFyYQAAAAAAAAI1AAAAAAACsnUAAAAAAALB3QGZmZmZmvntAAAAAAACskkAAAAAAADiKQAAAAAAAMHVAAAAAAADQfkAAAAAAAIySQDMzMzMze3xArkfhehSoiEAAAAAAAHiLQAAAAAAApJ9AKVyPwvUMk0AAAAAAAKamQNejcD2KiadAAAAAAABomkAAAAAAAFB4QAAAAAAAFqVAAAAAAACYjkAAAAAAAPSRQAAAAAAAyIlAAAAAAADAdUAAAAAAADiPQAAAAAAAHJdAAAAAAACwk0AAAAAAABB3QEjhehSudZtAAAAAAADYjUAAAAAAAPibQAAAAAAAyIhAAAAAAAA4j0AAAAAAALiVQAAAAAAAkIZAAAAAAACweEAAAAAAAABxQArXo3A97n1AAAAAAAAAc0AAAAAAADBxQAAAAAAArJ1AAAAAAAD4jUAAAAAAADiDQAAAAAAAyIRAAAAAAADgaEDsUbgehVGCQAAAAAAACI5AAAAAAADknEAAAAAAACyRQAAAAAAAFJVAAAAAAABojkDNzMzMzCGgQAAAAAAALJJAAAAAAABYm0AAAAAAAFarQAAAAAAA2IBAAAAAAAAskUAAAAAAABycQAAAAAAA+IFAAAAAAADYgkAAAAAAAJ6kQAAAAAAA2I1AAAAAAAB4gUAAAAAAAFiIQAAAAAAAYHhAAAAAAADEmUAAAAAAADiDQAAAAAAAMINAj8L1KFyVoUAAAAAAAPyYQPYoXI/C7pRAZmZmZmb+h0AAAAAAAOiOQAAAAAAATJRAzczMzMybkEAAAAAAAIajQAAAAAAA+JhAAAAAAADckEAAAAAAAPyYQAAAAAAAkHRAAAAAAAAElkAAAAAAAFB9QJqZmZmZZ5VAAAAAAAD0kEAAAAAAAFSbQAAAAAAA9JZAAAAAAABIh0AAAAAAAJSSQAAAAAAAyI5A7FG4HoWLb0AAAAAAABiMQAAAAAAAWIhAAAAAAAAIg0AAAAAAAN6lQAAAAAAAqI1AAAAAAADAe0AAAAAAAGiXQAAAAAAA0H9AAAAAAAAgakBmZmZmZp5+QAAAAAAAxJlAAAAAAADwg0BSuB6F67eCQDMzMzMzAYFAAAAAAAA4ikAAAAAAABSVQAAAAAAAkHBAAAAAAAACoEAAAAAAAMiWQAAAAAAAOI9AAAAAAADslEAAAAAAAPiBQAAAAAAAGIxAAAAAAACskkAAAAAAAGycQAAAAAAAUHRAAAAAAADokkAAAAAAABycQGZmZmZmvnxAAAAAAABUm0BmZmZm5vGhQAAAAAAAQHRAAAAAAAC8kkAAAAAAACqiQFK4HoXrr4VAAAAAAAAAiUAAAAAAAEyUQAAAAAAAKIFAAAAAAACUnEAAAAAAAIajQAAAAAAAUHhAKVyPwvVcoEAAAAAAABiHQAAAAAAAqJtAAAAAAAAcnED2KFyPwlmQQAAAAAAAEKZAAAAAAAAYhUAAAAAAAASVQAAAAAAA4JBAZmZmZmZmhUAAAAAAAJCbQAAAAAAA2IVAAAAAAAA0mEAAAAAAADiPQAAAAAAA0HpApHA9CtfveEAAAAAAAMiLQAAAAAAAHJxAAAAAAABIgkAAAAAAAEaiQAAAAAAAsIpAAAAAAADAeUAAAAAAADSdQAAAAAAAiIVAAAAAAACQfkAAAAAAANuRQM3MzMzMKoVAZmZmZmYuf0AAAAAAAFB4QAAAAAAAJJ9AAAAAAAAio0AAAAAAANyQQAAAAAAAbJdAZmZmZubSo0AAAAAAAACZQAAAAAAAkHJAAAAAAAAAikDNzMzMzPxnQAAAAAAAsHxAAAAAAADAkkAAAAAAAJiJQAAAAAAA6I5A",
          "dtype": "f8"
         },
         "y": {
          "bdata": "IGIa3JMtf0BA115D7ox3QMqn5P0j35NARISyRaddgkA0CRPcK62cQPhGio10boxA28C1ZnnTo0CEj7UZS++XQIAX7AduUI9AlrE+UopgoUD8IPHbSZaTQB5ErPWaOpRAIcJagNtInkCgKG0oKsxsQGhnql0tjHlAnkbLtKzRkEDMjwhOtw+KQPyAa6z2WnJAKDbY7Fa9hUD+JpdWFMqSQPAvdOOH7HxANsROJQGAlUAmfG4r+x2UQKQiQWtshZxAFBzmr+6tkUD88fCvqHSYQEsQxte7zqFAtt0SsAwbmECUZF7VmN6BQNvAtWZ506NA0DswWxypkECyvgLIapyVQDi87xXMsIZAGJNDl4WuckAygsma7A+XQJjkkGqesZtAnjyMx5VZk0C4iLr4CsBxQNQlC/zmopdAyFwuOx5klUDyzSk094GaQDxXDAegrotA7HTCnJQ6hEBKLyqy7bSQQMB31+QZzIVA4IHfDXyUeUC4D8xk379xQIDh6fZcrXJAzKGuxlgcdED4J1euj4xxQFapOy1cB6BA4McbfN/EhUDQiETOOZF0QJhmz+qNh4hA9CvXZxIVckBo/jgkoliKQLSQX5mTOY1ARMwO5khYmkAQysHAG76WQHpoM1NGUpdARNIEprLwkkCt1UJRcXeiQPI0UKgUmJNAmHJbGT0kmkAEmijW6JSnQNh2YejEt4FACseiC87/kkDkY2Oi5OWhQHgvBD7tXHdALGiMu18DjEAEB8Jj7+enQLyksYPaH4dA1IH1XXZMh0CePkyYPF+QQLjG3v+JjXpANffxrYfAi0DeS0Mg13WBQPAvdOOH7HxA0PEToxFkjkCWvVJOYiOWQPRVMaHsgZVApJ0k4ulAi0AH3lDcLj+VQG5nqsItCJlADOW/JfFojUC9lLNo7j2lQJBTgdQ2y5tAri8PKoFwmUBQheDeh0iYQDCF4tdZunNARA6Mhur2lECxsmFEQQmCQBAbaobc+pRAiCBub1pYikDl6/2TDLugQHAnZWteKZJAJKFW3eK5jEBkIpP+IU6CQHg9zLGtOZRAwCnco/dLckAAuePORYuWQJS+A66tn4xAxNiYwciSgUD1M560OEmoQMBA6wSPdotA7MS5aTWrgUC1nYV7BxagQEy5CQwdDYdAyK43kqQzcEC4xt7/iY16QNckUuqiJppAlA7JZzjQj0DcxRbkCRKPQCARuYfgy39ANUuVcvfdjUD6hus35JSXQICQ8qv4WmZAQuBvaeC7lkDSjmaM4VqYQGQHM89fb49AusE7E9/1lEBgkvGkgfmPQFBHOMeb1ItAnkbLtKzRkEAMmLnBAwubQDA/WriJ6XFA/tVFtKCfkUBqqVdcy5+bQAQGLkUObXJAAb91satCoEAKWZaztX+XQMAw7DwL5XBAjHL1Mx0Mj0BakkgJpRWYQHQ6b0AjMo5A1uoSU15ThUCOCMEH+RmWQIDnwxm8PYhAdvPFrjgSlkCmcaa6cRedQPDXG7hdrV1AcJXCTcAjnUDQ2OqZ/A2GQPXYql8yOY1AGNEb2v8qmECAH19NeVKGQAbk0uZ4gqJAtBiVkR/Xh0B4jG01lieRQHgD07YCd4tA0IwEvMuah0CkTYS5csicQExOi9MgT3lAZGwQqjz/m0DIRFgfWAKVQNxC7BIdGIdAzKGuxlgcdEDQWFz/wpGLQJJuKQvtHJRA9O/6gEgggkC42dyyJDyXQPBj0kkS6I5AgG+Hcx4ugEDJVzOzA+GVQDql7Jig65BA4EUSSzybf0AcUpYEI/+JQIwWlrXXAYhAaEyM44/0ekAIrtqpCkiAQFgMGWBGyaJAIJ85lMugm0D6hus35JSXQBjRG9r/KphA2i3Wq6F9oECuLw8qgXCZQPDXG7hdrV1AzOKsOLh7j0BHonq8o5iIQKCPTNtNX4BAoHXMcDxLj0D5GGyALwSPQGyf4OosKZVA",
          "dtype": "f8"
         }
        }
       ],
       "layout": {
        "template": {
         "data": {
          "bar": [
           {
            "error_x": {
             "color": "#2a3f5f"
            },
            "error_y": {
             "color": "#2a3f5f"
            },
            "marker": {
             "line": {
              "color": "#E5ECF6",
              "width": 0.5
             },
             "pattern": {
              "fillmode": "overlay",
              "size": 10,
              "solidity": 0.2
             }
            },
            "type": "bar"
           }
          ],
          "barpolar": [
           {
            "marker": {
             "line": {
              "color": "#E5ECF6",
              "width": 0.5
             },
             "pattern": {
              "fillmode": "overlay",
              "size": 10,
              "solidity": 0.2
             }
            },
            "type": "barpolar"
           }
          ],
          "carpet": [
           {
            "aaxis": {
             "endlinecolor": "#2a3f5f",
             "gridcolor": "white",
             "linecolor": "white",
             "minorgridcolor": "white",
             "startlinecolor": "#2a3f5f"
            },
            "baxis": {
             "endlinecolor": "#2a3f5f",
             "gridcolor": "white",
             "linecolor": "white",
             "minorgridcolor": "white",
             "startlinecolor": "#2a3f5f"
            },
            "type": "carpet"
           }
          ],
          "choropleth": [
           {
            "colorbar": {
             "outlinewidth": 0,
             "ticks": ""
            },
            "type": "choropleth"
           }
          ],
          "contour": [
           {
            "colorbar": {
             "outlinewidth": 0,
             "ticks": ""
            },
            "colorscale": [
             [
              0,
              "#0d0887"
             ],
             [
              0.1111111111111111,
              "#46039f"
             ],
             [
              0.2222222222222222,
              "#7201a8"
             ],
             [
              0.3333333333333333,
              "#9c179e"
             ],
             [
              0.4444444444444444,
              "#bd3786"
             ],
             [
              0.5555555555555556,
              "#d8576b"
             ],
             [
              0.6666666666666666,
              "#ed7953"
             ],
             [
              0.7777777777777778,
              "#fb9f3a"
             ],
             [
              0.8888888888888888,
              "#fdca26"
             ],
             [
              1,
              "#f0f921"
             ]
            ],
            "type": "contour"
           }
          ],
          "contourcarpet": [
           {
            "colorbar": {
             "outlinewidth": 0,
             "ticks": ""
            },
            "type": "contourcarpet"
           }
          ],
          "heatmap": [
           {
            "colorbar": {
             "outlinewidth": 0,
             "ticks": ""
            },
            "colorscale": [
             [
              0,
              "#0d0887"
             ],
             [
              0.1111111111111111,
              "#46039f"
             ],
             [
              0.2222222222222222,
              "#7201a8"
             ],
             [
              0.3333333333333333,
              "#9c179e"
             ],
             [
              0.4444444444444444,
              "#bd3786"
             ],
             [
              0.5555555555555556,
              "#d8576b"
             ],
             [
              0.6666666666666666,
              "#ed7953"
             ],
             [
              0.7777777777777778,
              "#fb9f3a"
             ],
             [
              0.8888888888888888,
              "#fdca26"
             ],
             [
              1,
              "#f0f921"
             ]
            ],
            "type": "heatmap"
           }
          ],
          "histogram": [
           {
            "marker": {
             "pattern": {
              "fillmode": "overlay",
              "size": 10,
              "solidity": 0.2
             }
            },
            "type": "histogram"
           }
          ],
          "histogram2d": [
           {
            "colorbar": {
             "outlinewidth": 0,
             "ticks": ""
            },
            "colorscale": [
             [
              0,
              "#0d0887"
             ],
             [
              0.1111111111111111,
              "#46039f"
             ],
             [
              0.2222222222222222,
              "#7201a8"
             ],
             [
              0.3333333333333333,
              "#9c179e"
             ],
             [
              0.4444444444444444,
              "#bd3786"
             ],
             [
              0.5555555555555556,
              "#d8576b"
             ],
             [
              0.6666666666666666,
              "#ed7953"
             ],
             [
              0.7777777777777778,
              "#fb9f3a"
             ],
             [
              0.8888888888888888,
              "#fdca26"
             ],
             [
              1,
              "#f0f921"
             ]
            ],
            "type": "histogram2d"
           }
          ],
          "histogram2dcontour": [
           {
            "colorbar": {
             "outlinewidth": 0,
             "ticks": ""
            },
            "colorscale": [
             [
              0,
              "#0d0887"
             ],
             [
              0.1111111111111111,
              "#46039f"
             ],
             [
              0.2222222222222222,
              "#7201a8"
             ],
             [
              0.3333333333333333,
              "#9c179e"
             ],
             [
              0.4444444444444444,
              "#bd3786"
             ],
             [
              0.5555555555555556,
              "#d8576b"
             ],
             [
              0.6666666666666666,
              "#ed7953"
             ],
             [
              0.7777777777777778,
              "#fb9f3a"
             ],
             [
              0.8888888888888888,
              "#fdca26"
             ],
             [
              1,
              "#f0f921"
             ]
            ],
            "type": "histogram2dcontour"
           }
          ],
          "mesh3d": [
           {
            "colorbar": {
             "outlinewidth": 0,
             "ticks": ""
            },
            "type": "mesh3d"
           }
          ],
          "parcoords": [
           {
            "line": {
             "colorbar": {
              "outlinewidth": 0,
              "ticks": ""
             }
            },
            "type": "parcoords"
           }
          ],
          "pie": [
           {
            "automargin": true,
            "type": "pie"
           }
          ],
          "scatter": [
           {
            "fillpattern": {
             "fillmode": "overlay",
             "size": 10,
             "solidity": 0.2
            },
            "type": "scatter"
           }
          ],
          "scatter3d": [
           {
            "line": {
             "colorbar": {
              "outlinewidth": 0,
              "ticks": ""
             }
            },
            "marker": {
             "colorbar": {
              "outlinewidth": 0,
              "ticks": ""
             }
            },
            "type": "scatter3d"
           }
          ],
          "scattercarpet": [
           {
            "marker": {
             "colorbar": {
              "outlinewidth": 0,
              "ticks": ""
             }
            },
            "type": "scattercarpet"
           }
          ],
          "scattergeo": [
           {
            "marker": {
             "colorbar": {
              "outlinewidth": 0,
              "ticks": ""
             }
            },
            "type": "scattergeo"
           }
          ],
          "scattergl": [
           {
            "marker": {
             "colorbar": {
              "outlinewidth": 0,
              "ticks": ""
             }
            },
            "type": "scattergl"
           }
          ],
          "scattermap": [
           {
            "marker": {
             "colorbar": {
              "outlinewidth": 0,
              "ticks": ""
             }
            },
            "type": "scattermap"
           }
          ],
          "scattermapbox": [
           {
            "marker": {
             "colorbar": {
              "outlinewidth": 0,
              "ticks": ""
             }
            },
            "type": "scattermapbox"
           }
          ],
          "scatterpolar": [
           {
            "marker": {
             "colorbar": {
              "outlinewidth": 0,
              "ticks": ""
             }
            },
            "type": "scatterpolar"
           }
          ],
          "scatterpolargl": [
           {
            "marker": {
             "colorbar": {
              "outlinewidth": 0,
              "ticks": ""
             }
            },
            "type": "scatterpolargl"
           }
          ],
          "scatterternary": [
           {
            "marker": {
             "colorbar": {
              "outlinewidth": 0,
              "ticks": ""
             }
            },
            "type": "scatterternary"
           }
          ],
          "surface": [
           {
            "colorbar": {
             "outlinewidth": 0,
             "ticks": ""
            },
            "colorscale": [
             [
              0,
              "#0d0887"
             ],
             [
              0.1111111111111111,
              "#46039f"
             ],
             [
              0.2222222222222222,
              "#7201a8"
             ],
             [
              0.3333333333333333,
              "#9c179e"
             ],
             [
              0.4444444444444444,
              "#bd3786"
             ],
             [
              0.5555555555555556,
              "#d8576b"
             ],
             [
              0.6666666666666666,
              "#ed7953"
             ],
             [
              0.7777777777777778,
              "#fb9f3a"
             ],
             [
              0.8888888888888888,
              "#fdca26"
             ],
             [
              1,
              "#f0f921"
             ]
            ],
            "type": "surface"
           }
          ],
          "table": [
           {
            "cells": {
             "fill": {
              "color": "#EBF0F8"
             },
             "line": {
              "color": "white"
             }
            },
            "header": {
             "fill": {
              "color": "#C8D4E3"
             },
             "line": {
              "color": "white"
             }
            },
            "type": "table"
           }
          ]
         },
         "layout": {
          "annotationdefaults": {
           "arrowcolor": "#2a3f5f",
           "arrowhead": 0,
           "arrowwidth": 1
          },
          "autotypenumbers": "strict",
          "coloraxis": {
           "colorbar": {
            "outlinewidth": 0,
            "ticks": ""
           }
          },
          "colorscale": {
           "diverging": [
            [
             0,
             "#8e0152"
            ],
            [
             0.1,
             "#c51b7d"
            ],
            [
             0.2,
             "#de77ae"
            ],
            [
             0.3,
             "#f1b6da"
            ],
            [
             0.4,
             "#fde0ef"
            ],
            [
             0.5,
             "#f7f7f7"
            ],
            [
             0.6,
             "#e6f5d0"
            ],
            [
             0.7,
             "#b8e186"
            ],
            [
             0.8,
             "#7fbc41"
            ],
            [
             0.9,
             "#4d9221"
            ],
            [
             1,
             "#276419"
            ]
           ],
           "sequential": [
            [
             0,
             "#0d0887"
            ],
            [
             0.1111111111111111,
             "#46039f"
            ],
            [
             0.2222222222222222,
             "#7201a8"
            ],
            [
             0.3333333333333333,
             "#9c179e"
            ],
            [
             0.4444444444444444,
             "#bd3786"
            ],
            [
             0.5555555555555556,
             "#d8576b"
            ],
            [
             0.6666666666666666,
             "#ed7953"
            ],
            [
             0.7777777777777778,
             "#fb9f3a"
            ],
            [
             0.8888888888888888,
             "#fdca26"
            ],
            [
             1,
             "#f0f921"
            ]
           ],
           "sequentialminus": [
            [
             0,
             "#0d0887"
            ],
            [
             0.1111111111111111,
             "#46039f"
            ],
            [
             0.2222222222222222,
             "#7201a8"
            ],
            [
             0.3333333333333333,
             "#9c179e"
            ],
            [
             0.4444444444444444,
             "#bd3786"
            ],
            [
             0.5555555555555556,
             "#d8576b"
            ],
            [
             0.6666666666666666,
             "#ed7953"
            ],
            [
             0.7777777777777778,
             "#fb9f3a"
            ],
            [
             0.8888888888888888,
             "#fdca26"
            ],
            [
             1,
             "#f0f921"
            ]
           ]
          },
          "colorway": [
           "#636efa",
           "#EF553B",
           "#00cc96",
           "#ab63fa",
           "#FFA15A",
           "#19d3f3",
           "#FF6692",
           "#B6E880",
           "#FF97FF",
           "#FECB52"
          ],
          "font": {
           "color": "#2a3f5f"
          },
          "geo": {
           "bgcolor": "white",
           "lakecolor": "white",
           "landcolor": "#E5ECF6",
           "showlakes": true,
           "showland": true,
           "subunitcolor": "white"
          },
          "hoverlabel": {
           "align": "left"
          },
          "hovermode": "closest",
          "mapbox": {
           "style": "light"
          },
          "paper_bgcolor": "white",
          "plot_bgcolor": "#E5ECF6",
          "polar": {
           "angularaxis": {
            "gridcolor": "white",
            "linecolor": "white",
            "ticks": ""
           },
           "bgcolor": "#E5ECF6",
           "radialaxis": {
            "gridcolor": "white",
            "linecolor": "white",
            "ticks": ""
           }
          },
          "scene": {
           "xaxis": {
            "backgroundcolor": "#E5ECF6",
            "gridcolor": "white",
            "gridwidth": 2,
            "linecolor": "white",
            "showbackground": true,
            "ticks": "",
            "zerolinecolor": "white"
           },
           "yaxis": {
            "backgroundcolor": "#E5ECF6",
            "gridcolor": "white",
            "gridwidth": 2,
            "linecolor": "white",
            "showbackground": true,
            "ticks": "",
            "zerolinecolor": "white"
           },
           "zaxis": {
            "backgroundcolor": "#E5ECF6",
            "gridcolor": "white",
            "gridwidth": 2,
            "linecolor": "white",
            "showbackground": true,
            "ticks": "",
            "zerolinecolor": "white"
           }
          },
          "shapedefaults": {
           "line": {
            "color": "#2a3f5f"
           }
          },
          "ternary": {
           "aaxis": {
            "gridcolor": "white",
            "linecolor": "white",
            "ticks": ""
           },
           "baxis": {
            "gridcolor": "white",
            "linecolor": "white",
            "ticks": ""
           },
           "bgcolor": "#E5ECF6",
           "caxis": {
            "gridcolor": "white",
            "linecolor": "white",
            "ticks": ""
           }
          },
          "title": {
           "x": 0.05
          },
          "xaxis": {
           "automargin": true,
           "gridcolor": "white",
           "linecolor": "white",
           "ticks": "",
           "title": {
            "standoff": 15
           },
           "zerolinecolor": "white",
           "zerolinewidth": 2
          },
          "yaxis": {
           "automargin": true,
           "gridcolor": "white",
           "linecolor": "white",
           "ticks": "",
           "title": {
            "standoff": 15
           },
           "zerolinecolor": "white",
           "zerolinewidth": 2
          }
         }
        },
        "title": {
         "text": "ridge"
        },
        "xaxis": {
         "ticklen": 5,
         "title": {
          "text": "World Rank"
         }
        }
       }
      }
     },
     "metadata": {},
     "output_type": "display_data"
    }
   ],
   "source": [
    "ridge = Ridge(alpha=0.35)\n",
    "ridge.fit(X_train, y_train)\n",
    "    \n",
    "coef_ridge.append(ridge.coef_)\n",
    "    \n",
    "pred_ridge = ridge.predict(X_test)\n",
    "ridge_error = np.sqrt(metrics.mean_absolute_error(pred_ridge, y_test))\n",
    "\n",
    "print(\"RMSE\", ridge_error, )\n",
    "\n",
    "\n",
    "print(\"RMSE:\", np.sqrt(mean_absolute_error(y_test, pred_ridge)))\n",
    "print(\"_\"*30)\n",
    "print(\"R2 train\", ridge.score(X_train, y_train))\n",
    "print(\"R2 test\",ridge.score(X_test, y_test))\n",
    "print(cross_validate(ridge, X_train, y_train, cv=5)[\"test_score\"].mean())\n",
    "\n",
    "\n",
    "from plotly.offline import init_notebook_mode, iplot\n",
    "import plotly.graph_objs as go\n",
    "trace1 = go.Scatter(\n",
    "                    x =y_test ,\n",
    "                    y = pred_ridge,\n",
    "                    name = 'citations',\n",
    "                    mode= \"markers\",\n",
    "                    marker = dict(color = 'rgba(16, 112, 2, 0.8)'))\n",
    "data = [trace1]\n",
    "\n",
    "layout = dict(title = \"ridge\",\n",
    "             xaxis= dict(title= 'World Rank',ticklen= 5)\n",
    "           )\n",
    "\n",
    "fig = go.Figure(data = data, layout=layout)\n",
    "\n",
    "iplot(fig)\n"
   ]
  }
 ],
 "metadata": {
  "kernelspec": {
   "display_name": ".venv",
   "language": "python",
   "name": "python3"
  },
  "language_info": {
   "codemirror_mode": {
    "name": "ipython",
    "version": 3
   },
   "file_extension": ".py",
   "mimetype": "text/x-python",
   "name": "python",
   "nbconvert_exporter": "python",
   "pygments_lexer": "ipython3",
   "version": "3.12.8"
  }
 },
 "nbformat": 4,
 "nbformat_minor": 5
}
